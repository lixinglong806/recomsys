{
 "cells": [
  {
   "cell_type": "markdown",
   "metadata": {},
   "source": [
    "## 埋点日志数据处理\n",
    "\n",
    "#### 埋点日志\n",
    "\n",
    "埋点就是在应用中特定的流程收集一些信息，用来跟踪应用使用的状况，后续用来进一步优化产品或是提供运营的数据支撑。比如用于作为用于实现个性化推荐的数据支撑。\n",
    "\n",
    "埋点方式主流的无非两种方式：\n",
    "\n",
    "- 自行研发：在研发的产品中注入代码进行统计，并搭建起相应的后台查询和处理\n",
    "- 第三方平台：第三方统计工具，如友盟、百度移动等\n",
    "\n",
    "\n",
    "埋点日志主要分为类型：\n",
    "- 曝光日志：商品被展示到页面被称为曝光，曝光日志也就是指商品一旦被展示出来，则记录一条曝光日志\n",
    "    - 曝光时间\n",
    "    - 曝光场景\n",
    "    - 用户唯一标识\n",
    "    - 商品ID\n",
    "    - 商品类别ID\n",
    "- 点击流日志：用户浏览、收藏、加购物车、购买、评论、搜索等行为记录日志\n",
    "    - 被曝光时间：对应曝光日志的曝光时间(浏览)\n",
    "    - 被曝光场景：对应曝光日志的曝光场景(浏览)\n",
    "    - 用户唯一标识\n",
    "    - 行为时间\n",
    "    - 行为类型\n",
    "    - 商品ID\n",
    "    - 商品类别ID\n",
    "    - 停留时长(浏览)\n",
    "    - 评分(评论)\n",
    "    - 搜索词(搜索)\n",
    "\n",
    "#### 埋点日志意义\n",
    "\n",
    "用户行为偏好分析\n",
    "- 利用点击流日志分析个体/群体用户的行为特征，预测出用户行为的偏好\n",
    "\n",
    "统计指标分析\n",
    "- 点击率：顾名思义被点击的概率，计算公式通常是：点击次数/曝光次数。如某商品共曝光或展示了100次，曝光后总共被点击了10次，那么点击率则是10%\n",
    "- 跳出率：用户访问一个页面后，之后没有再也没有其他操作，称为跳出，计算公式常用的是：访问一次就退出的访问量/总的访问量\n",
    "    - 整体(整个板块/应用)跳出率\n",
    "    - 单页面的跳出率。如某页面共计有100个用户访问，但其中有10个用户访问当前页面后就再也没有其他访问了，那么当前页面的跳出率是10%\n",
    "- 转化率：电商中的转化率计算：商品订单成交量/商品访问量。如某商品累计访问量是100个，最终提交订单的只有5个，那么该商品转化率就是5%\n",
    "\n",
    "注意：跳出率和转化率中的访问量指的是独立用户访问量。独立用户访问量：首先独立用户访问量并不等价于来访问的总用户个数。比如某用户A在1月1日访问了商品1，1月2日又访问了商品1，那么这里商品1的访问量应算作2次，而不是1次。"
   ]
  },
  {
   "cell_type": "code",
   "execution_count": 1,
   "metadata": {},
   "outputs": [],
   "source": [
    "import logging#log：记录\n",
    "\n",
    "def get_logger(logger_name, path, level):\n",
    "    \n",
    "    # 创建logger\n",
    "    logger = logging.getLogger(logger_name)\n",
    "    # level:  OFF、FATAL、ERROR、WARN、INFO、DEBUG、ALL或者自己定义的级别\n",
    "    logger.setLevel(level)\n",
    "\n",
    "    # 创建formatter\n",
    "    # %(asctime)s: 打印日志的时间\n",
    "    # %(message)s: 打印日志信息\n",
    "    fmt = '%(asctime)s: %(message)s'\n",
    "    datefmt = '%Y/%m/%d %H:%M:%S'\n",
    "    formatter = logging.Formatter(fmt,datefmt)\n",
    "\n",
    "    # 创建handler\n",
    "    # FileHandler：writes formatted logging records to disk files\n",
    "    handler = logging.FileHandler(path)\n",
    "    handler.setLevel(level)\n",
    "\n",
    "    # 添加handler和formatter 到 logger\n",
    "    handler.setFormatter(formatter)\n",
    "    logger.addHandler(handler)\n",
    "\n",
    "    return logger"
   ]
  },
  {
   "cell_type": "code",
   "execution_count": 14,
   "metadata": {},
   "outputs": [],
   "source": [
    "import time \n",
    "import logging\n",
    "\n",
    "exposure_logger = get_logger('exposure','/root/workspace/3.rs_project/project2/meiduoSourceCode/logs/exposure.log',\\\n",
    "                             logging.DEBUG)\n",
    "# 曝光日志\n",
    "exposure_timesteamp = time.time()\n",
    "exposure_loc = 'detail'\n",
    "uid = 1\n",
    "sku_id = 1\n",
    "cate_id = 1\n"
   ]
  },
  {
   "cell_type": "code",
   "execution_count": 15,
   "metadata": {},
   "outputs": [],
   "source": [
    "exposure_logger.info(\"exposure_timesteamp<%d> exposure_loc<%s> uid<%d> sku_id<%d> cate_id<%d>\"\\\n",
    "                     %(exposure_timesteamp, exposure_loc, uid, sku_id, cate_id))"
   ]
  },
  {
   "cell_type": "code",
   "execution_count": 16,
   "metadata": {
    "scrolled": true
   },
   "outputs": [
    {
     "name": "stdout",
     "output_type": "stream",
     "text": [
      "2020/12/23 21:16:43:exposure_timesteamp<1608729319> exposure_loc<detail> uid<1> sku_id<1> cate_id<1>\r\n",
      "2020/12/23 21:21:21:exposure_timesteamp<1608729679> exposure_loc<detail> uid<1> sku_id<1> cate_id<1>\r\n",
      "2020/12/23 21:21:21: exposure_timesteamp<1608729679> exposure_loc<detail> uid<1> sku_id<1> cate_id<1>\r\n",
      "2020/12/24 11:09:20: exposure_timesteamp<1608779359> exposure_loc<detail> uid<1> sku_id<1> cate_id<1>\r\n",
      "2020/12/24 11:09:20: exposure_timesteamp<1608779359> exposure_loc<detail> uid<1> sku_id<1> cate_id<1>\r\n"
     ]
    }
   ],
   "source": [
    "# 每运行上条指令一次，就会在log中记录一条信息\n",
    "# 显示最后五条信息\n",
    "!cat /root/workspace/3.rs_project/project2/meiduoSourceCode/logs/exposure.log | tail -5"
   ]
  },
  {
   "cell_type": "code",
   "execution_count": 17,
   "metadata": {},
   "outputs": [],
   "source": [
    "import time\n",
    "import logging\n",
    "click_trace_logger = get_logger('click_trace','/root/workspace/3.rs_project/project2/meiduoSourceCode/logs/click_trace.log',\\\n",
    "                               logging.DEBUG)"
   ]
  },
  {
   "cell_type": "code",
   "execution_count": 18,
   "metadata": {},
   "outputs": [],
   "source": [
    "# 点击流日志\n",
    "exposure_timesteamp = exposure_timesteamp\n",
    "exposure_loc = exposure_loc\n",
    "timesteamp = time.time()\n",
    "behavior = 'pv' # pv fav cart buy\n",
    "uid = 1\n",
    "sku_id = 1\n",
    "cate_id = 1\n",
    "stay_time = 60\n",
    "# 假设某点击流日志记录格式如下：\n",
    "click_trace_logger.info(\"exposure_timesteamp<%d> exposure_loc<%s> timesteamp<%d> behavior<%s> uid<%d> sku_id<%d> cate_id<%d> stay_time<%d>\"\\\n",
    "                        %(exposure_timesteamp, exposure_loc, timesteamp, behavior, uid, sku_id, cate_id, stay_time))\n"
   ]
  },
  {
   "cell_type": "code",
   "execution_count": 19,
   "metadata": {
    "scrolled": true
   },
   "outputs": [
    {
     "name": "stdout",
     "output_type": "stream",
     "text": [
      "2018/11/30 03:20:24: exposure_timesteamp<1543519181> exposure_loc<detail> timesteamp<1543519224> behavior<pv> uid<1> sku_id<1> cate_id<1> stay_time<60>\r\n",
      "2018/11/30 11:54:45: exposure_timesteamp<1543519181> exposure_loc<detail> timesteamp<1543550085> behavior<pv> uid<1> sku_id<1> cate_id<1> stay_time<60>\r\n",
      "2018/11/30 11:54:45: exposure_timesteamp<1543519181> exposure_loc<detail> timesteamp<1543550085> behavior<pv> uid<1> sku_id<1> cate_id<1> stay_time<60>\r\n",
      "2018/11/30 13:17:16: exposure_timesteamp<1543519181> exposure_loc<detail> timesteamp<1543555036> behavior<pv> uid<1> sku_id<1> cate_id<1> stay_time<60>\r\n",
      "2018/11/30 13:17:16: exposure_timesteamp<1543519181> exposure_loc<detail> timesteamp<1543555036> behavior<pv> uid<1> sku_id<1> cate_id<1> stay_time<60>\r\n",
      "2018/11/30 13:17:16: exposure_timesteamp<1543519181> exposure_loc<detail> timesteamp<1543555036> behavior<pv> uid<1> sku_id<1> cate_id<1> stay_time<60>\r\n",
      "2018/11/30 13:18:16: exposure_timesteamp<1543555093> exposure_loc<detail> timesteamp<1543555096> behavior<pv> uid<1> sku_id<1> cate_id<1> stay_time<60>\r\n",
      "2018/11/30 13:18:16: exposure_timesteamp<1543555093> exposure_loc<detail> timesteamp<1543555096> behavior<pv> uid<1> sku_id<1> cate_id<1> stay_time<60>\r\n",
      "2018/11/30 13:18:16: exposure_timesteamp<1543555093> exposure_loc<detail> timesteamp<1543555096> behavior<pv> uid<1> sku_id<1> cate_id<1> stay_time<60>\r\n",
      "2018/11/30 13:18:16: exposure_timesteamp<1543555093> exposure_loc<detail> timesteamp<1543555096> behavior<pv> uid<1> sku_id<1> cate_id<1> stay_time<60>\r\n",
      "2018/11/30 13:20:28: exposure_timesteamp<1543555093> exposure_loc<detail> timesteamp<1543555228> behavior<pv> uid<1> sku_id<1> cate_id<1> stay_time<60>\r\n",
      "2018/11/30 13:20:28: exposure_timesteamp<1543555093> exposure_loc<detail> timesteamp<1543555228> behavior<pv> uid<1> sku_id<1> cate_id<1> stay_time<60>\r\n",
      "2018/11/30 13:20:28: exposure_timesteamp<1543555093> exposure_loc<detail> timesteamp<1543555228> behavior<pv> uid<1> sku_id<1> cate_id<1> stay_time<60>\r\n",
      "2018/11/30 13:20:28: exposure_timesteamp<1543555093> exposure_loc<detail> timesteamp<1543555228> behavior<pv> uid<1> sku_id<1> cate_id<1> stay_time<60>\r\n",
      "2018/11/30 13:20:28: exposure_timesteamp<1543555093> exposure_loc<detail> timesteamp<1543555228> behavior<pv> uid<1> sku_id<1> cate_id<1> stay_time<60>\r\n",
      "2018/11/30 13:21:08: exposure_timesteamp<1543555093> exposure_loc<detail> timesteamp<1543555268> behavior<pv> uid<1> sku_id<1> cate_id<1> stay_time<60>\r\n",
      "2018/11/30 13:21:08: exposure_timesteamp<1543555093> exposure_loc<detail> timesteamp<1543555268> behavior<pv> uid<1> sku_id<1> cate_id<1> stay_time<60>\r\n",
      "2018/11/30 13:21:08: exposure_timesteamp<1543555093> exposure_loc<detail> timesteamp<1543555268> behavior<pv> uid<1> sku_id<1> cate_id<1> stay_time<60>\r\n",
      "2018/11/30 13:21:08: exposure_timesteamp<1543555093> exposure_loc<detail> timesteamp<1543555268> behavior<pv> uid<1> sku_id<1> cate_id<1> stay_time<60>\r\n",
      "2018/11/30 13:21:08: exposure_timesteamp<1543555093> exposure_loc<detail> timesteamp<1543555268> behavior<pv> uid<1> sku_id<1> cate_id<1> stay_time<60>\r\n",
      "2018/11/30 13:21:08: exposure_timesteamp<1543555093> exposure_loc<detail> timesteamp<1543555268> behavior<pv> uid<1> sku_id<1> cate_id<1> stay_time<60>\r\n",
      "2018/11/30 13:28:37: exposure_timesteamp<1543555093> exposure_loc<detail> timesteamp<1543555717> behavior<pv> uid<1> sku_id<1> cate_id<1> stay_time<60>\r\n",
      "2018/11/30 13:28:37: exposure_timesteamp<1543555093> exposure_loc<detail> timesteamp<1543555717> behavior<pv> uid<1> sku_id<1> cate_id<1> stay_time<60>\r\n",
      "2018/11/30 13:28:37: exposure_timesteamp<1543555093> exposure_loc<detail> timesteamp<1543555717> behavior<pv> uid<1> sku_id<1> cate_id<1> stay_time<60>\r\n",
      "2018/11/30 13:28:37: exposure_timesteamp<1543555093> exposure_loc<detail> timesteamp<1543555717> behavior<pv> uid<1> sku_id<1> cate_id<1> stay_time<60>\r\n",
      "2018/11/30 13:28:37: exposure_timesteamp<1543555093> exposure_loc<detail> timesteamp<1543555717> behavior<pv> uid<1> sku_id<1> cate_id<1> stay_time<60>\r\n",
      "2018/11/30 13:28:37: exposure_timesteamp<1543555093> exposure_loc<detail> timesteamp<1543555717> behavior<pv> uid<1> sku_id<1> cate_id<1> stay_time<60>\r\n",
      "2018/11/30 13:28:37: exposure_timesteamp<1543555093> exposure_loc<detail> timesteamp<1543555717> behavior<pv> uid<1> sku_id<1> cate_id<1> stay_time<60>\r\n",
      "2018/12/01 01:48:13: exposure_timesteamp<1543600079> exposure_loc<detail> timesteamp<1543600093> behavior<pv> uid<1> sku_id<1> cate_id<1> stay_time<60>\r\n",
      "2018/12/01 01:49:24: exposure_timesteamp<1543600079> exposure_loc<detail> timesteamp<1543600093> behavior<pv> uid<1> sku_id<1> cate_id<1> stay_time<60>\r\n",
      "2018/12/01 01:52:56: exposure_timesteamp<1543600373> exposure_loc<detail> timesteamp<1543600375> behavior<pv> uid<1> sku_id<1> cate_id<1> stay_time<60>\r\n",
      "2018/12/01 01:55:14: exposure_timesteamp<1543600373> exposure_loc<detail> timesteamp<1543600375> behavior<pv> uid<1> sku_id<1> cate_id<1> stay_time<60>\r\n",
      "2018/12/01 01:57:50: exposure_timesteamp<1543600666> exposure_loc<detail> timesteamp<1543600669> behavior<pv> uid<1> sku_id<1> cate_id<1> stay_time<60>\r\n",
      "2018/12/01 02:17:30: exposure_timesteamp<1543601846> exposure_loc<detail> timesteamp<1543601850> behavior<pv> uid<1> sku_id<1> cate_id<1> stay_time<60>\r\n",
      "2018/12/01 02:17:30: exposure_timesteamp<1543601846> exposure_loc<detail> timesteamp<1543601850> behavior<pv> uid<1> sku_id<1> cate_id<1> stay_time<60>\r\n",
      "2018/12/01 02:17:54: exposure_timesteamp<1543601846> exposure_loc<detail> timesteamp<1543601850> behavior<pv> uid<1> sku_id<1> cate_id<1> stay_time<60>\r\n",
      "2018/12/01 02:17:54: exposure_timesteamp<1543601846> exposure_loc<detail> timesteamp<1543601850> behavior<pv> uid<1> sku_id<1> cate_id<1> stay_time<60>\r\n",
      "2018/12/01 02:18:06: exposure_timesteamp<1543601846> exposure_loc<detail> timesteamp<1543601850> behavior<pv> uid<1> sku_id<1> cate_id<1> stay_time<60>\r\n",
      "2018/12/01 02:18:06: exposure_timesteamp<1543601846> exposure_loc<detail> timesteamp<1543601850> behavior<pv> uid<1> sku_id<1> cate_id<1> stay_time<60>\r\n",
      "2018/12/01 02:20:28: exposure_timesteamp<1543601846> exposure_loc<detail> timesteamp<1543601850> behavior<pv> uid<1> sku_id<1> cate_id<1> stay_time<60>\r\n",
      "2018/12/01 02:20:28: exposure_timesteamp<1543601846> exposure_loc<detail> timesteamp<1543601850> behavior<pv> uid<1> sku_id<1> cate_id<1> stay_time<60>\r\n",
      "2018/12/01 02:20:50: exposure_timesteamp<1543601846> exposure_loc<detail> timesteamp<1543602050> behavior<pv> uid<1> sku_id<1> cate_id<1> stay_time<60>\r\n",
      "2018/12/01 02:20:50: exposure_timesteamp<1543601846> exposure_loc<detail> timesteamp<1543602050> behavior<pv> uid<1> sku_id<1> cate_id<1> stay_time<60>\r\n",
      "2018/12/01 02:25:39: exposure_timesteamp<1543601846> exposure_loc<detail> timesteamp<1543602339> behavior<pv> uid<1> sku_id<1> cate_id<1> stay_time<60>\r\n",
      "2018/12/01 02:25:39: exposure_timesteamp<1543601846> exposure_loc<detail> timesteamp<1543602339> behavior<pv> uid<1> sku_id<1> cate_id<1> stay_time<60>\r\n",
      "2018/12/01 02:25:49: exposure_timesteamp<1543601846> exposure_loc<detail> timesteamp<1543602349> behavior<pv> uid<1> sku_id<1> cate_id<1> stay_time<60>\r\n",
      "2018/12/01 02:25:49: exposure_timesteamp<1543601846> exposure_loc<detail> timesteamp<1543602349> behavior<pv> uid<1> sku_id<1> cate_id<1> stay_time<60>\r\n",
      "2018/12/01 02:27:44: exposure_timesteamp<1543601846> exposure_loc<detail> timesteamp<1543602464> behavior<pv> uid<1> sku_id<1> cate_id<1> stay_time<60>\r\n",
      "2018/12/01 02:27:44: exposure_timesteamp<1543601846> exposure_loc<detail> timesteamp<1543602464> behavior<pv> uid<1> sku_id<1> cate_id<1> stay_time<60>\r\n",
      "2018/12/01 02:27:46: exposure_timesteamp<1543601846> exposure_loc<detail> timesteamp<1543602466> behavior<pv> uid<1> sku_id<1> cate_id<1> stay_time<60>\r\n",
      "2018/12/01 02:27:46: exposure_timesteamp<1543601846> exposure_loc<detail> timesteamp<1543602466> behavior<pv> uid<1> sku_id<1> cate_id<1> stay_time<60>\r\n",
      "2018/12/01 02:27:48: exposure_timesteamp<1543601846> exposure_loc<detail> timesteamp<1543602468> behavior<pv> uid<1> sku_id<1> cate_id<1> stay_time<60>\r\n",
      "2018/12/01 02:27:48: exposure_timesteamp<1543601846> exposure_loc<detail> timesteamp<1543602468> behavior<pv> uid<1> sku_id<1> cate_id<1> stay_time<60>\r\n",
      "2018/12/01 02:30:54: exposure_timesteamp<1543601846> exposure_loc<detail> timesteamp<1543602654> behavior<pv> uid<1> sku_id<1> cate_id<1> stay_time<60>\r\n",
      "2018/12/01 02:30:54: exposure_timesteamp<1543601846> exposure_loc<detail> timesteamp<1543602654> behavior<pv> uid<1> sku_id<1> cate_id<1> stay_time<60>\r\n",
      "2018/12/01 02:30:56: exposure_timesteamp<1543601846> exposure_loc<detail> timesteamp<1543602656> behavior<pv> uid<1> sku_id<1> cate_id<1> stay_time<60>\r\n",
      "2018/12/01 02:30:56: exposure_timesteamp<1543601846> exposure_loc<detail> timesteamp<1543602656> behavior<pv> uid<1> sku_id<1> cate_id<1> stay_time<60>\r\n",
      "2018/12/01 02:31:37: exposure_timesteamp<1543601846> exposure_loc<detail> timesteamp<1543602697> behavior<pv> uid<1> sku_id<1> cate_id<1> stay_time<60>\r\n",
      "2018/12/01 02:31:37: exposure_timesteamp<1543601846> exposure_loc<detail> timesteamp<1543602697> behavior<pv> uid<1> sku_id<1> cate_id<1> stay_time<60>\r\n",
      "2018/12/01 02:31:39: exposure_timesteamp<1543601846> exposure_loc<detail> timesteamp<1543602699> behavior<pv> uid<1> sku_id<1> cate_id<1> stay_time<60>\r\n",
      "2018/12/01 02:31:39: exposure_timesteamp<1543601846> exposure_loc<detail> timesteamp<1543602699> behavior<pv> uid<1> sku_id<1> cate_id<1> stay_time<60>\r\n",
      "2018/12/01 02:33:08: exposure_timesteamp<1543601846> exposure_loc<detail> timesteamp<1543602788> behavior<pv> uid<1> sku_id<1> cate_id<1> stay_time<60>\r\n",
      "2018/12/01 02:33:08: exposure_timesteamp<1543601846> exposure_loc<detail> timesteamp<1543602788> behavior<pv> uid<1> sku_id<1> cate_id<1> stay_time<60>\r\n",
      "2018/12/01 02:33:20: exposure_timesteamp<1543601846> exposure_loc<detail> timesteamp<1543602800> behavior<pv> uid<1> sku_id<1> cate_id<1> stay_time<60>\r\n",
      "2018/12/01 02:33:20: exposure_timesteamp<1543601846> exposure_loc<detail> timesteamp<1543602800> behavior<pv> uid<1> sku_id<1> cate_id<1> stay_time<60>\r\n",
      "2018/12/01 02:33:26: exposure_timesteamp<1543601846> exposure_loc<detail> timesteamp<1543602806> behavior<pv> uid<1> sku_id<1> cate_id<1> stay_time<60>\r\n",
      "2018/12/01 02:33:26: exposure_timesteamp<1543601846> exposure_loc<detail> timesteamp<1543602806> behavior<pv> uid<1> sku_id<1> cate_id<1> stay_time<60>\r\n",
      "2018/12/01 02:34:28: exposure_timesteamp<1543601846> exposure_loc<detail> timesteamp<1543602868> behavior<pv> uid<1> sku_id<1> cate_id<1> stay_time<60>\r\n",
      "2018/12/01 02:34:28: exposure_timesteamp<1543601846> exposure_loc<detail> timesteamp<1543602868> behavior<pv> uid<1> sku_id<1> cate_id<1> stay_time<60>\r\n",
      "2018/12/01 02:34:29: exposure_timesteamp<1543601846> exposure_loc<detail> timesteamp<1543602869> behavior<pv> uid<1> sku_id<1> cate_id<1> stay_time<60>\r\n",
      "2018/12/01 02:34:29: exposure_timesteamp<1543601846> exposure_loc<detail> timesteamp<1543602869> behavior<pv> uid<1> sku_id<1> cate_id<1> stay_time<60>\r\n",
      "2018/12/01 02:34:30: exposure_timesteamp<1543601846> exposure_loc<detail> timesteamp<1543602870> behavior<pv> uid<1> sku_id<1> cate_id<1> stay_time<60>\r\n",
      "2018/12/01 02:34:30: exposure_timesteamp<1543601846> exposure_loc<detail> timesteamp<1543602870> behavior<pv> uid<1> sku_id<1> cate_id<1> stay_time<60>\r\n",
      "2018/12/01 02:34:31: exposure_timesteamp<1543601846> exposure_loc<detail> timesteamp<1543602871> behavior<pv> uid<1> sku_id<1> cate_id<1> stay_time<60>\r\n",
      "2018/12/01 02:34:31: exposure_timesteamp<1543601846> exposure_loc<detail> timesteamp<1543602871> behavior<pv> uid<1> sku_id<1> cate_id<1> stay_time<60>\r\n",
      "2018/12/01 02:35:13: exposure_timesteamp<1543601846> exposure_loc<detail> timesteamp<1543602913> behavior<pv> uid<1> sku_id<1> cate_id<1> stay_time<60>\r\n",
      "2018/12/01 02:35:13: exposure_timesteamp<1543601846> exposure_loc<detail> timesteamp<1543602913> behavior<pv> uid<1> sku_id<1> cate_id<1> stay_time<60>\r\n",
      "2018/12/01 02:35:14: exposure_timesteamp<1543601846> exposure_loc<detail> timesteamp<1543602914> behavior<pv> uid<1> sku_id<1> cate_id<1> stay_time<60>\r\n",
      "2018/12/01 02:35:14: exposure_timesteamp<1543601846> exposure_loc<detail> timesteamp<1543602914> behavior<pv> uid<1> sku_id<1> cate_id<1> stay_time<60>\r\n",
      "2018/12/01 02:35:15: exposure_timesteamp<1543601846> exposure_loc<detail> timesteamp<1543602915> behavior<pv> uid<1> sku_id<1> cate_id<1> stay_time<60>\r\n",
      "2018/12/01 02:35:15: exposure_timesteamp<1543601846> exposure_loc<detail> timesteamp<1543602915> behavior<pv> uid<1> sku_id<1> cate_id<1> stay_time<60>\r\n",
      "2018/12/01 02:37:10: exposure_timesteamp<1543601846> exposure_loc<detail> timesteamp<1543603030> behavior<pv> uid<1> sku_id<1> cate_id<1> stay_time<60>\r\n",
      "2018/12/01 02:37:10: exposure_timesteamp<1543601846> exposure_loc<detail> timesteamp<1543603030> behavior<pv> uid<1> sku_id<1> cate_id<1> stay_time<60>\r\n",
      "2018/12/01 02:37:11: exposure_timesteamp<1543601846> exposure_loc<detail> timesteamp<1543603031> behavior<pv> uid<1> sku_id<1> cate_id<1> stay_time<60>\r\n",
      "2018/12/01 02:37:11: exposure_timesteamp<1543601846> exposure_loc<detail> timesteamp<1543603031> behavior<pv> uid<1> sku_id<1> cate_id<1> stay_time<60>\r\n",
      "2018/12/01 02:37:13: exposure_timesteamp<1543601846> exposure_loc<detail> timesteamp<1543603033> behavior<pv> uid<1> sku_id<1> cate_id<1> stay_time<60>\r\n",
      "2018/12/01 02:37:13: exposure_timesteamp<1543601846> exposure_loc<detail> timesteamp<1543603033> behavior<pv> uid<1> sku_id<1> cate_id<1> stay_time<60>\r\n",
      "2018/12/01 02:38:24: exposure_timesteamp<1543603102> exposure_loc<detail> timesteamp<1543603104> behavior<pv> uid<1> sku_id<1> cate_id<1> stay_time<60>\r\n",
      "2018/12/01 02:38:26: exposure_timesteamp<1543603102> exposure_loc<detail> timesteamp<1543603106> behavior<pv> uid<1> sku_id<1> cate_id<1> stay_time<60>\r\n",
      "2018/12/01 02:38:27: exposure_timesteamp<1543603102> exposure_loc<detail> timesteamp<1543603107> behavior<pv> uid<1> sku_id<1> cate_id<1> stay_time<60>\r\n",
      "2018/12/01 02:38:28: exposure_timesteamp<1543603102> exposure_loc<detail> timesteamp<1543603108> behavior<pv> uid<1> sku_id<1> cate_id<1> stay_time<60>\r\n",
      "2018/12/01 02:40:29: exposure_timesteamp<1543603102> exposure_loc<detail> timesteamp<1543603229> behavior<pv> uid<1> sku_id<1> cate_id<1> stay_time<60>\r\n",
      "2018/12/01 02:40:31: exposure_timesteamp<1543603102> exposure_loc<detail> timesteamp<1543603231> behavior<pv> uid<1> sku_id<1> cate_id<1> stay_time<60>\r\n",
      "2018/12/01 02:41:56: exposure_timesteamp<1543603102> exposure_loc<detail> timesteamp<1543603316> behavior<pv> uid<1> sku_id<1> cate_id<1> stay_time<60>\r\n",
      "2018/12/01 02:41:57: exposure_timesteamp<1543603102> exposure_loc<detail> timesteamp<1543603317> behavior<pv> uid<1> sku_id<1> cate_id<1> stay_time<60>\r\n",
      "2018/12/01 02:43:18: exposure_timesteamp<1543603102> exposure_loc<detail> timesteamp<1543603398> behavior<pv> uid<1> sku_id<1> cate_id<1> stay_time<60>\r\n",
      "2018/12/01 02:43:19: exposure_timesteamp<1543603102> exposure_loc<detail> timesteamp<1543603399> behavior<pv> uid<1> sku_id<1> cate_id<1> stay_time<60>\r\n",
      "2018/12/01 02:43:20: exposure_timesteamp<1543603102> exposure_loc<detail> timesteamp<1543603400> behavior<pv> uid<1> sku_id<1> cate_id<1> stay_time<60>\r\n",
      "2018/12/01 02:43:21: exposure_timesteamp<1543603102> exposure_loc<detail> timesteamp<1543603401> behavior<pv> uid<1> sku_id<1> cate_id<1> stay_time<60>\r\n",
      "2018/12/01 13:13:28: exposure_timesteamp<1543641203> exposure_loc<detail> timesteamp<1543641208> behavior<pv> uid<1> sku_id<1> cate_id<1> stay_time<60>\r\n",
      "2018/12/01 13:16:01: exposure_timesteamp<1543641203> exposure_loc<detail> timesteamp<1543641361> behavior<pv> uid<1> sku_id<1> cate_id<1> stay_time<60>\r\n",
      "2018/12/01 13:16:03: exposure_timesteamp<1543641203> exposure_loc<detail> timesteamp<1543641363> behavior<pv> uid<1> sku_id<1> cate_id<1> stay_time<60>\r\n",
      "2020/12/23 21:32:33: exposure_timesteamp<1608729679> exposure_loc<detail> timesteamp<1608730353> behavior<pv> uid<1> sku_id<1> cate_id<1> stay_time<60>\r\n",
      "2020/12/24 11:09:22: exposure_timesteamp<1608779359> exposure_loc<detail> timesteamp<1608779362> behavior<pv> uid<1> sku_id<1> cate_id<1> stay_time<60>\r\n",
      "2020/12/24 11:09:22: exposure_timesteamp<1608779359> exposure_loc<detail> timesteamp<1608779362> behavior<pv> uid<1> sku_id<1> cate_id<1> stay_time<60>\r\n"
     ]
    }
   ],
   "source": [
    "!cat /root/workspace/3.rs_project/project2/meiduoSourceCode/logs/click_trace.log"
   ]
  },
  {
   "cell_type": "markdown",
   "metadata": {},
   "source": [
    "#### flume采集日志"
   ]
  },
  {
   "cell_type": "code",
   "execution_count": 20,
   "metadata": {},
   "outputs": [
    {
     "name": "stdout",
     "output_type": "stream",
     "text": [
      "Found 2 items\r\n",
      "drwxr-xr-x   - root supergroup          0 2020-12-24 08:55 /meiduo_mall/logs/click-trace\r\n",
      "drwxr-xr-x   - root supergroup          0 2020-12-23 22:31 /meiduo_mall/logs/click_trace\r\n"
     ]
    }
   ],
   "source": [
    "!hadoop fs -ls /meiduo_mall/logs"
   ]
  },
  {
   "cell_type": "code",
   "execution_count": 21,
   "metadata": {},
   "outputs": [
    {
     "data": {
      "text/plain": [
       "[('exposure_timesteamp', '1543601846'),\n",
       " ('exposure_loc', 'detail'),\n",
       " ('timesteamp', '1543602913'),\n",
       " ('behavior', 'pv'),\n",
       " ('uid', '1'),\n",
       " ('sku_id', '1'),\n",
       " ('cate_id', '1'),\n",
       " ('stay_time', '60')]"
      ]
     },
     "execution_count": 21,
     "metadata": {},
     "output_type": "execute_result"
    }
   ],
   "source": [
    "import re\n",
    "s = '2018/12/01 02:35:13: exposure_timesteamp<1543601846> exposure_loc<detail> timesteamp<1543602913> behavior<pv> uid<1> sku_id<1> cate_id<1> stay_time<60>'\n",
    "\n",
    "match = re.search(\"\\\n",
    "exposure_timesteamp<(?P<exposure_timesteamp>.*?)> \\\n",
    "exposure_loc<(?P<exposure_loc>.*?)> \\\n",
    "timesteamp<(?P<timesteamp>.*?)> \\\n",
    "behavior<(?P<behavior>.*?)> \\\n",
    "uid<(?P<uid>.*?)> \\\n",
    "sku_id<(?P<sku_id>.*?)> \\\n",
    "cate_id<(?P<cate_id>.*?)> \\\n",
    "stay_time<(?P<stay_time>.*?)>\", s)\n",
    "\n",
    "result = []\n",
    "if match:\n",
    "    result.append((\"exposure_timesteamp\", match.group(\"exposure_timesteamp\")))\n",
    "    result.append((\"exposure_loc\", match.group(\"exposure_loc\")))\n",
    "    result.append((\"timesteamp\", match.group(\"timesteamp\")))\n",
    "    result.append((\"behavior\", match.group(\"behavior\")))\n",
    "    result.append((\"uid\", match.group(\"uid\")))\n",
    "    result.append((\"sku_id\", match.group(\"sku_id\")))\n",
    "    result.append((\"cate_id\", match.group(\"cate_id\")))\n",
    "    result.append((\"stay_time\", match.group(\"stay_time\")))\n",
    "result"
   ]
  },
  {
   "cell_type": "code",
   "execution_count": null,
   "metadata": {},
   "outputs": [],
   "source": []
  }
 ],
 "metadata": {
  "kernelspec": {
   "display_name": "Python 3",
   "language": "python",
   "name": "python3"
  },
  "language_info": {
   "codemirror_mode": {
    "name": "ipython",
    "version": 3
   },
   "file_extension": ".py",
   "mimetype": "text/x-python",
   "name": "python",
   "nbconvert_exporter": "python",
   "pygments_lexer": "ipython3",
   "version": "3.7.6"
  }
 },
 "nbformat": 4,
 "nbformat_minor": 2
}
