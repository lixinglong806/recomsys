{
 "cells": [
  {
   "cell_type": "markdown",
   "metadata": {},
   "source": [
    "## 分析并预处理ad_feature数据集"
   ]
  },
  {
   "cell_type": "code",
   "execution_count": null,
   "metadata": {},
   "outputs": [],
   "source": [
    "'''=======分析结果：只选取price作为特征数据=======\n",
    " |-- cateId: integer (nullable = true)  脱敏过的商品类目ID  个数： 6769\n",
    " |-- campaignId: integer (nullable = true)  脱敏过的广告计划ID  个数： 423436\n",
    " |-- customerId: integer (nullable = true)  脱敏过的广告主ID  个数： 255875\n",
    " |-- brandId: integer (nullable = true)  脱敏过的品牌ID  个数： 6769\n",
    "\n",
    "以上四个特征均属于分类特征，但由于分类值个数均过于庞大，\n",
    "如果去做热独编码处理，会导致数据过于稀疏 \n",
    "且当前我们缺少对这些特征更加具体的信息，（如商品类目具体信息、品牌具体信息等），\n",
    "从而无法对这些特征的数据做聚类、降维处理 因此这里不选取它们作为特征\n",
    "\n",
    "而只选取price作为特征数据，因为价格本身是一个统计类型连续数值型数据，\n",
    "且能很好的体现广告的价值属性特征，通常也不需要做其他处理(离散化、归一化、标准化等)，\n",
    "所以这里直接将当做特征数据来使用\n",
    "'''"
   ]
  },
  {
   "cell_type": "code",
   "execution_count": 1,
   "metadata": {},
   "outputs": [],
   "source": [
    "import os\n",
    "# 配置pyspark和spark driver运行时 使用的python解释器\n",
    "JAVA_HOME = '/root/bigdata/jdk'\n",
    "PYSPARK_PYTHON = '/miniconda2/envs/py365/bin/python'\n",
    "# 当存在多个版本时，不指定很可能会导致出错\n",
    "os.environ['PYSPARK_PYTHON'] = PYSPARK_PYTHON\n",
    "os.environ['PYSPARK_DRIVER_PYTHON'] = PYSPARK_PYTHON\n",
    "os.environ['JAVA_HOME'] = JAVA_HOME\n",
    "# 配置spark信息\n",
    "from pyspark import SparkConf\n",
    "from pyspark.sql import SparkSession\n",
    "\n",
    "SPARK_APP_NAME = 'preprocessingAdFeature'\n",
    "SPARK_URL = 'spark://192.168.58.100:7077'\n",
    "\n",
    "conf = SparkConf()\n",
    "config = (\n",
    "    ('spark.app.name',SPARK_APP_NAME),# 设置启动的spark的app名称，没有提供，将随机产生一个名称\n",
    "    ('spark.executor.memory','2g'), # 设置该app启动时占用的内存用量，Memory per Executor 2G；默认1g\n",
    "    ('spark.master',SPARK_URL),\n",
    "    ('spark.executor.cores','2') # 设置spark executor使用的CPU核心数，三台共6cores\n",
    ")\n",
    "# 查看更详细配置及说明：https://spark.apache.org/docs/latest/configuration.html\n",
    "conf.setAll(config)\n",
    "\n",
    "spark = SparkSession.builder.config(conf=conf).getOrCreate()"
   ]
  },
  {
   "cell_type": "markdown",
   "metadata": {},
   "source": [
    "### 1. 从hdfs中加载广告基本信息数据"
   ]
  },
  {
   "cell_type": "code",
   "execution_count": 2,
   "metadata": {},
   "outputs": [
    {
     "name": "stdout",
     "output_type": "stream",
     "text": [
      "+----------+-------+-----------+--------+------+-----+\n",
      "|adgroup_id|cate_id|campaign_id|customer| brand|price|\n",
      "+----------+-------+-----------+--------+------+-----+\n",
      "|     63133|   6406|      83237|       1| 95471|170.0|\n",
      "|    313401|   6406|      83237|       1| 87331|199.0|\n",
      "|    248909|    392|      83237|       1| 32233| 38.0|\n",
      "|    208458|    392|      83237|       1|174374|139.0|\n",
      "|    110847|   7211|     135256|       2|145952|32.99|\n",
      "|    607788|   6261|     387991|       6|207800|199.0|\n",
      "|    375706|   4520|     387991|       6|  NULL| 99.0|\n",
      "|     11115|   7213|     139747|       9|186847| 33.0|\n",
      "|     24484|   7207|     139744|       9|186847| 19.0|\n",
      "|     28589|   5953|     395195|      13|  NULL|428.0|\n",
      "|     23236|   5953|     395195|      13|  NULL|368.0|\n",
      "|    300556|   5953|     395195|      13|  NULL|639.0|\n",
      "|     92560|   5953|     395195|      13|  NULL|368.0|\n",
      "|    590965|   4284|      28145|      14|454237|249.0|\n",
      "|    529913|   4284|      70206|      14|  NULL|249.0|\n",
      "|    546930|   4284|      28145|      14|  NULL|249.0|\n",
      "|    639794|   6261|      70206|      14| 37004| 89.9|\n",
      "|    335413|   4284|      28145|      14|  NULL|249.0|\n",
      "|    794890|   4284|      70206|      14|454237|249.0|\n",
      "|    684020|   6261|      70206|      14| 37004| 99.0|\n",
      "+----------+-------+-----------+--------+------+-----+\n",
      "only showing top 20 rows\n",
      "\n"
     ]
    }
   ],
   "source": [
    "df = spark.read.csv('/data/ad_feature.csv',header=True)\n",
    "df.show()"
   ]
  },
  {
   "cell_type": "code",
   "execution_count": 4,
   "metadata": {},
   "outputs": [
    {
     "name": "stdout",
     "output_type": "stream",
     "text": [
      "root\n",
      " |-- adgroup_id: string (nullable = true)\n",
      " |-- cate_id: string (nullable = true)\n",
      " |-- campaign_id: string (nullable = true)\n",
      " |-- customer: string (nullable = true)\n",
      " |-- brand: string (nullable = true)\n",
      " |-- price: string (nullable = true)\n",
      "\n"
     ]
    }
   ],
   "source": [
    "df.printSchema()\n",
    "#看到str类型的数据就要想到下一步是将某些行转换成数值型的数据"
   ]
  },
  {
   "cell_type": "code",
   "execution_count": 8,
   "metadata": {},
   "outputs": [
    {
     "name": "stdout",
     "output_type": "stream",
     "text": [
      "判断数据是否有空值：\n",
      "原始数据有846811行\n",
      "去掉空值后数据有846811行\n"
     ]
    },
    {
     "data": {
      "text/plain": [
       "'注意：看到dropna()前后行数没有变，但这不能说明没有null值，因为dropna()不能去掉str类型的null值\\n'"
      ]
     },
     "execution_count": 8,
     "metadata": {},
     "output_type": "execute_result"
    }
   ],
   "source": [
    "# 可跳过，该cell属于延申学习：验证dropna()不能去掉str类型的缺失值\n",
    "\n",
    "# pandas中选择某列使用df['某列的名字']，但是sparksql不能这样用，要使用sql语句，df.select('某列的名字')\n",
    "# 可以使用df['某列的名字'].cast(某种数据类型如Longtype())\n",
    "print('判断数据是否有空值：')\n",
    "print('原始数据有%d行'%df.count())\n",
    "# dropna()-某行数据有一个值是空值，就将该行删除，注意该方法不去掉str类型的null和NULL\n",
    "print('去掉空值后数据有%d行'%df.dropna().count())\n",
    "'''注意：看到dropna()前后行数没有变，但这不能说明没有null值，因为dropna()不能去掉str类型的缺失值\n",
    "'''"
   ]
  },
  {
   "cell_type": "code",
   "execution_count": 15,
   "metadata": {},
   "outputs": [
    {
     "name": "stdout",
     "output_type": "stream",
     "text": [
      "root\n",
      " |-- adgroup_id: string (nullable = true)\n",
      " |-- cate_id: string (nullable = true)\n",
      " |-- campaign_id: string (nullable = true)\n",
      " |-- customer: string (nullable = true)\n",
      " |-- brand: string (nullable = true)\n",
      " |-- price: string (nullable = true)\n",
      "\n",
      "root\n",
      " |-- adgroupId: integer (nullable = true)\n",
      " |-- cateId: integer (nullable = true)\n",
      " |-- campaignId: integer (nullable = true)\n",
      " |-- customerId: integer (nullable = true)\n",
      " |-- brandId: integer (nullable = true)\n",
      " |-- price: float (nullable = true)\n",
      "\n",
      "+---------+------+----------+----------+-------+-----+\n",
      "|adgroupId|cateId|campaignId|customerId|brandId|price|\n",
      "+---------+------+----------+----------+-------+-----+\n",
      "|    63133|  6406|     83237|         1|  95471|170.0|\n",
      "|   313401|  6406|     83237|         1|  87331|199.0|\n",
      "|   248909|   392|     83237|         1|  32233| 38.0|\n",
      "|   208458|   392|     83237|         1| 174374|139.0|\n",
      "|   110847|  7211|    135256|         2| 145952|32.99|\n",
      "|   607788|  6261|    387991|         6| 207800|199.0|\n",
      "|   375706|  4520|    387991|         6|   null| 99.0|\n",
      "|    11115|  7213|    139747|         9| 186847| 33.0|\n",
      "|    24484|  7207|    139744|         9| 186847| 19.0|\n",
      "|    28589|  5953|    395195|        13|   null|428.0|\n",
      "|    23236|  5953|    395195|        13|   null|368.0|\n",
      "|   300556|  5953|    395195|        13|   null|639.0|\n",
      "|    92560|  5953|    395195|        13|   null|368.0|\n",
      "|   590965|  4284|     28145|        14| 454237|249.0|\n",
      "|   529913|  4284|     70206|        14|   null|249.0|\n",
      "|   546930|  4284|     28145|        14|   null|249.0|\n",
      "|   639794|  6261|     70206|        14|  37004| 89.9|\n",
      "|   335413|  4284|     28145|        14|   null|249.0|\n",
      "|   794890|  4284|     70206|        14| 454237|249.0|\n",
      "|   684020|  6261|     70206|        14|  37004| 99.0|\n",
      "+---------+------+----------+----------+-------+-----+\n",
      "only showing top 20 rows\n",
      "\n"
     ]
    }
   ],
   "source": [
    "# 注意：由于本数据集中存在NULL字样的数据，无法直接设置schema，只能先将NULL类型的数据处理掉，然后进行类型转换\n",
    "# 如果直接schema，下图会变成下下图：\n",
    "# +----------+-------+-----------+--------+------+-----+\n",
    "# |adgroup_id|cate_id|campaign_id|customer| brand|price|\n",
    "# +----------+-------+-----------+--------+------+-----+\n",
    "# |    375706|   4520|     387991|       6|  NULL| 99.0|\n",
    "\n",
    "# +---------+------+----------+----------+-------+-----+\n",
    "# |adgroupId|cateId|campaignId|customerId|brandId|price|\n",
    "# +---------+------+----------+----------+-------+-----+\n",
    "# |     null|  null|      null|      null|   null| null|\n",
    "\n",
    "from pyspark.sql.types import StructType, StructField, IntegerType, FloatType\n",
    "# 打印df结构信息\n",
    "df.printSchema()   \n",
    "# 更改df表结构：更改列类型和列名称\n",
    "ad_feature_df = df.\\\n",
    "    withColumn(\"adgroup_id\", df.adgroup_id.cast(IntegerType())).withColumnRenamed(\"adgroup_id\", \"adgroupId\").\\\n",
    "    withColumn(\"cate_id\", df.cate_id.cast(IntegerType())).withColumnRenamed(\"cate_id\", \"cateId\").\\\n",
    "    withColumn(\"campaign_id\", df.campaign_id.cast(IntegerType())).withColumnRenamed(\"campaign_id\", \"campaignId\").\\\n",
    "    withColumn(\"customer\", df.customer.cast(IntegerType())).withColumnRenamed(\"customer\", \"customerId\").\\\n",
    "    withColumn(\"brand\", df.brand.cast(IntegerType())).withColumnRenamed(\"brand\", \"brandId\").\\\n",
    "    withColumn(\"price\", df.price.cast(FloatType()))\n",
    "ad_feature_df.printSchema()\n",
    "ad_feature_df.show()"
   ]
  },
  {
   "cell_type": "code",
   "execution_count": 20,
   "metadata": {
    "collapsed": true
   },
   "outputs": [
    {
     "name": "stdout",
     "output_type": "stream",
     "text": [
      "表中总共有846811行\n",
      "表中每列各有多少行：\n",
      "['adgroupId列的行数846811', 'cateId列的行数846811', 'campaignId列的行数846811', 'customerId列的行数846811', 'brandId列的行数846811', 'price列的行数846811']\n",
      "['adgroupId列的行数600481', 'cateId列的行数600481', 'campaignId列的行数600481', 'customerId列的行数600481', 'brandId列的行数600481', 'price列的行数600481']\n",
      "['adgroupId列的行数846811', 'cateId列的行数846811', 'campaignId列的行数846811', 'customerId列的行数846811', 'brandId列的行数600481', 'price列的行数846811']\n"
     ]
    }
   ],
   "source": [
    "#此处实验，说明dropna()的作用->某行数据有一个值是空值，就将该行删除\n",
    "# # 查看是否有缺失值\n",
    "# print('表中总共有%d行'%(ad_feature_df.count()))\n",
    "# print('表中每列各有多少行：')\n",
    "# print([str(c) + '列的行数' + str(ad_feature_df.select(c).count()) for c in ad_feature_df.columns])\n",
    "# print([str(c) + '列的行数' + str(ad_feature_df.dropna().select(c).count()) for c in ad_feature_df.columns])\n",
    "# print([str(c) + '列的行数' + str(ad_feature_df.select(c).dropna().count()) for c in ad_feature_df.columns])\n",
    "\n",
    "# 没有缺失值\n",
    "'''\n",
    "表中总共有846811行\n",
    "表中每列各有多少行：\n",
    "['adgroupId列的行数846811', 'cateId列的行数846811', 'campaignId列的行数846811', 'customerId列的行数846811', 'brandId列的行数846811', 'price列的行数846811']\n",
    "['adgroupId列的行数600481', 'cateId列的行数600481', 'campaignId列的行数600481', 'customerId列的行数600481', 'brandId列的行数600481', 'price列的行数600481']\n",
    "['adgroupId列的行数846811', 'cateId列的行数846811', 'campaignId列的行数846811', 'customerId列的行数846811', 'brandId列的行数600481', 'price列的行数846811']\n",
    "'''"
   ]
  },
  {
   "cell_type": "code",
   "execution_count": 16,
   "metadata": {},
   "outputs": [
    {
     "name": "stdout",
     "output_type": "stream",
     "text": [
      "判断数据是否有空值：\n",
      "原始数据有846811行\n",
      "去掉空值后数据有600481行\n",
      "看看哪一列有空值：\n",
      "['adgroupId列的行数846811', 'cateId列的行数846811', 'campaignId列的行数846811', 'customerId列的行数846811', 'brandId列的行数600481', 'price列的行数846811']\n"
     ]
    }
   ],
   "source": [
    "# 查看是否有空值\n",
    "# pandas中选择某列使用df['某列的名字']，但是sparksql不能这样用，要使用sql语句，df.select('某列的名字')\n",
    "# 可以使用df['某列的名字'].cast(某种数据类型如Longtype())\n",
    "print('判断数据是否有空值：')\n",
    "print('原始数据有%d行'%ad_feature_df.count())\n",
    "#dropna()-某行数据有一个值是空值，就将该行删除\n",
    "print('去掉空值后数据有%d行'%ad_feature_df.dropna().count())\n",
    "print('看看哪一列有空值：')\n",
    "print([str(c) + '列的行数' + str(ad_feature_df.select(c).dropna().count()) for c in ad_feature_df.columns])\n",
    "#有空值，brandId列有空值"
   ]
  },
  {
   "cell_type": "code",
   "execution_count": 17,
   "metadata": {},
   "outputs": [
    {
     "name": "stdout",
     "output_type": "stream",
     "text": [
      "+---------+------+----------+----------+-------+-----+\n",
      "|adgroupId|cateId|campaignId|customerId|brandId|price|\n",
      "+---------+------+----------+----------+-------+-----+\n",
      "|    63133|  6406|     83237|         1|  95471|170.0|\n",
      "|   313401|  6406|     83237|         1|  87331|199.0|\n",
      "|   248909|   392|     83237|         1|  32233| 38.0|\n",
      "|   208458|   392|     83237|         1| 174374|139.0|\n",
      "|   110847|  7211|    135256|         2| 145952|32.99|\n",
      "|   607788|  6261|    387991|         6| 207800|199.0|\n",
      "|   375706|  4520|    387991|         6|     -1| 99.0|\n",
      "|    11115|  7213|    139747|         9| 186847| 33.0|\n",
      "|    24484|  7207|    139744|         9| 186847| 19.0|\n",
      "|    28589|  5953|    395195|        13|     -1|428.0|\n",
      "|    23236|  5953|    395195|        13|     -1|368.0|\n",
      "|   300556|  5953|    395195|        13|     -1|639.0|\n",
      "|    92560|  5953|    395195|        13|     -1|368.0|\n",
      "|   590965|  4284|     28145|        14| 454237|249.0|\n",
      "|   529913|  4284|     70206|        14|     -1|249.0|\n",
      "|   546930|  4284|     28145|        14|     -1|249.0|\n",
      "|   639794|  6261|     70206|        14|  37004| 89.9|\n",
      "|   335413|  4284|     28145|        14|     -1|249.0|\n",
      "|   794890|  4284|     70206|        14| 454237|249.0|\n",
      "|   684020|  6261|     70206|        14|  37004| 99.0|\n",
      "+---------+------+----------+----------+-------+-----+\n",
      "only showing top 20 rows\n",
      "\n"
     ]
    }
   ],
   "source": [
    "# 用-1替代空值\n",
    "# fillna()替换两者的数值类型要相同\n",
    "ad_feature_df = ad_feature_df.fillna(-1)\n",
    "ad_feature_df.show()"
   ]
  },
  {
   "cell_type": "code",
   "execution_count": 21,
   "metadata": {},
   "outputs": [
    {
     "name": "stdout",
     "output_type": "stream",
     "text": [
      "adgroupId的个数： 846811\n",
      "cateId的个数： 6769\n",
      "campaignId的个数： 423436\n",
      "customerId的个数： 255875\n",
      "brandId的个数： 99815\n",
      "price的个数： 14861\n"
     ]
    }
   ],
   "source": [
    "# 查看各项特征的 种类数\n",
    "print('adgroupId的个数：',ad_feature_df.groupby('adgroupId').count().count())\n",
    "print('cateId的个数：',ad_feature_df.groupby('cateId').count().count())\n",
    "print('campaignId的个数：',ad_feature_df.groupby('campaignId').count().count())\n",
    "print('customerId的个数：',ad_feature_df.groupby('customerId').count().count())\n",
    "print('brandId的个数：',ad_feature_df.groupby('brandId').count().count())\n",
    "print('price的个数：',ad_feature_df.groupby('price').count().count())\n",
    "ad_feature_df.where('price>10000').show()"
   ]
  },
  {
   "cell_type": "code",
   "execution_count": 23,
   "metadata": {
    "scrolled": false
   },
   "outputs": [
    {
     "name": "stdout",
     "output_type": "stream",
     "text": [
      "+---------+------+----------+----------+-------+-----------+\n",
      "|adgroupId|cateId|campaignId|customerId|brandId|      price|\n",
      "+---------+------+----------+----------+-------+-----------+\n",
      "|   243384|   685|    218918|     31239| 278301|      1.0E8|\n",
      "|   658722|  1093|    218101|    207754|     -1|      1.0E8|\n",
      "|    31899|   685|    218918|     31239| 278301|      1.0E8|\n",
      "|   468220|  1093|    270719|    207754|     -1|      1.0E8|\n",
      "|   179746|  1093|    270027|    102509| 405447|      1.0E8|\n",
      "|   554311|  1093|    266086|    207754|     -1|      1.0E8|\n",
      "|   443295|  1093|     44251|    102509| 300681|      1.0E8|\n",
      "|   513942|   745|      8401|     86243|     -1|8.8888888E7|\n",
      "|   201060|   745|      8401|     86243|     -1|5.5555556E7|\n",
      "|   289563|   685|     37665|    120847| 278301|      1.5E7|\n",
      "|    35156|   527|    417722|     72273| 278301|      1.0E7|\n",
      "|    33756|   527|    416333|     70894|     -1|  9900000.0|\n",
      "|   335495|   739|    170121|    148946| 326126|  9600000.0|\n",
      "|   218306|   206|    162394|      4339| 221720|  8888888.0|\n",
      "|   213567|  7213|    239302|    205612| 406125|  5888888.0|\n",
      "|   375920|   527|    217512|    148946| 326126|  4760000.0|\n",
      "|   262215|   527|    132721|     11947| 417898|  3980000.0|\n",
      "|   154623|   739|    170121|    148946| 326126|  3900000.0|\n",
      "|   152414|   739|    170121|    148946| 326126|  3900000.0|\n",
      "|   448651|   527|    422260|     41289| 209959|  3800000.0|\n",
      "+---------+------+----------+----------+-------+-----------+\n",
      "only showing top 20 rows\n",
      "\n"
     ]
    }
   ],
   "source": [
    "# 看看那些高价广告有多高价 >1w的广告\n",
    "ad_feature_df.sort(\"price\", ascending=False).show()\n",
    "#sql中排序是orderBy，此处也可用\n",
    "#ad_feature_df.where('price>10000').orderBy('price',ascending=False).show()"
   ]
  },
  {
   "cell_type": "code",
   "execution_count": 29,
   "metadata": {},
   "outputs": [
    {
     "data": {
      "text/plain": [
       "6527"
      ]
     },
     "execution_count": 29,
     "metadata": {},
     "output_type": "execute_result"
    }
   ],
   "source": [
    "# 查看价格大于1w的广告有多少条\n",
    "ad_feature_df.where('price>10000').count()"
   ]
  },
  {
   "cell_type": "code",
   "execution_count": 30,
   "metadata": {},
   "outputs": [
    {
     "name": "stdout",
     "output_type": "stream",
     "text": [
      "root\n",
      " |-- adgroupId: integer (nullable = true)\n",
      " |-- cateId: integer (nullable = true)\n",
      " |-- campaignId: integer (nullable = true)\n",
      " |-- customerId: integer (nullable = true)\n",
      " |-- brandId: integer (nullable = true)\n",
      " |-- price: float (nullable = false)\n",
      "\n"
     ]
    }
   ],
   "source": [
    "ad_feature_df.printSchema()"
   ]
  },
  {
   "cell_type": "code",
   "execution_count": null,
   "metadata": {},
   "outputs": [],
   "source": [
    "'''\n",
    " |-- cateId: integer (nullable = true)  脱敏过的商品类目ID  个数： 6769\n",
    " |-- campaignId: integer (nullable = true)  脱敏过的广告计划ID  个数： 423436\n",
    " |-- customerId: integer (nullable = true)  脱敏过的广告主ID  个数： 255875\n",
    " |-- brandId: integer (nullable = true)  脱敏过的品牌ID  个数： 6769\n",
    "\n",
    "以上四个特征均属于分类特征，但由于分类值个数均过于庞大，\n",
    "如果去做热独编码处理，会导致数据过于稀疏 \n",
    "且当前我们缺少对这些特征更加具体的信息，（如商品类目具体信息、品牌具体信息等），\n",
    "从而无法对这些特征的数据做聚类、降维处理 因此这里不选取它们作为特征\n",
    "\n",
    "而只选取price作为特征数据，因为价格本身是一个统计类型连续数值型数据，\n",
    "且能很好的体现广告的价值属性特征，通常也不需要做其他处理(离散化、归一化、标准化等)，\n",
    "所以这里直接将当做特征数据来使用\n",
    "'''"
   ]
  },
  {
   "cell_type": "code",
   "execution_count": null,
   "metadata": {},
   "outputs": [],
   "source": []
  },
  {
   "cell_type": "code",
   "execution_count": null,
   "metadata": {},
   "outputs": [],
   "source": []
  }
 ],
 "metadata": {
  "kernelspec": {
   "display_name": "Python 3",
   "language": "python",
   "name": "python3"
  },
  "language_info": {
   "codemirror_mode": {
    "name": "ipython",
    "version": 3
   },
   "file_extension": ".py",
   "mimetype": "text/x-python",
   "name": "python",
   "nbconvert_exporter": "python",
   "pygments_lexer": "ipython3",
   "version": "3.7.6"
  }
 },
 "nbformat": 4,
 "nbformat_minor": 2
}
