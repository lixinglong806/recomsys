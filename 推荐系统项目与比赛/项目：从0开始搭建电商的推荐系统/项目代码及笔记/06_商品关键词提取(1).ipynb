{
 "cells": [
  {
   "cell_type": "markdown",
   "metadata": {},
   "source": [
    "### 商品关键词提取(1)\n",
    "根据sku_detail表，提取商品的关键词  \n",
    "  \n",
    "对电商产品提取关键词，参照对文本类型数据提取关键词的方式，将所有电商产品的所有详细描述组合成一个文本，提取关键词，提取技术：tfidf、textrank等"
   ]
  },
  {
   "cell_type": "markdown",
   "metadata": {},
   "source": [
    "#### 延申学习：jieba分词的使用"
   ]
  },
  {
   "cell_type": "markdown",
   "metadata": {},
   "source": [
    "'''\n",
    "内置函数open与codecs.open的区别：\n",
    "Python3直接用open。\n",
    "Python2.x下用codecs.open，特别是有中文的情况，然后也可以避免踩到2.6下面io.open的坑。\n",
    "如果希望代码同时兼容Python2和Python3，那么推荐用codecs.open\n",
    "'''"
   ]
  },
  {
   "cell_type": "markdown",
   "metadata": {},
   "source": [
    "切割词；对切割之后的词语进行过滤，去除停用词，保留名词、英文词(长度大于2)和自定义词库中的词"
   ]
  },
  {
   "cell_type": "markdown",
   "metadata": {},
   "source": [
    "#### 分词\n",
    "注意：hdfs的每台机器上的相同路径都要有同样的**词典和停用词**"
   ]
  },
  {
   "cell_type": "code",
   "execution_count": 6,
   "metadata": {},
   "outputs": [],
   "source": [
    "# =====该cell跳过=====\n",
    "# 用于查看strip()返回的结果，返回了str类型\n",
    "[i.strip() for i in codecs.open(stopwords_path).readlines()]\n",
    "codecs.open(stopwords_path).readlines()"
   ]
  },
  {
   "cell_type": "code",
   "execution_count": 3,
   "metadata": {},
   "outputs": [],
   "source": [
    "import os\n",
    "import jieba\n",
    "import jieba.posseg as pseg\n",
    "import codecs\n",
    "\n",
    "abspath = \"/root/workspace/3.rs_project/project2/notebook\"\n",
    "\n",
    "stopwords_path = os.path.join(abspath, 'keywordExtract/extract/baidu_stopwords.txt')\n",
    "\n",
    "# 结巴加载用户词典\n",
    "userDict_path = os.path.join(abspath, \"keywordExtract/extract/词典/all.txt\")\n",
    "jieba.load_userdict(userDict_path)\n",
    "\n",
    "# 停用词文本\n",
    "stopwords_path = os.path.join(abspath, \"keywordExtract/extract/baidu_stopwords.txt\")\n",
    "\n",
    "\n",
    "def get_stopwords_list():\n",
    "    \"\"\"返回stopwords列表\"\"\"\n",
    "    stopwords_list = [i.strip()\n",
    "                      for i in codecs.open(stopwords_path).readlines()]\n",
    "    return stopwords_list\n",
    "\n",
    "# 所有的停用词列表\n",
    "stopwords_list = get_stopwords_list()\n",
    "\n",
    "# 分词并过滤，定义过滤的规则\n",
    "def cut_sentence(sentence):\n",
    "    # print(sentence,\"*\"*100)\n",
    "    # eg:[pair('今天', 't'), pair('有', 'd'), pair('雾', 'n'), pair('霾', 'g')]\n",
    "    seg_list = pseg.lcut(sentence)\n",
    "    seg_list = [i for i in seg_list if i.flag not in stopwords_list]\n",
    "    filtered_words_list = []\n",
    "    for seg in seg_list:\n",
    "        # print(seg)\n",
    "        if len(seg.word) <= 1:\n",
    "            continue\n",
    "        elif seg.flag == \"eng\":\n",
    "            if len(seg.word) <= 2:\n",
    "                continue\n",
    "            else:\n",
    "                filtered_words_list.append(seg.word)\n",
    "        elif seg.flag.startswith(\"n\"):\n",
    "            filtered_words_list.append(seg.word)\n",
    "        elif seg.flag in [\"x\", \"eng\"]:  # 是自定一个词语或者是英文单词\n",
    "            filtered_words_list.append(seg.word)\n",
    "    return filtered_words_list"
   ]
  },
  {
   "cell_type": "code",
   "execution_count": 2,
   "metadata": {
    "collapsed": true
   },
   "outputs": [
    {
     "data": {
      "text/plain": [
       "['IPASON',\n",
       " 'H68',\n",
       " 'Z370',\n",
       " 'GTX1070Ti',\n",
       " 'DDR4',\n",
       " '水冷',\n",
       " '游戏',\n",
       " '台式',\n",
       " 'DIY',\n",
       " '电脑',\n",
       " '京东',\n",
       " '游戏',\n",
       " 'UPC',\n",
       " '京东',\n",
       " '自带',\n",
       " '内存',\n",
       " 'OMG',\n",
       " '战队',\n",
       " '自带',\n",
       " '内存',\n",
       " 'GTX1070Ti',\n",
       " '处理器',\n",
       " 'GTX1050Ti',\n",
       " '游戏']"
      ]
     },
     "execution_count": 2,
     "metadata": {},
     "output_type": "execute_result"
    }
   ],
   "source": [
    "# 显示分词效果\n",
    "sentence = '''\n",
    "攀升（IPASON）H68 i7 8700K/Z370/GTX1070Ti 8G/16G DDR4水冷游戏台式DIY组装电脑京东自营游戏主机UPC京东自营，自带内存】OMG战队训练指定用机，自带16G内存，GTX1070Ti 8G！六核处理器+GTX1050Ti游戏主机，点此抢购\n",
    "'''\n",
    "cut_sentence(sentence)"
   ]
  },
  {
   "cell_type": "code",
   "execution_count": 7,
   "metadata": {},
   "outputs": [],
   "source": [
    "import os\n",
    "# 配置pyspark和spark driver运行时 使用的python解释器\n",
    "JAVA_HOME = '/root/bigdata/jdk'\n",
    "PYSPARK_PYTHON = '/miniconda2/envs/py365/bin/python'\n",
    "# 当存在多个版本时，不指定很可能会导致出错\n",
    "os.environ['PYSPARK_PYTHON'] = PYSPARK_PYTHON\n",
    "os.environ['PYSPARK_DRIVER_PYTHON'] = PYSPARK_PYTHON\n",
    "os.environ['JAVA_HOME'] = JAVA_HOME\n",
    "# 配置spark信息\n",
    "from pyspark import SparkConf\n",
    "from pyspark.sql import SparkSession\n",
    "\n",
    "SPARK_APP_NAME = \"extractSKUKeyword\"\n",
    "SPARK_URL = \"spark://192.168.58.100:7077\"\n",
    "\n",
    "conf = SparkConf()    # 创建spark config对象\n",
    "config = (\n",
    "\t(\"spark.app.name\", SPARK_APP_NAME),    # 设置启动的spark的app名称，没有提供，将随机产生一个名称\n",
    "\t(\"spark.executor.memory\", \"2g\"),    # 设置该app启动时占用的内存用量，默认1g，指一台虚拟机\n",
    "\t(\"spark.master\", SPARK_URL),    # spark master的地址\n",
    "    (\"spark.executor.cores\", \"2\"),    # 设置spark executor使用的CPU核心数，指一台虚拟机\n",
    "    (\"hive.metastore.uris\", \"thrift://localhost:9083\"),    # 配置hive元数据的访问，否则spark无法获取hive中已存储的数据\n",
    "    \n",
    "    # 以下三项配置，可以控制执行器数量\n",
    "#     (\"spark.dynamicAllocation.enabled\", True),\n",
    "#     (\"spark.dynamicAllocation.initialExecutors\", 1),    # 1个执行器\n",
    "#     (\"spark.shuffle.service.enabled\", True)\n",
    "# \t('spark.sql.pivotMaxValues', '99999'),  # 当需要pivot DF，且值很多时，需要修改，默认是10000\n",
    ")\n",
    "# 查看更详细配置及说明：https://spark.apache.org/docs/latest/configuration.html\n",
    "\n",
    "conf.setAll(config)\n",
    "\n",
    "# 利用config对象，创建spark session\n",
    "spark = SparkSession.builder.config(conf=conf).enableHiveSupport().getOrCreate()"
   ]
  },
  {
   "cell_type": "markdown",
   "metadata": {},
   "source": [
    "#### 2.2.1商品归类\n",
    "对于电商来说，同一个关键词在不同品类数据之间通常都具有不同的含义，往往需要根据品类特性，分别解析提取关键词。    \n",
    "\n",
    "- 比如电子产品中的“苹果”和生鲜产品中的“苹果”，意义显然是不同的，不能相提并论。\n",
    "- 比如用户正在浏览图书，那么相关的物品推荐，通常是不会出现食品的  \n",
    "\n",
    "正因如此，当我们进行商品关键词提取等处理时，都是要根据不同的类别进行独立的处理   \n",
    "\n",
    "但如何具体给商品归类，其实不是由我们随意决定的，而是**由产品设计等人员针对产品特性来划分**，以下划分仅供参考：\n",
    "\n",
    "- 电子产品: 手机、相机、数码、电脑、办公 ==> 1-5\n",
    "- 家居产品：家用电器、家居、家具、家装、厨具 ==> 6-10\n",
    "- 服饰产品：男装、女装、童装、内衣、女鞋、箱包、钟表、珠宝、男鞋、运动、户外 ==> 11-21\n",
    "- 资产产品：房产、汽车、汽车用品 ==> 22-24\n",
    "- 母婴用品：母婴、玩具乐器 ==> 25-26\n",
    "- 食用产品：食品、酒类、生鲜、特产 ==> 27-30\n",
    "- 影音图书产品：图书、音像、电子书 ==> 31-33\n",
    "- 旅游出行产品：机票、酒店、旅游、生活 ==> 34-37\n",
    "\n",
    "所以这里我们需要对这几大类别的商品，分别进行关键词的提取工作"
   ]
  },
  {
   "cell_type": "code",
   "execution_count": 5,
   "metadata": {
    "collapsed": true
   },
   "outputs": [
    {
     "name": "stdout",
     "output_type": "stream",
     "text": [
      "+---+--------------------+--------------------+----+---------+\n",
      "| id|         create_time|         update_time|name|parent_id|\n",
      "+---+--------------------+--------------------+----+---------+\n",
      "|  1|2018-04-09 08:03:...|2018-04-09 08:03:...|  手机|     null|\n",
      "|  2|2018-04-09 08:04:...|2018-04-09 08:04:...|  相机|     null|\n",
      "|  3|2018-04-09 08:04:...|2018-04-09 08:04:...|  数码|     null|\n",
      "|  4|2018-04-09 08:05:...|2018-04-09 08:05:...|  电脑|     null|\n",
      "|  5|2018-04-09 08:05:...|2018-04-09 08:05:...|  办公|     null|\n",
      "|  6|2018-04-09 08:05:...|2018-04-09 08:05:...|家用电器|     null|\n",
      "|  7|2018-04-09 08:05:...|2018-04-09 08:05:...|  家居|     null|\n",
      "|  8|2018-04-09 08:05:...|2018-04-09 08:05:...|  家具|     null|\n",
      "|  9|2018-04-09 08:05:...|2018-04-09 08:05:...|  家装|     null|\n",
      "| 10|2018-04-09 08:05:...|2018-04-09 08:05:...|  厨具|     null|\n",
      "| 11|2018-04-09 08:06:...|2018-04-09 08:06:...|  男装|     null|\n",
      "| 12|2018-04-09 08:06:...|2018-04-09 08:06:...|  女装|     null|\n",
      "| 13|2018-04-09 08:06:...|2018-04-09 08:06:...|  童装|     null|\n",
      "| 14|2018-04-09 08:06:...|2018-04-09 08:06:...|  内衣|     null|\n",
      "| 15|2018-04-09 08:06:...|2018-04-09 08:06:...|  女鞋|     null|\n",
      "| 16|2018-04-09 08:08:...|2018-04-09 08:08:...|  箱包|     null|\n",
      "| 17|2018-04-09 08:09:...|2018-04-09 08:09:...|  钟表|     null|\n",
      "| 18|2018-04-09 08:09:...|2018-04-09 08:09:...|  珠宝|     null|\n",
      "| 19|2018-04-09 08:09:...|2018-04-09 08:09:...|  男鞋|     null|\n",
      "| 20|2018-04-09 08:09:...|2018-04-09 08:09:...|  运动|     null|\n",
      "| 21|2018-04-09 08:09:...|2018-04-09 08:09:...|  户外|     null|\n",
      "| 22|2018-04-09 08:11:...|2018-04-09 08:11:...|  房产|     null|\n",
      "| 23|2018-04-09 08:11:...|2018-04-09 08:11:...|  汽车|     null|\n",
      "| 24|2018-04-09 08:11:...|2018-04-09 08:11:...|汽车用品|     null|\n",
      "| 25|2018-04-09 08:11:...|2018-04-09 08:11:...|  母婴|     null|\n",
      "| 26|2018-04-09 08:11:...|2018-04-09 08:11:...|玩具乐器|     null|\n",
      "| 27|2018-04-09 08:56:...|2018-04-09 08:56:...|  食品|     null|\n",
      "| 28|2018-04-09 08:56:...|2018-04-09 08:56:...|  酒类|     null|\n",
      "| 29|2018-04-09 08:56:...|2018-04-09 08:56:...|  生鲜|     null|\n",
      "| 30|2018-04-09 08:56:...|2018-04-09 08:56:...|  特产|     null|\n",
      "| 31|2018-04-09 08:56:...|2018-04-09 08:56:...|  图书|     null|\n",
      "| 32|2018-04-09 08:56:...|2018-04-09 08:56:...|  音像|     null|\n",
      "| 33|2018-04-09 08:56:...|2018-04-09 08:56:...| 电子书|     null|\n",
      "| 34|2018-04-09 08:56:...|2018-04-09 08:56:...|  机票|     null|\n",
      "| 35|2018-04-09 08:56:...|2018-04-09 08:56:...|  酒店|     null|\n",
      "| 36|2018-04-09 08:56:...|2018-04-09 08:56:...|  旅游|     null|\n",
      "| 37|2018-04-09 08:57:...|2018-04-09 08:57:...|  生活|     null|\n",
      "+---+--------------------+--------------------+----+---------+\n",
      "\n"
     ]
    }
   ],
   "source": [
    "# 查看所有的一级分类\n",
    "spark.sql('select * from tb_goods_category where parent_id is null').show(100)"
   ]
  },
  {
   "cell_type": "code",
   "execution_count": 8,
   "metadata": {
    "collapsed": true
   },
   "outputs": [
    {
     "name": "stdout",
     "output_type": "stream",
     "text": [
      "+--------+------+--------------------+--------------------+------+----------+------------+------------+---------+------------+---------+------------+---------+--------------------+\n",
      "|goods_id|sku_id|                name|             caption| price|cost_price|market_price|category1_id|category1|category2_id|category2|category3_id|category3|       specification|\n",
      "+--------+------+--------------------+--------------------+------+----------+------------+------------+---------+------------+---------+------------+---------+--------------------+\n",
      "|     135|   148|随身厅 WPOS-3 高度集成业务...|      享包邮！正品保证，购物无忧！|2999.0|    2999.0|      2999.0|           3|       数码|          41|     数码配件|         140|      读卡器|                null|\n",
      "|     451|   463|飞花令 安卓手机读卡器Type-c...|您身边的私人定制：【联系客服告知型...|   7.8|       7.8|         7.8|           3|       数码|          41|     数码配件|         140|      读卡器|颜色:Type-C TF卡 读卡器...|\n",
      "|     458|   471|【包邮】飞花令 安卓外置手机读卡器...|micro usb/V8 TF卡读...|  15.8|      15.8|        15.8|           3|       数码|          41|     数码配件|         140|      读卡器|版本:360N5 N4S N4 N...|\n",
      "|     483|   496|品胜（PISEN） 全能读卡器迷你...|【京东配送·快速送达】提供一年质保...|  29.0|      29.0|        29.0|           3|       数码|          41|     数码配件|         140|      读卡器|颜色:SD读卡器,颜色:TF读卡器...|\n",
      "|     820|   833|LEXAR 雷克沙（Lexar） ...|                    | 160.0|     160.0|       160.0|           3|       数码|          41|     数码配件|         140|      读卡器|          版本:25合一读卡器|\n",
      "|    1075|  1088|青美 壁挂广告机65寸安卓网络广告...|                    |2699.0|    2699.0|      2699.0|           2|       相机|          40|     摄影摄像|         135|     数码相框|版本:触摸版,版本:非触摸,颜色:...|\n",
      "|    1225|  1238|dyplay苹果手机相机读卡器三合...|                    | 128.0|     128.0|       128.0|           3|       数码|          41|     数码配件|         140|      读卡器|                null|\n",
      "|    1329|  1342|绿联（UGREEN） Type-C...|支持读取安防监控/单反相机sd/t...|  39.0|      39.0|        39.0|           3|       数码|          41|     数码配件|         140|      读卡器|颜色:Type-C+USB双卡单读...|\n",
      "|    1567|  1580|HNM 19英寸高清壁挂数码相框1...|                    | 988.0|     988.0|       988.0|           2|       相机|          40|     摄影摄像|         135|     数码相框|版本:10英寸白色钢化玻璃8G卡,...|\n",
      "|    1578|  1591|kisdisk  读卡器四合一US...|         高速接口 四合一读卡器| 198.0|     198.0|       198.0|           3|       数码|          41|     数码配件|         140|      读卡器|版本:128G卡,版本:256G卡...|\n",
      "|    1632|  1645|爱国者（aigo） 数码相框 DP...|21.5寸 商业广告机 家用大屏相...|1699.0|    1699.0|      1699.0|           2|       相机|          40|     摄影摄像|         135|     数码相框|版本:官方标配,版本:官方标配+金...|\n",
      "|    1816|  1829|金士顿（Kingston） USB...|11月1日钜惠来袭，11.11元限...|  69.9|      69.9|        69.9|           3|       数码|          41|     数码配件|         140|      读卡器|颜色:USB3.1双接口Micro...|\n",
      "|    1946|  1959|理光（Ricoh） THETA 全...|【11.11京东全球好物节】影像钜...|1599.0|    1599.0|      1599.0|           2|       相机|          40|     摄影摄像|         128|     数码相机|颜色:THETA SC 白色,颜色...|\n",
      "|    2109|  2122|贝视特苹果笔记本充电宝移动电源QC...|如需更大功率容量移动电源可点击了解...| 399.0|     399.0|       399.0|           1|       手机|          39|     手机配件|         126|     移动电源|颜色:太空银20000毫安/DC数...|\n",
      "|    2129|  2142|戈派 无线磁吸充电宝迷你超薄应急移...|                    | 258.0|     258.0|       258.0|           1|       手机|          39|     手机配件|         126|     移动电源|颜色:三合一，珍珠白,颜色:四合一...|\n",
      "|    2353|  2366|赋电 充电宝超薄小巧 苹果安卓迷你...|领券下单立减3元，吸附式充电宝，购...|  89.9|      89.9|        89.9|           1|       手机|          39|     手机配件|         126|     移动电源|版本:型号,颜色:01款苹果6/6...|\n",
      "|    2646|  2659|OISLE苹果专用无线充电宝 ip...|换手机不用换背夹 无线充电 苹果快...| 109.0|     109.0|       109.0|           1|       手机|          39|     手机配件|         126|     移动电源|版本:iphone 5/5S/SE...|\n",
      "|    2853|  2866|宝锋（BAOFENG） BF-UV...|★1111特惠★自驾游户外专属【手...| 159.0|     159.0|       159.0|           1|       手机|          38|     手机通讯|         118|      对讲机|颜色:5R三代（亲民）,颜色:一代...|\n",
      "|    3162|  3175|Motorola 摩托罗拉T8对讲...|摩托罗拉免执照对讲机 商务手台 送...| 480.0|     480.0|       480.0|           1|       手机|          38|     手机通讯|         118|      对讲机|        颜色:MOTO商务系列T|\n",
      "|    3736|  3749|ZASTONE 即时通D9000车...|送安装6件套 50W大功率 带中继...|2598.0|    2598.0|      2598.0|           1|       手机|          38|     手机通讯|         118|      对讲机|颜色:中文版 吸盘天线套餐,颜色:...|\n",
      "+--------+------+--------------------+--------------------+------+----------+------------+------------+---------+------------+---------+------------+---------+--------------------+\n",
      "only showing top 20 rows\n",
      "\n"
     ]
    }
   ],
   "source": [
    "# 首先处理电子产品\n",
    "electronic_product = spark.sql('select * from sku_detail where category1_id >0 and category1_id <6')\n",
    "electronic_product.show()"
   ]
  },
  {
   "cell_type": "markdown",
   "metadata": {},
   "source": [
    "#### 2.2.2数据整合\n",
    "#### 为了让数据表现出足够的特征，这里我们把一个商品所有的详细信息都拼接为一个长文本字符串"
   ]
  },
  {
   "cell_type": "code",
   "execution_count": 9,
   "metadata": {},
   "outputs": [
    {
     "name": "stdout",
     "output_type": "stream",
     "text": [
      "+--------+------+------------+------------+------------+--------------------+\n",
      "|goods_id|sku_id|category1_id|category2_id|category3_id|             summary|\n",
      "+--------+------+------------+------------+------------+--------------------+\n",
      "|     135|   148|           3|          41|         140|数码,数码配件,读卡器,随身厅 W...|\n",
      "|     451|   463|           3|          41|         140|数码,数码配件,读卡器,飞花令 安...|\n",
      "|     458|   471|           3|          41|         140|数码,数码配件,读卡器,【包邮】飞...|\n",
      "|     483|   496|           3|          41|         140|数码,数码配件,读卡器,品胜（PI...|\n",
      "|     820|   833|           3|          41|         140|数码,数码配件,读卡器,LEXAR...|\n",
      "|    1075|  1088|           2|          40|         135|相机,摄影摄像,数码相框,青美 壁...|\n",
      "|    1225|  1238|           3|          41|         140|数码,数码配件,读卡器,dypla...|\n",
      "|    1329|  1342|           3|          41|         140|数码,数码配件,读卡器,绿联（UG...|\n",
      "|    1567|  1580|           2|          40|         135|相机,摄影摄像,数码相框,HNM ...|\n",
      "|    1578|  1591|           3|          41|         140|数码,数码配件,读卡器,kisdi...|\n",
      "+--------+------+------------+------------+------------+--------------------+\n",
      "only showing top 10 rows\n",
      "\n"
     ]
    }
   ],
   "source": [
    "# 所有文本字段 拼接成文本  有以下两种方法\n",
    "# 第一种：写sql语句\n",
    "sql1='''\n",
    "select goods_id,sku_id,category1_id,category2_id,category3_id,\\\n",
    "    concat_ws(\n",
    "        ',',name,caption,price,category1,category1,category3,specification\n",
    "    ) summary from sku_detail \n",
    "'''\n",
    "# spark.sql(sql1).sort('sku_id').select('summary').show(1,truncate=False)\n",
    "# 第二种：在spark sql - dataframe上操作\n",
    "from pyspark.sql.functions import concat_ws\n",
    "ret = electronic_product.select(\"goods_id\", \"sku_id\", \"category1_id\", \"category2_id\", \"category3_id\",\\\n",
    "    concat_ws(',',electronic_product.category1,\\\n",
    "             electronic_product.category2,\\\n",
    "             electronic_product.category3,\\\n",
    "             electronic_product.name,\\\n",
    "              electronic_product.price,\\\n",
    "              electronic_product.caption,\\\n",
    "              electronic_product.specification\n",
    "             ).alias('summary')\n",
    ")\n",
    "ret.show(10)\n",
    "# ret.sort('sku_id').select('summary').show(1,truncate=False)"
   ]
  },
  {
   "cell_type": "markdown",
   "metadata": {},
   "source": [
    "#### 2.2.3基于TextRank提取关键词\n",
    "\n",
    "使用jieba中文分词自带的textrank方法进行处理\n"
   ]
  },
  {
   "cell_type": "markdown",
   "metadata": {},
   "source": [
    "#### 使用示范："
   ]
  },
  {
   "cell_type": "code",
   "execution_count": 37,
   "metadata": {},
   "outputs": [
    {
     "data": {
      "text/plain": [
       "Row(goods_id=29588, sku_id=29601, category1_id=4, category2_id=45, category3_id=158, summary='电脑,电脑整机,游戏本,戴尔DELL灵越游匣Master15.6英寸游戏笔记本电脑(i5-7300HQ 8G 128GSSD+1T GTX1050Ti 4G独显)红,7099.0,【GTX1050Ti 4G独显】帧率高稳定性强运行更畅快,IPS防眩光显示屏全面还原游戏战场！,版本:游戏笔记本电脑,颜色:i5 8G GTX1050Ti PCIe 黑,颜色:i5 8G GTX1050Ti 白,颜色:i5 8G GTX1050Ti 高色域,颜色:i5 8G GTX1060 6G PCIe 黑,颜色:i5 8G GTX1060 6G 白,颜色:i5 8G GTX1060 6G 高色域,颜色:i5 8G GTX1060 6G 黑,颜色:i5-7300HQ 128G+1T GTX1050Ti 红,颜色:i7 16G GTX1060 白,颜色:i7 8G GTX1050Ti 白,颜色:i7 GTX1050Ti 高色域,颜色:i7 GTX1060 高色域,颜色:i9 16G GTX1060 白')"
      ]
     },
     "execution_count": 37,
     "metadata": {},
     "output_type": "execute_result"
    }
   ],
   "source": [
    "ret.where('category1_id=4').first()"
   ]
  },
  {
   "cell_type": "code",
   "execution_count": 43,
   "metadata": {},
   "outputs": [
    {
     "name": "stdout",
     "output_type": "stream",
     "text": [
      "[('颜色', 1.0), ('游戏', 0.712839905269392), ('GTX1050Ti', 0.6173173414936882), ('GTX1060', 0.4941479481735383), ('笔记本电脑', 0.4619727692978662), ('电脑', 0.41432406308886194), ('高色域', 0.4106944624167243), ('戴尔', 0.371970464343393), ('DELL', 0.37081241281179783), ('游戏本', 0.339826427975927), ('游匣', 0.33646092621478985), ('Master15', 0.33535477423981386), ('英寸', 0.3021642579612178), ('战场', 0.28617607751165514), ('显示屏', 0.26646682099129176), ('版本', 0.2627075733325065), ('IPS', 0.2245590224235886), ('稳定性', 0.17327167036021401), ('PCIe', 0.1587201232207853), ('GSSD', 0.07646678807991644)]\n"
     ]
    }
   ],
   "source": [
    "import os\n",
    "import jieba\n",
    "import jieba.posseg as pseg\n",
    "import codecs\n",
    "\n",
    "abspath = \"/root/workspace/3.rs_project/project2/notebook\"\n",
    "\n",
    "stopwords_path = os.path.join(abspath, 'keywordExtract/extract/baidu_stopwords.txt')\n",
    "\n",
    "# 结巴加载用户词典\n",
    "userDict_path = os.path.join(abspath, \"keywordExtract/extract/词典/all.txt\")\n",
    "jieba.load_userdict(userDict_path)\n",
    "\n",
    "# 停用词文本\n",
    "stopwords_path = os.path.join(abspath, \"keywordExtract/extract/baidu_stopwords.txt\")\n",
    "\n",
    "def get_stopwords_list():\n",
    "    \"\"\"返回stopwords列表\"\"\"\n",
    "    stopwords_list = [i.strip()\n",
    "                      for i in codecs.open(stopwords_path).readlines()]\n",
    "    return stopwords_list\n",
    "\n",
    "# 所有的停用词列表\n",
    "stopwords_list = get_stopwords_list()\n",
    "\n",
    "class TextRank(jieba.analyse.TextRank):\n",
    "    def __init__(self, window=20, word_min_len=2):#与某词关联的词小于2个，就不要了\n",
    "        super(TextRank, self).__init__()\n",
    "        self.span = window  # 窗口大小\n",
    "        self.word_min_len = word_min_len  # 单词的最小长度\n",
    "        # 要保留的词性，根据jieba github ，具体参见https://github.com/baidu/lac\n",
    "        # set(可变集合)与frozenset(不可变集合)\n",
    "        self.pos_filt = frozenset(\n",
    "            ('n', 'x', 'eng', 'f', 's', 't', 'nr', 'ns', 'nt', \"nw\", \"nz\", \"PER\", \"LOC\", \"ORG\"))\n",
    "\n",
    "    def pairfilter(self, wp):\n",
    "        \"\"\"过滤条件，返回True或者False\"\"\"\n",
    "\n",
    "        if wp.flag == \"eng\":\n",
    "            if len(wp.word) <= 2:\n",
    "                return False\n",
    "\n",
    "        if wp.flag in self.pos_filt and len(wp.word.strip()) >= self.word_min_len \\\n",
    "                and wp.word.lower() not in stopwords_list:\n",
    "            return True\n",
    "\n",
    "text =  '''电脑,电脑整机,游戏本,戴尔DELL灵越游匣Master15.6英寸游戏笔记本电脑(i5-7300HQ 8G 128GSSD+1T GTX1050Ti 4G独显)红,【GTX1050Ti 4G独显】帧率高稳定性强运行更畅快,IPS防眩光显示屏全面还原游戏战场！,7099.0,版本:游戏笔记本电脑,颜色:i5 8G GTX1050Ti PCIe 黑,颜色:i5 8G GTX1050Ti 白,颜色:i5 8G GTX1050Ti 高色域,颜色:i5 8G GTX1060 6G PCIe 黑,颜色:i5 8G GTX1060 6G 白,颜色:i5 8G GTX1060 6G 高色域,颜色:i5 8G GTX1060 6G 黑,颜色:i5-7300HQ 128G+1T GTX1050Ti 红,颜色:i7 16G GTX1060 白,颜色:i7 8G GTX1050Ti 白,颜色:i7 GTX1050Ti 高色域,颜色:i7 GTX1060 高色域,颜色:i9 16G GTX1060 白'''       \n",
    "    \n",
    "textrank_model = TextRank(window=10, word_min_len=2)\n",
    "allowPOS = ('n', \"x\", 'eng', 'nr', 'ns', 'nt', \"nw\", \"nz\", \"c\")\n",
    "tags = textrank_model.textrank(text, topK=20, withWeight=True, allowPOS=allowPOS, withFlag=False)\n",
    "print(tags)        \n"
   ]
  },
  {
   "cell_type": "markdown",
   "metadata": {},
   "source": [
    "#### 运用"
   ]
  },
  {
   "cell_type": "code",
   "execution_count": 48,
   "metadata": {},
   "outputs": [
    {
     "data": {
      "text/plain": [
       "DataFrame[sku_id: bigint, industry: string, tag: string, weights: double]"
      ]
     },
     "execution_count": 48,
     "metadata": {},
     "output_type": "execute_result"
    }
   ],
   "source": [
    "from functools import partial\n",
    "\n",
    "def _mapPartitions(partition, industry):\n",
    "    \n",
    "    import os\n",
    "    import jieba\n",
    "    import jieba.posseg as pseg\n",
    "    import codecs\n",
    "\n",
    "    abspath = \"/root/workspace/3.rs_project/project2/notebook\"\n",
    "\n",
    "    stopwords_path = os.path.join(abspath, 'keywordExtract/extract/baidu_stopwords.txt')\n",
    "\n",
    "    # 结巴加载用户词典\n",
    "    userDict_path = os.path.join(abspath, \"keywordExtract/extract/词典/all.txt\")\n",
    "    jieba.load_userdict(userDict_path)\n",
    "\n",
    "    # 停用词文本\n",
    "    stopwords_path = os.path.join(abspath, \"keywordExtract/extract/baidu_stopwords.txt\")\n",
    "\n",
    "    def get_stopwords_list():\n",
    "        \"\"\"返回stopwords列表\"\"\"\n",
    "        stopwords_list = [i.strip()\n",
    "                          for i in codecs.open(stopwords_path).readlines()]\n",
    "        return stopwords_list\n",
    "\n",
    "    # 所有的停用词列表\n",
    "    stopwords_list = get_stopwords_list()\n",
    "\n",
    "    class TextRank(jieba.analyse.TextRank):\n",
    "        def __init__(self, window=20, word_min_len=2):\n",
    "            super(TextRank, self).__init__()\n",
    "            self.span = window  # 窗口大小\n",
    "            self.word_min_len = word_min_len  # 单词的最小长度\n",
    "            # 要保留的词性，根据jieba github ，具体参见https://github.com/baidu/lac\n",
    "            self.pos_filt = frozenset(\n",
    "                ('n', 'x', 'eng', 'f', 's', 't', 'nr', 'ns', 'nt', \"nw\", \"nz\", \"PER\", \"LOC\", \"ORG\"))\n",
    "\n",
    "        def pairfilter(self, wp):\n",
    "            \"\"\"过滤条件，返回True或者False\"\"\"\n",
    "\n",
    "            if wp.flag == \"eng\":\n",
    "                if len(wp.word) <= 2:\n",
    "                    return False\n",
    "\n",
    "            if wp.flag in self.pos_filt and len(wp.word.strip()) >= self.word_min_len \\\n",
    "                    and wp.word.lower() not in stopwords_list:\n",
    "                return True\n",
    "    textrank_model = TextRank(window=10, word_min_len=2)\n",
    "    allowPOS = ('n', \"x\", 'eng', 'nr', 'ns', 'nt', \"nw\", \"nz\", \"c\")\n",
    "    \n",
    "    for row in partition:\n",
    "        tags = textrank_model.textrank(row.summary, topK=20, withWeight=True, allowPOS=allowPOS, withFlag=False)\n",
    "        for tag in tags:\n",
    "            yield row.sku_id, industry, tag[0], tag[1]\n",
    "\n",
    "mapPartitions = partial(_mapPartitions, industry=\"电子产品\")\n",
    "\n",
    "sku_tag_weights = ret.rdd.mapPartitions(mapPartitions)\n",
    "sku_tag_weights = sku_tag_weights.toDF([\"sku_id\", \"industry\", \"tag\",\"weights\"])\n",
    "sku_tag_weights  "
   ]
  },
  {
   "cell_type": "code",
   "execution_count": 49,
   "metadata": {},
   "outputs": [
    {
     "name": "stdout",
     "output_type": "stream",
     "text": [
      "+------+--------+----+-------------------+\n",
      "|sku_id|industry| tag|            weights|\n",
      "+------+--------+----+-------------------+\n",
      "|   148|    电子产品|  高度|                1.0|\n",
      "|   148|    电子产品|  终端| 0.9883639010223446|\n",
      "|   148|    电子产品|WPOS| 0.9468601431427544|\n",
      "|   148|    电子产品| 触摸屏|   0.86760348122463|\n",
      "|   148|    电子产品|  森锐| 0.8641422469338305|\n",
      "|   148|    电子产品| 收银机| 0.8604138186822986|\n",
      "|   148|    电子产品|  智能| 0.8531525111008649|\n",
      "|   148|    电子产品|  业务| 0.8492750654830078|\n",
      "|   148|    电子产品|  身份| 0.7319843682220414|\n",
      "|   148|    电子产品|  包邮| 0.7023074720861229|\n",
      "|   148|    电子产品| 读卡器| 0.6095231846952228|\n",
      "|   148|    电子产品|  购物| 0.5376711388516783|\n",
      "|   148|    电子产品|  正品| 0.5362617954388065|\n",
      "|   148|    电子产品|数码配件| 0.4855585880270606|\n",
      "|   148|    电子产品|  数码| 0.4839580467664243|\n",
      "|   463|    电子产品| 读卡器|                1.0|\n",
      "|   463|    电子产品|  颜色| 0.8520815042804352|\n",
      "|   463|    电子产品|  安卓| 0.5855862956518749|\n",
      "|   463|    电子产品|  手机|0.47418584773791483|\n",
      "|   463|    电子产品|  电脑|0.43966846994965897|\n",
      "+------+--------+----+-------------------+\n",
      "only showing top 20 rows\n",
      "\n"
     ]
    }
   ],
   "source": [
    "sku_tag_weights.show()"
   ]
  },
  {
   "cell_type": "code",
   "execution_count": 54,
   "metadata": {},
   "outputs": [
    {
     "name": "stdout",
     "output_type": "stream",
     "text": [
      "+------+--------+---+--------------------+\n",
      "|sku_id|industry|tag|             weights|\n",
      "+------+--------+---+--------------------+\n",
      "| 12084|    电子产品| 手机| 0.05433809439383953|\n",
      "| 12000|    电子产品| 手机| 0.05503990756835343|\n",
      "| 21242|    电子产品| 手机| 0.05928928206469161|\n",
      "| 11987|    电子产品| 手机|0.059346698287006255|\n",
      "| 11924|    电子产品| 手机| 0.06097968631781557|\n",
      "| 11982|    电子产品| 手机| 0.06413152775972146|\n",
      "| 12119|    电子产品| 手机| 0.06424278482093025|\n",
      "| 11951|    电子产品| 手机| 0.06499619302992397|\n",
      "| 12133|    电子产品| 手机|  0.0654244902308878|\n",
      "| 12091|    电子产品| 手机| 0.06578279913350595|\n",
      "| 11829|    电子产品| 手机| 0.06580457144700495|\n",
      "| 12243|    电子产品| 手机| 0.06638587824849572|\n",
      "| 11773|    电子产品| 手机| 0.06643819032693242|\n",
      "| 20054|    电子产品| 手机| 0.06655695905971802|\n",
      "| 19612|    电子产品| 手机| 0.06691817740931645|\n",
      "| 19625|    电子产品| 手机| 0.06712183985354511|\n",
      "| 11752|    电子产品| 手机| 0.06717762919850208|\n",
      "| 24624|    电子产品| 手机| 0.06791438407558686|\n",
      "| 20032|    电子产品| 手机| 0.06795459077587841|\n",
      "| 20134|    电子产品| 手机| 0.06797542198694892|\n",
      "+------+--------+---+--------------------+\n",
      "only showing top 20 rows\n",
      "\n"
     ]
    }
   ],
   "source": [
    "sku_tag_weights.where(\"tag='手机'\").orderBy('weights').show()"
   ]
  },
  {
   "cell_type": "markdown",
   "metadata": {},
   "source": [
    "#### 2.2.4将提取的关键词存入hive"
   ]
  },
  {
   "cell_type": "code",
   "execution_count": null,
   "metadata": {},
   "outputs": [],
   "source": [
    "sku_tag_wights.count()"
   ]
  },
  {
   "cell_type": "code",
   "execution_count": 56,
   "metadata": {},
   "outputs": [
    {
     "name": "stdout",
     "output_type": "stream",
     "text": [
      "+--------+---------+-------+\n",
      "|col_name|data_type|comment|\n",
      "+--------+---------+-------+\n",
      "|  sku_id|   bigint|   null|\n",
      "|industry|   string|   null|\n",
      "|     tag|   string|   null|\n",
      "| weights|   double|   null|\n",
      "+--------+---------+-------+\n",
      "\n"
     ]
    }
   ],
   "source": [
    "sku_tag_weights.registerTempTable('tempTable')\n",
    "spark.sql('desc tempTable').show()"
   ]
  },
  {
   "cell_type": "code",
   "execution_count": 57,
   "metadata": {},
   "outputs": [
    {
     "data": {
      "text/plain": [
       "DataFrame[]"
      ]
     },
     "execution_count": 57,
     "metadata": {},
     "output_type": "execute_result"
    }
   ],
   "source": [
    "# 创建hive表\n",
    "sql = '''\n",
    "create table if not exists sku_tag_weights(\n",
    "sku_id int,\n",
    "industry string,\n",
    "tag string,\n",
    "weights double\n",
    ")\n",
    "'''\n",
    "spark.sql(sql)"
   ]
  },
  {
   "cell_type": "code",
   "execution_count": 58,
   "metadata": {},
   "outputs": [
    {
     "data": {
      "text/plain": [
       "DataFrame[]"
      ]
     },
     "execution_count": 58,
     "metadata": {},
     "output_type": "execute_result"
    }
   ],
   "source": [
    "spark.sql('insert into sku_tag_weights select * from tempTable')"
   ]
  },
  {
   "cell_type": "code",
   "execution_count": 59,
   "metadata": {
    "scrolled": false
   },
   "outputs": [
    {
     "name": "stdout",
     "output_type": "stream",
     "text": [
      "+------+--------+----+-------------------+\n",
      "|sku_id|industry| tag|            weights|\n",
      "+------+--------+----+-------------------+\n",
      "|   148|    电子产品|  高度|                1.0|\n",
      "|   148|    电子产品|  终端| 0.9883639010223446|\n",
      "|   148|    电子产品|WPOS| 0.9468601431427544|\n",
      "|   148|    电子产品| 触摸屏|   0.86760348122463|\n",
      "|   148|    电子产品|  森锐| 0.8641422469338305|\n",
      "|   148|    电子产品| 收银机| 0.8604138186822986|\n",
      "|   148|    电子产品|  智能| 0.8531525111008649|\n",
      "|   148|    电子产品|  业务| 0.8492750654830078|\n",
      "|   148|    电子产品|  身份| 0.7319843682220414|\n",
      "|   148|    电子产品|  包邮| 0.7023074720861229|\n",
      "|   148|    电子产品| 读卡器| 0.6095231846952228|\n",
      "|   148|    电子产品|  购物| 0.5376711388516783|\n",
      "|   148|    电子产品|  正品| 0.5362617954388065|\n",
      "|   148|    电子产品|数码配件| 0.4855585880270606|\n",
      "|   148|    电子产品|  数码| 0.4839580467664243|\n",
      "|   463|    电子产品| 读卡器|                1.0|\n",
      "|   463|    电子产品|  颜色| 0.8520815042804352|\n",
      "|   463|    电子产品|  安卓| 0.5855862956518749|\n",
      "|   463|    电子产品|  手机|0.47418584773791483|\n",
      "|   463|    电子产品|  电脑|0.43966846994965897|\n",
      "+------+--------+----+-------------------+\n",
      "only showing top 20 rows\n",
      "\n"
     ]
    }
   ],
   "source": [
    "spark.sql('select * from sku_tag_weights').show()"
   ]
  }
 ],
 "metadata": {
  "kernelspec": {
   "display_name": "Python 3",
   "language": "python",
   "name": "python3"
  },
  "language_info": {
   "codemirror_mode": {
    "name": "ipython",
    "version": 3
   },
   "file_extension": ".py",
   "mimetype": "text/x-python",
   "name": "python",
   "nbconvert_exporter": "python",
   "pygments_lexer": "ipython3",
   "version": "3.7.6"
  }
 },
 "nbformat": 4,
 "nbformat_minor": 2
}
