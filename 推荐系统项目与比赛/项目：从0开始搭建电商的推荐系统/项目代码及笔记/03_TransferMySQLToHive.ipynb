{
 "cells": [
  {
   "cell_type": "markdown",
   "metadata": {},
   "source": [
    "hive元数据：记录着hive中存储着哪些数据库，哪些表等信息，通常是使用mysql数据库来存储hive的元数据  \n",
    "hive元数据*存储配置：利用mysql数据库存储hive元数据  \n",
    "因此要开启hive前要开启mysql"
   ]
  },
  {
   "cell_type": "code",
   "execution_count": 5,
   "metadata": {},
   "outputs": [
    {
     "name": "stdout",
     "output_type": "stream",
     "text": [
      "SLF4J: Class path contains multiple SLF4J bindings.\n",
      "SLF4J: Found binding in [jar:file:/root/bigdata/apache-hive-2.3.4-bin/lib/log4j-slf4j-impl-2.6.2.jar!/org/slf4j/impl/StaticLoggerBinder.class]\n",
      "SLF4J: Found binding in [jar:file:/root/bigdata/hadoop-2.9.1/share/hadoop/common/lib/slf4j-log4j12-1.7.25.jar!/org/slf4j/impl/StaticLoggerBinder.class]\n",
      "SLF4J: See http://www.slf4j.org/codes.html#multiple_bindings for an explanation.\n",
      "SLF4J: Actual binding is of type [org.apache.logging.slf4j.Log4jLoggerFactory]\n",
      "\n",
      "Logging initialized using configuration in jar:file:/root/bigdata/apache-hive-2.3.4-bin/lib/hive-common-2.3.4.jar!/hive-log4j2.properties Async: true\n",
      "Hive-on-MR is deprecated in Hive 2 and may not be available in the future versions. Consider using a different execution engine (i.e. spark, tez) or using Hive 1.X releases.\n",
      "hive> show databases;show tables;\n",
      "OK\n",
      "article\n",
      "default\n",
      "profile\n",
      "test2\n",
      "toutiao\n",
      "Time taken: 0.748 seconds, Fetched: 5 row(s)\n",
      "OK\n",
      "employee\n",
      "sku_detail\n",
      "sku_tag_weights\n",
      "student\n",
      "tb_goods\n",
      "tb_goods_category\n",
      "tb_goods_specification\n",
      "tb_sku\n",
      "tb_sku_specification\n",
      "tb_specification_option\n",
      "u\n",
      "u4\n",
      "Time taken: 0.069 seconds, Fetched: 12 row(s)\n",
      "hive> "
     ]
    }
   ],
   "source": [
    "!echo \"show databases;show tables;\" | hive"
   ]
  },
  {
   "cell_type": "markdown",
   "metadata": {},
   "source": [
    "mysqlToHive.sh\n",
    "```shell\n",
    "#!/bin/bash\n",
    "\n",
    "array=(tb_goods tb_goods_category tb_goods_specification tb_sku tb_sku_specification tb_specification_option)\n",
    "\n",
    "for table_name in ${array[@]};\n",
    "do\n",
    "        sqoop import \\\n",
    "                --connect jdbc:mysql://localhost/meiduo_mall \\\n",
    "                --username root \\\n",
    "                --password itcast \\\n",
    "                --table $table_name \\\n",
    "                --m 5 \\\n",
    "                --hive-home /root/bigdata/hive \\\n",
    "                --hive-import \\\n",
    "                --create-hive-table  \\\n",
    "                --hive-drop-import-delims \\\n",
    "                --warehouse-dir /user/hive/warehouse \\\n",
    "                --hive-table $table_name \n",
    "done\n",
    "```\n",
    "`--hive-import`就是指明往hive里面导入\n",
    "\n",
    "`--warehouse-dir`指明hdfs上hive数据库的路径\n",
    "\n",
    "重点注意`--hive-drop-import-delims`选项，会把如\"\\n \\r\"等字符自动处理掉，避免出现数据与字段不对应的问题\n",
    "\n",
    "加可执行权限`chmod +x mysqlToHive.sh`\n",
    "\n",
    "执行`source mysqlToHive.sh`"
   ]
  },
  {
   "cell_type": "code",
   "execution_count": 2,
   "metadata": {},
   "outputs": [
    {
     "name": "stdout",
     "output_type": "stream",
     "text": [
      "Found 14 items\r\n",
      "drwxr-xr-x   - root supergroup          0 2020-11-10 20:41 /user/hive/warehouse/article.db\r\n",
      "drwxr-xr-x   - root supergroup          0 2020-12-10 16:32 /user/hive/warehouse/employee\r\n",
      "drwxr-xr-x   - root supergroup          0 2020-11-11 22:14 /user/hive/warehouse/profile.db\r\n",
      "drwxr-xr-x   - root supergroup          0 2020-11-10 12:38 /user/hive/warehouse/sku_detail\r\n",
      "drwxr-xr-x   - root supergroup          0 2020-11-10 12:41 /user/hive/warehouse/sku_tag_weights\r\n",
      "drwxr-xr-x   - root supergroup          0 2020-12-10 15:20 /user/hive/warehouse/student\r\n",
      "drwxr-xr-x   - root supergroup          0 2020-11-09 14:02 /user/hive/warehouse/tb_goods\r\n",
      "drwxr-xr-x   - root supergroup          0 2020-11-09 14:03 /user/hive/warehouse/tb_goods_category\r\n",
      "drwxr-xr-x   - root supergroup          0 2020-11-09 14:04 /user/hive/warehouse/tb_goods_specification\r\n",
      "drwxr-xr-x   - root supergroup          0 2020-11-09 14:04 /user/hive/warehouse/tb_sku\r\n",
      "drwxr-xr-x   - root supergroup          0 2020-11-09 14:05 /user/hive/warehouse/tb_sku_specification\r\n",
      "drwxr-xr-x   - root supergroup          0 2020-11-09 14:06 /user/hive/warehouse/tb_specification_option\r\n",
      "drwxr-xr-x   - root supergroup          0 2020-11-10 19:51 /user/hive/warehouse/toutiao.db\r\n",
      "drwxr-xr-x   - root supergroup          0 2020-12-10 17:21 /user/hive/warehouse/u\r\n"
     ]
    }
   ],
   "source": [
    "!hadoop fs -ls /user/hive/warehouse"
   ]
  },
  {
   "cell_type": "markdown",
   "metadata": {},
   "source": [
    "#### pyspark中从Hive数据库进行数据加载\n",
    "\n",
    "注意配置：\n",
    "- 配置中加入`(\"hive.metastore.uris\", \"thrift://localhost:9083\")`配置项，告诉spark使用hive已有的metastore，否则spark会尝试自己建立一个新的metastore\n",
    "- 创建SparkSession时，调用`enableHiveSupport`方法开启对Hive的操作接口"
   ]
  },
  {
   "cell_type": "code",
   "execution_count": 1,
   "metadata": {},
   "outputs": [],
   "source": [
    "import os\n",
    "# 配置pyspark和spark driver运行时 使用的python解释器\n",
    "JAVA_HOME = '/root/bigdata/jdk'\n",
    "PYSPARK_PYTHON = '/miniconda2/envs/py365/bin/python'\n",
    "# 当存在多个版本时，不指定很可能会导致出错\n",
    "os.environ['PYSPARK_PYTHON'] = PYSPARK_PYTHON\n",
    "os.environ['PYSPARK_DRIVER_PYTHON'] = PYSPARK_PYTHON\n",
    "os.environ['JAVA_HOME'] = JAVA_HOME\n",
    "# 配置spark信息\n",
    "from pyspark import SparkConf\n",
    "from pyspark.sql import SparkSession\n",
    "\n",
    "SPARK_APP_NAME = \"transMeiDuoData\"\n",
    "SPARK_URL = \"yarn\"\n",
    "\n",
    "conf = SparkConf()    # 创建spark config对象\n",
    "config = (\n",
    "\t(\"spark.app.name\", SPARK_APP_NAME),    # 设置启动的spark的app名称，没有提供，将随机产生一个名称\n",
    "\t(\"spark.executor.memory\", \"2g\"),    # 设置该app启动时占用的内存用量，默认1g，指一台虚拟机\n",
    "\t(\"spark.master\", SPARK_URL),    # spark master的地址\n",
    "    (\"spark.executor.cores\", \"2\"),    # 设置spark executor使用的CPU核心数，指一台虚拟机\n",
    "    (\"spark.executor.instances\", \"1\"), # yarn模式下配置\n",
    "    (\"hive.metastore.uris\", \"thrift://hadoop-master:9083\"),    # 配置hive元数据的访问，否则spark无法获取hive中已存储的数据    \n",
    "    # 以下三项配置，可以控制执行器数量\n",
    "#     (\"spark.dynamicAllocation.enabled\", True),\n",
    "#     (\"spark.dynamicAllocation.initialExecutors\", 1),    # 1个执行器\n",
    "#     (\"spark.shuffle.service.enabled\", True)\n",
    "# \t('spark.sql.pivotMaxValues', '99999'),  # 当需要pivot DF，且值很多时，需要修改，默认是10000\n",
    ")\n",
    "# 查看更详细配置及说明：https://spark.apache.org/docs/latest/configuration.html\n",
    "\n",
    "conf.setAll(config)\n",
    "\n",
    "# 利用config对象，创建spark session\n",
    "spark = SparkSession.builder.config(conf=conf).enableHiveSupport().getOrCreate()"
   ]
  },
  {
   "cell_type": "code",
   "execution_count": 2,
   "metadata": {},
   "outputs": [
    {
     "data": {
      "text/plain": [
       "[Database(name='article', description='artcile information', locationUri='hdfs://hadoop-master:9000/user/hive/warehouse/article.db'),\n",
       " Database(name='default', description='Default Hive database', locationUri='hdfs://hadoop-master:9000/user/hive/warehouse'),\n",
       " Database(name='profile', description='use action', locationUri='hdfs://hadoop-master:9000/user/hive/warehouse/profile.db'),\n",
       " Database(name='test2', description='', locationUri='hdfs://hadoop-master:9000/user/hive/warehouse/test2.db'),\n",
       " Database(name='toutiao', description='user,news information of 136 mysql', locationUri='hdfs://hadoop-master:9000/user/hive/warehouse/toutiao.db')]"
      ]
     },
     "execution_count": 2,
     "metadata": {},
     "output_type": "execute_result"
    }
   ],
   "source": [
    "spark.catalog.listDatabases()"
   ]
  },
  {
   "cell_type": "code",
   "execution_count": 3,
   "metadata": {},
   "outputs": [
    {
     "data": {
      "text/plain": [
       "[Table(name='employee', database='default', description=None, tableType='MANAGED', isTemporary=False),\n",
       " Table(name='sku_detail', database='default', description=None, tableType='MANAGED', isTemporary=False),\n",
       " Table(name='sku_tag_weights', database='default', description=None, tableType='MANAGED', isTemporary=False),\n",
       " Table(name='student', database='default', description=None, tableType='MANAGED', isTemporary=False),\n",
       " Table(name='tb_goods', database='default', description='Imported by sqoop on 2020/11/09 14:02:49', tableType='MANAGED', isTemporary=False),\n",
       " Table(name='tb_goods_category', database='default', description='Imported by sqoop on 2020/11/09 14:03:21', tableType='MANAGED', isTemporary=False),\n",
       " Table(name='tb_goods_specification', database='default', description='Imported by sqoop on 2020/11/09 14:04:11', tableType='MANAGED', isTemporary=False),\n",
       " Table(name='tb_sku', database='default', description='Imported by sqoop on 2020/11/09 14:04:53', tableType='MANAGED', isTemporary=False),\n",
       " Table(name='tb_sku_specification', database='default', description='Imported by sqoop on 2020/11/09 14:05:57', tableType='MANAGED', isTemporary=False),\n",
       " Table(name='tb_specification_option', database='default', description='Imported by sqoop on 2020/11/09 14:07:00', tableType='MANAGED', isTemporary=False),\n",
       " Table(name='u', database='default', description=None, tableType='MANAGED', isTemporary=False),\n",
       " Table(name='u4', database='default', description=None, tableType='EXTERNAL', isTemporary=False)]"
      ]
     },
     "execution_count": 3,
     "metadata": {},
     "output_type": "execute_result"
    }
   ],
   "source": [
    "spark.catalog.listTables(\"default\")"
   ]
  },
  {
   "cell_type": "code",
   "execution_count": 4,
   "metadata": {},
   "outputs": [
    {
     "name": "stdout",
     "output_type": "stream",
     "text": [
      "+---+--------------------+--------------------+--------------------+-----+--------+--------+------------+------------+------------+--------------------+--------------------+--------------------+\n",
      "| id|         create_time|         update_time|                name|sales|comments|brand_id|category1_id|category2_id|category3_id|         desc_detail|           desc_pack|        desc_service|\n",
      "+---+--------------------+--------------------+--------------------+-----+--------+--------+------------+------------+------------+--------------------+--------------------+--------------------+\n",
      "|  1|2018-04-11 16:01:...|2018-04-25 12:09:...|Apple MacBook Pro...|    1|       1|       1|           4|          45|         157|<h1 style=\"text-a...|<h2>包装清单</h2><p>M...|<p>&nbsp;<strong>...|\n",
      "|  2|2018-04-14 02:09:...|2018-04-25 11:51:...| Apple iPhone 8 Plus|    3|       1|       1|           1|          38|         115|<p><img alt=\"\" sr...|<h3>包装清单</h3><p>采...|<p>&nbsp;<strong>...|\n",
      "|  3|2018-04-14 03:03:...|2018-04-25 11:51:...|  华为 HUAWEI P10 Plus|    1|       8|       2|           1|          38|         115|<p><img alt=\"\" sr...|<h3>包装清单</h3><p>手...|<p>&nbsp;<strong>...|\n",
      "|  4|2018-11-01 10:43:...|2018-11-01 10:43:...|【次日达】泰火薄快充电宝手机壳无线...|    0|       0|       1|           1|          39|         126|                    |                    |                    |\n",
      "|  5|2018-11-01 10:43:...|2018-11-01 10:43:...|GoPro hero7运动相机水下...|    0|       0|       1|           2|          40|         132|                    |                    |                    |\n",
      "|  6|2018-11-01 10:43:...|2018-11-01 10:43:...|川宇 USB3.0高速多功能合一T...|    0|       0|       1|           3|          41|         140|                    |                    |                    |\n",
      "|  7|2018-11-01 10:43:...|2018-11-01 10:43:...|腾讯听听 9420  智能音箱/音...|    0|       0|       1|           3|          42|         143|                    |                    |                    |\n",
      "|  8|2018-11-01 10:44:...|2018-11-01 10:44:...|苹果XS Max无线充电器iPho...|    0|       0|       1|           1|          39|         123|                    |                    |                    |\n",
      "|  9|2018-11-01 10:44:...|2018-11-01 10:44:...|behringer 百灵达X32数...|    0|       0|       1|           3|          42|         146|                    |                    |                    |\n",
      "| 10|2018-11-01 10:44:...|2018-11-01 10:44:...|ESCASE 荣耀畅玩8c手机壳 ...|    0|       0|       1|           1|          39|         119|                    |                    |                    |\n",
      "| 11|2018-11-01 10:44:...|2018-11-01 10:44:...|FDY FW3C 5C 蓝牙无线W...|    0|       0|       1|           3|          42|         143|                    |                    |                    |\n",
      "| 12|2018-11-01 10:44:...|2018-11-01 10:44:...|摩托罗拉（Motorola） 威泰...|    0|       0|       1|           1|          38|         118|                    |                    |                    |\n",
      "| 13|2018-11-01 10:44:...|2018-11-01 10:44:...|沃丁（WODING） 亚马逊 Am...|    0|       0|       1|           3|          42|         143|                    |                    |                    |\n",
      "| 14|2018-11-01 10:44:...|2018-11-01 10:44:...|科凌（keling） F8全波段收...|    0|       0|       1|           3|          42|         144|                    |                    |                    |\n",
      "| 15|2018-11-01 10:44:...|2018-11-01 10:44:...|科威盛（kevsen） Q3对讲机...|    0|       0|       1|           1|          38|         118|                    |                    |                    |\n",
      "| 16|2018-11-01 10:44:...|2018-11-01 10:44:...|小米（MI） 小米手环3代nfc版...|    0|       0|       1|           3|          43|         147|                    |                    |                    |\n",
      "| 17|2018-11-01 10:44:...|2018-11-01 10:44:...|摩托罗拉（Motorola） MA...|    0|       0|       1|           1|          38|         118|                    |                    |                    |\n",
      "| 18|2018-11-01 10:44:...|2018-11-01 10:44:...|C&C 儿童相机数码卡通照相机玩具...|    0|       0|       1|           2|          40|         128|                    |                    |                    |\n",
      "| 19|2018-11-01 10:44:...|2018-11-01 10:44:...|全景看房婚礼旅行！理光 THETA...|    0|       0|       1|           2|          40|         128|                    |                    |                    |\n",
      "| 20|2018-11-01 10:44:...|2018-11-01 10:44:...|欧兴 KLG5.0 对讲机 待机1...|    0|       0|       1|           1|          38|         118|                    |                    |                    |\n",
      "+---+--------------------+--------------------+--------------------+-----+--------+--------+------------+------------+------------+--------------------+--------------------+--------------------+\n",
      "only showing top 20 rows\n",
      "\n"
     ]
    }
   ],
   "source": [
    "spark.sql(\"select * from tb_goods\").show() "
   ]
  },
  {
   "cell_type": "code",
   "execution_count": 5,
   "metadata": {},
   "outputs": [
    {
     "name": "stdout",
     "output_type": "stream",
     "text": [
      "+--------------------+--------------------+\n",
      "|                name|         desc_detail|\n",
      "+--------------------+--------------------+\n",
      "|Apple MacBook Pro...|<h1 style=\"text-a...|\n",
      "| Apple iPhone 8 Plus|<p><img alt=\"\" sr...|\n",
      "|  华为 HUAWEI P10 Plus|<p><img alt=\"\" sr...|\n",
      "|【次日达】泰火薄快充电宝手机壳无线...|                    |\n",
      "|GoPro hero7运动相机水下...|                    |\n",
      "|川宇 USB3.0高速多功能合一T...|                    |\n",
      "|腾讯听听 9420  智能音箱/音...|                    |\n",
      "|苹果XS Max无线充电器iPho...|                    |\n",
      "|behringer 百灵达X32数...|                    |\n",
      "|ESCASE 荣耀畅玩8c手机壳 ...|                    |\n",
      "|FDY FW3C 5C 蓝牙无线W...|                    |\n",
      "|摩托罗拉（Motorola） 威泰...|                    |\n",
      "|沃丁（WODING） 亚马逊 Am...|                    |\n",
      "|科凌（keling） F8全波段收...|                    |\n",
      "|科威盛（kevsen） Q3对讲机...|                    |\n",
      "|小米（MI） 小米手环3代nfc版...|                    |\n",
      "|摩托罗拉（Motorola） MA...|                    |\n",
      "|C&C 儿童相机数码卡通照相机玩具...|                    |\n",
      "|全景看房婚礼旅行！理光 THETA...|                    |\n",
      "|欧兴 KLG5.0 对讲机 待机1...|                    |\n",
      "+--------------------+--------------------+\n",
      "only showing top 20 rows\n",
      "\n"
     ]
    }
   ],
   "source": [
    "spark.sql(\"select * from tb_goods\").select(\"name\", \"desc_detail\").show()"
   ]
  }
 ],
 "metadata": {
  "kernelspec": {
   "display_name": "Python 3",
   "language": "python",
   "name": "python3"
  },
  "language_info": {
   "codemirror_mode": {
    "name": "ipython",
    "version": 3
   },
   "file_extension": ".py",
   "mimetype": "text/x-python",
   "name": "python",
   "nbconvert_exporter": "python",
   "pygments_lexer": "ipython3",
   "version": "3.7.6"
  }
 },
 "nbformat": 4,
 "nbformat_minor": 2
}
