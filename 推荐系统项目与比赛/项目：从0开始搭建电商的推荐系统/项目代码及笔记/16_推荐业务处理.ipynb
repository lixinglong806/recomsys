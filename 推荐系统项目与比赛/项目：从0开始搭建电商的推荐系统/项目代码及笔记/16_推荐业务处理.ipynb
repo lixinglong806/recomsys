{
 "cells": [
  {
   "cell_type": "markdown",
   "metadata": {},
   "source": [
    "## 推荐业务处理\n",
    "根据不同的场景产生不同的推荐结果，比如网站初期：\n",
    "- 首页推荐以热点商品、新品等进行推荐\n",
    "- 详情页以相似商品进行推荐\n",
    "- 购物车页面以与购物车中相似的商品进行推荐\n",
    "- 搜索页面根据搜索词关联进行推荐\n",
    "\n",
    "到了后期：每一个推荐结果都可以根据用户画像进行更加精准的推荐"
   ]
  },
  {
   "cell_type": "code",
   "execution_count": 2,
   "metadata": {},
   "outputs": [],
   "source": [
    "# 以网站初期详情页为例\n",
    "import redis\n",
    "client0 = redis.StrictRedis(db=0) # 0号库之前存的是每个sku 的相似sku们top100\n",
    "client1 = redis.StrictRedis(db=1) # 1 - 为每个用户推荐的商品集合\n",
    "\n",
    "def recommendedSystem(dest, **kwargs):\n",
    "    #离线计算出的相似物品推荐召回集\n",
    "    if dest == 'detail':\n",
    "        sku_id = kwargs.get(sku_id)\n",
    "        sim_skus = client0.zrevrange(sku_id, 0,19)#取出最相似的前20个物品\n",
    "        return sim_skus\n",
    "    # 实时计算出的用户个性化推荐召回集\n",
    "    if dest == 'cart':\n",
    "        uid = kwargs.get(uid)\n",
    "        sim_skus = client1.scan(uid)\n",
    "        return sim_skus"
   ]
  }
 ],
 "metadata": {
  "kernelspec": {
   "display_name": "Python 3",
   "language": "python",
   "name": "python3"
  },
  "language_info": {
   "codemirror_mode": {
    "name": "ipython",
    "version": 3
   },
   "file_extension": ".py",
   "mimetype": "text/x-python",
   "name": "python",
   "nbconvert_exporter": "python",
   "pygments_lexer": "ipython3",
   "version": "3.7.6"
  }
 },
 "nbformat": 4,
 "nbformat_minor": 2
}
