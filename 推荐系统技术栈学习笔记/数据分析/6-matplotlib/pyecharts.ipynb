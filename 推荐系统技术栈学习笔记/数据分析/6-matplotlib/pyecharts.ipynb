{
 "cells": [
  {
   "cell_type": "code",
   "execution_count": 2,
   "metadata": {},
   "outputs": [],
   "source": [
    "#使用ananconda打开，不行\n",
    "#'0.1.9.4'可以，最新的版本不行\n",
    "#Bar柱状图\n",
    "import pyecharts\n",
    "from pyecharts import Bar\n",
    "\n",
    "bar = Bar(\"我的第一个图表\", \"这里是副标题\")\n",
    "\n",
    "#bar.use_theme('dark')                              #暗色背景色\n",
    "# 视频中是可以的'Bar' object has no attribute 'use_theme'   \n",
    "bar.add(\"服装\",                                        #注解==label\n",
    "        [\"衬衫\",\"羊毛衫\",\"雪纺衫\",\"裤子\",\"高跟鞋\",\"袜子\"], #横坐标\n",
    "        [5, 20, 36, 10, 75, 90])                       #纵坐标\n",
    "bar.render('./picture1.html')                          #文件存储路径（默认保存当前文件路径）"
   ]
  },
  {
   "cell_type": "code",
   "execution_count": 2,
   "metadata": {
    "scrolled": true
   },
   "outputs": [
    {
     "data": {
      "text/plain": [
       "'0.1.9.4'"
      ]
     },
     "execution_count": 2,
     "metadata": {},
     "output_type": "execute_result"
    }
   ],
   "source": [
    "pyecharts.__version__"
   ]
  },
  {
   "cell_type": "code",
   "execution_count": 11,
   "metadata": {},
   "outputs": [],
   "source": [
    "from pyecharts import Bar\n",
    "\n",
    "attr = ['衬衫','羊毛衫','雪纺衫','裤子','高跟鞋','袜子']\n",
    "v1 = [5,20,36,10,75,90]\n",
    "v2 = [10,25,8,60,20,80]\n",
    "bar = Bar('柱状信息堆叠图')\n",
    "bar.add('商家A',attr,v1,is_stack = True)  #is_stack = True才表示堆叠在一起\n",
    "bar.add('商家B',attr,v2,is_stack = True)\n",
    "bar.render('./first03.html')   "
   ]
  },
  {
   "cell_type": "code",
   "execution_count": 12,
   "metadata": {},
   "outputs": [],
   "source": [
    "# 并列（柱形）图\n",
    "from pyecharts import Bar\n",
    "\n",
    "attr = ['衬衫','羊毛衫','雪纺衫','裤子','高跟鞋','袜子']\n",
    "v1 = [5,20,36,10,75,90]\n",
    "v2 = [10,25,8,60,20,80]\n",
    "bar = Bar('标记线和标记示例')\n",
    "bar.add('商家A',attr,v1,mark_point = ['average'])     #标记点：商家A的平均值\n",
    "bar.add('商家B',attr,v2,mark_line = ['min','max'])    #标记线：商家B最小/最大值\n",
    "bar.render('./first04.html')"
   ]
  },
  {
   "cell_type": "code",
   "execution_count": null,
   "metadata": {},
   "outputs": [],
   "source": [
    "# add(name,attr,value,radius = None,center = None,rosetype = None,**kwargs)\n",
    "# attr:属性名称\n",
    "# radius：饼图半径，数组第一项是内径，第二项是外径，默认[0,75,],设置成百分比\n",
    "# center：圆心，数组第一项是X轴，第二项是Y轴，默认[50,50]\n",
    "# # rosetype: 是否展示成南丁格尔图，用过半径区分数据大小，radius和area两种模式，默认radius\n"
   ]
  },
  {
   "cell_type": "code",
   "execution_count": 23,
   "metadata": {},
   "outputs": [],
   "source": [
    "#饼图Pie\n",
    "#▶代码1：(饼图)\n",
    "from pyecharts import Pie\n",
    "\n",
    "attr = ['衬衫','羊毛衫','雪纺衫','裤子','高跟鞋','袜子']\n",
    "v1 = [5,20,36,10,75,90]\n",
    "pie = Pie('饼图示例')\n",
    "# '图例名字'鼠标放到饼状图上可见效果\n",
    "pie.add('',attr,v1,is_label_show = True)\n",
    "pie.render('./pie01.html') \n",
    "\n",
    "#▶代码2：(环形图)\n",
    "from pyecharts import Pie\n",
    "\n",
    "attr = ['衬衫','羊毛衫','雪纺衫','裤子','高跟鞋','袜子']\n",
    "v1 = [5,20,36,10,75,90]\n",
    "pie = Pie('饼图-环形图示例',title_pos = 'center')\n",
    "pie.add(\n",
    "        '',attr,v1,                 #''：图例名（不使用图例）\n",
    "        radius = [40,75],           #环形内外圆的半径\n",
    "        is_label_show = True,       #是否显示标签\n",
    "        label_text_color = None,    #标签颜色\n",
    "        legend_orient = 'vertical', #图例垂直\n",
    "        legend_pos = 'left'\n",
    "        )\n",
    "pie.render('./pie02.html') "
   ]
  },
  {
   "cell_type": "code",
   "execution_count": 34,
   "metadata": {},
   "outputs": [],
   "source": [
    "#▶代码1：\n",
    "from pyecharts import Map\n",
    "value = [155,10,66,78]\n",
    "attr = ['福建','山东','北京','上海']\n",
    "map = Map('全国地图示例',width = 1200,height = 600)\n",
    "map.add('',attr,value,maptype = 'china')\n",
    "map.render('./map01.html')\n",
    "\n",
    "#▶代码2：\n",
    "from pyecharts import Map\n",
    "value = [155,10,66,78]\n",
    "attr = ['汕头市','汕尾市','揭阳市','肇庆市']\n",
    "map = Map('广东地图示例',width = 1200,height = 600)\n",
    "# is_label_show = True为何并不能显示标签\n",
    "map.add('',attr,value,maptype = '广东',\n",
    "        is_visualmap = True,\n",
    "        visual_text_color = '#000',\n",
    "        is_label_show = True\n",
    "        )\n",
    "map.render('./map02.html') "
   ]
  },
  {
   "cell_type": "code",
   "execution_count": null,
   "metadata": {},
   "outputs": [],
   "source": [
    "# add(\n",
    "#     name,attr,value,\n",
    "#     shape = 'circle',\n",
    "#     word_gap = 20,\n",
    "#     word_size_range = None\n",
    "#     rotate_step = 45\n",
    "#     )\n",
    "# shape-> list :词云图轮廓（circle,cardioid,diamond,triangle-forward,triangle,pentagon,star）\n",
    "# word_gap -> int 单词间隔 默认 20\n",
    "# word_size_range -> int 单词字体大小范围 默认[12,60]\n",
    "# rotate_step -> int 单词旋转角度，默认45。\n"
   ]
  },
  {
   "cell_type": "code",
   "execution_count": 41,
   "metadata": {},
   "outputs": [],
   "source": [
    "from pyecharts import WordCloud\n",
    "name = [\n",
    "        'Though','the answer','this question',\n",
    "        'may at first','seem to border','on the',\n",
    "        'absurd','reflection','will show','that there',\n",
    "        'is a','good deal','more in','it than meets','the eye'\n",
    "        ]\n",
    "value = [10000,6189,4556,2356,2233,\n",
    "         1895,1456,1255,981,875,\n",
    "         542,462,361,265,125]\n",
    "worldcloud = WordCloud(width = 1300,height = 620)\n",
    "worldcloud.add('',name,value,word_size_range = [20,100])\n",
    "worldcloud.render('./worldcloud01.html')"
   ]
  },
  {
   "cell_type": "code",
   "execution_count": null,
   "metadata": {},
   "outputs": [],
   "source": []
  }
 ],
 "metadata": {
  "kernelspec": {
   "display_name": "Python 3",
   "language": "python",
   "name": "python3"
  },
  "language_info": {
   "codemirror_mode": {
    "name": "ipython",
    "version": 3
   },
   "file_extension": ".py",
   "mimetype": "text/x-python",
   "name": "python",
   "nbconvert_exporter": "python",
   "pygments_lexer": "ipython3",
   "version": "3.7.6"
  }
 },
 "nbformat": 4,
 "nbformat_minor": 4
}
