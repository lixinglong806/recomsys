{
 "cells": [
  {
   "cell_type": "markdown",
   "metadata": {},
   "source": [
    "#### Spark直接访问MySQL数据库  \n",
    "spark可以直接访问MySQL业务数据库，获取数据，但是这样可能会导致业务数据库压力比较大，数据量较大时，不推荐这样处理"
   ]
  },
  {
   "cell_type": "code",
   "execution_count": 1,
   "metadata": {},
   "outputs": [],
   "source": [
    "import os\n",
    "# 配置pyspark和spark driver运行时 使用的python解释器\n",
    "JAVA_HOME = '/root/bigdata/jdk'\n",
    "PYSPARK_PYTHON = '/miniconda2/envs/py365/bin/python'\n",
    "# 当存在多个版本时，不指定很可能会导致出错\n",
    "os.environ['PYSPARK_PYTHON'] = PYSPARK_PYTHON\n",
    "os.environ['PYSPARK_DRIVER_PYTHON'] = PYSPARK_PYTHON\n",
    "os.environ['JAVA_HOME'] = JAVA_HOME\n",
    "# 实现把mysql-connector-java-5.1.47.jar放入指定目录下\n",
    "# 如果是使用spark直连MySQL数据库，读取数据，需要使用mysql链接的jar包，这里预先下载并放在了指定目录\n",
    "os.environ[\"PYSPARK_SUBMIT_ARGS\"] = \"--jars /root/bigdata/spark/extraJars/mysql-connector-java-5.1.47.jar pyspark-shell\"\n",
    "# 配置spark信息\n",
    "from pyspark import SparkConf\n",
    "from pyspark.sql import SparkSession\n",
    "\n",
    "SPARK_APP_NAME = \"preprocessingMeiDuoData\"\n",
    "SPARK_URL = \"spark://192.168.58.100:7077\"\n",
    "\n",
    "conf = SparkConf()    # 创建spark config对象\n",
    "config = (\n",
    "\t(\"spark.app.name\", SPARK_APP_NAME),    # 设置启动的spark的app名称，没有提供，将随机产生一个名称\n",
    "\t(\"spark.executor.memory\", \"2g\"),    # 设置该app启动时占用的内存用量，默认1g，指一台虚拟机\n",
    "\t(\"spark.master\", SPARK_URL),    # spark master的地址\n",
    "    (\"spark.executor.cores\", \"2\"),    # 设置spark executor使用的CPU核心数，指一台虚拟机\n",
    "    # 以下三项配置，可以控制执行器数量\n",
    "#     (\"spark.dynamicAllocation.enabled\", True),\n",
    "#     (\"spark.dynamicAllocation.initialExecutors\", 1),    # 1个执行器\n",
    "#     (\"spark.shuffle.service.enabled\", True)\n",
    "# \t('spark.sql.pivotMaxValues', '99999'),  # 当需要pivot DF，且值很多时，需要修改，默认是10000\n",
    ")\n",
    "# 查看更详细配置及说明：https://spark.apache.org/docs/latest/configuration.html\n",
    "\n",
    "conf.setAll(config)\n",
    "\n",
    "# 利用config对象，创建spark session\n",
    "spark = SparkSession.builder.config(conf=conf).enableHiveSupport().getOrCreate()"
   ]
  },
  {
   "cell_type": "code",
   "execution_count": 4,
   "metadata": {},
   "outputs": [
    {
     "data": {
      "text/plain": [
       "DataFrame[id: int, create_time: timestamp, update_time: timestamp, name: string, sales: int, comments: int, brand_id: int, category1_id: int, category2_id: int, category3_id: int, desc_detail: string, desc_pack: string, desc_service: string]"
      ]
     },
     "execution_count": 4,
     "metadata": {},
     "output_type": "execute_result"
    }
   ],
   "source": [
    "# 直连访问mysql读取数据，这种方式数据没有经过hdfs，而是直接在MySQL数据库上进行操作，因此如果数据量较大，后续操作会对MySQL产生较大压力\n",
    "# 因此该方式虽然用起来最爽，但是使用时一定要注意对mysql数据带来的影响\n",
    "ret = spark.read.format(\"jdbc\").options(url=\"jdbc:mysql://localhost/meiduo_mall\",\n",
    "                                       driver=\"com.mysql.jdbc.Driver\",\n",
    "                                       dbtable=\"tb_goods\",\n",
    "                                        user=\"root\",\n",
    "                                       password=\"password\").load()#mysql的密码\n",
    "ret"
   ]
  },
  {
   "cell_type": "code",
   "execution_count": 5,
   "metadata": {},
   "outputs": [
    {
     "name": "stdout",
     "output_type": "stream",
     "text": [
      "+---+--------------------+--------------------+--------------------+-----+--------+--------+------------+------------+------------+--------------------+--------------------+--------------------+\n",
      "| id|         create_time|         update_time|                name|sales|comments|brand_id|category1_id|category2_id|category3_id|         desc_detail|           desc_pack|        desc_service|\n",
      "+---+--------------------+--------------------+--------------------+-----+--------+--------+------------+------------+------------+--------------------+--------------------+--------------------+\n",
      "|  1|2018-04-11 16:01:...|2018-04-25 12:09:...|Apple MacBook Pro...|    1|       1|       1|           4|          45|         157|<h1 style=\"text-a...|<h2>包装清单</h2>\r\n",
      "\r\n",
      "...|<p>&nbsp;<strong>...|\n",
      "|  2|2018-04-14 02:09:...|2018-04-25 11:51:...| Apple iPhone 8 Plus|    3|       1|       1|           1|          38|         115|<p><img alt=\"\" sr...|<h3>包装清单</h3>\r\n",
      "\r\n",
      "...|<p>&nbsp;<strong>...|\n",
      "|  3|2018-04-14 03:03:...|2018-04-25 11:51:...|  华为 HUAWEI P10 Plus|    1|       8|       2|           1|          38|         115|<p><img alt=\"\" sr...|<h3>包装清单</h3>\r\n",
      "\r\n",
      "...|<p>&nbsp;<strong>...|\n",
      "|  4| 2018-11-01 10:43:14| 2018-11-01 10:43:14|【次日达】泰火薄快充电宝手机壳无线...|    0|       0|       1|           1|          39|         126|                    |                    |                    |\n",
      "|  5| 2018-11-01 10:43:25| 2018-11-01 10:43:25|GoPro hero7运动相机水下...|    0|       0|       1|           2|          40|         132|                    |                    |                    |\n",
      "|  6| 2018-11-01 10:43:58| 2018-11-01 10:43:58|川宇 USB3.0高速多功能合一T...|    0|       0|       1|           3|          41|         140|                    |                    |                    |\n",
      "|  7| 2018-11-01 10:43:59| 2018-11-01 10:43:59|腾讯听听 9420  智能音箱/音...|    0|       0|       1|           3|          42|         143|                    |                    |                    |\n",
      "|  8| 2018-11-01 10:44:00| 2018-11-01 10:44:00|苹果XS Max无线充电器iPho...|    0|       0|       1|           1|          39|         123|                    |                    |                    |\n",
      "|  9| 2018-11-01 10:44:05| 2018-11-01 10:44:05|behringer 百灵达X32数...|    0|       0|       1|           3|          42|         146|                    |                    |                    |\n",
      "| 10| 2018-11-01 10:44:13| 2018-11-01 10:44:13|ESCASE 荣耀畅玩8c手机壳 ...|    0|       0|       1|           1|          39|         119|                    |                    |                    |\n",
      "| 11| 2018-11-01 10:44:11| 2018-11-01 10:44:11|FDY FW3C 5C 蓝牙无线W...|    0|       0|       1|           3|          42|         143|                    |                    |                    |\n",
      "| 12| 2018-11-01 10:44:12| 2018-11-01 10:44:12|摩托罗拉（Motorola） 威泰...|    0|       0|       1|           1|          38|         118|                    |                    |                    |\n",
      "| 13| 2018-11-01 10:44:14| 2018-11-01 10:44:14|沃丁（WODING） 亚马逊 Am...|    0|       0|       1|           3|          42|         143|                    |                    |                    |\n",
      "| 14| 2018-11-01 10:44:16| 2018-11-01 10:44:16|科凌（keling） F8全波段收...|    0|       0|       1|           3|          42|         144|                    |                    |                    |\n",
      "| 15| 2018-11-01 10:44:25| 2018-11-01 10:44:25|科威盛（kevsen） Q3对讲机...|    0|       0|       1|           1|          38|         118|                    |                    |                    |\n",
      "| 16| 2018-11-01 10:44:24| 2018-11-01 10:44:24|小米（MI） 小米手环3代nfc版...|    0|       0|       1|           3|          43|         147|                    |                    |                    |\n",
      "| 17| 2018-11-01 10:44:25| 2018-11-01 10:44:25|摩托罗拉（Motorola） MA...|    0|       0|       1|           1|          38|         118|                    |                    |                    |\n",
      "| 18| 2018-11-01 10:44:29| 2018-11-01 10:44:29|C&C 儿童相机数码卡通照相机玩具...|    0|       0|       1|           2|          40|         128|                    |                    |                    |\n",
      "| 19| 2018-11-01 10:44:30| 2018-11-01 10:44:30|全景看房婚礼旅行！理光 THETA...|    0|       0|       1|           2|          40|         128|                    |                    |                    |\n",
      "| 20| 2018-11-01 10:44:29| 2018-11-01 10:44:29|欧兴 KLG5.0 对讲机 待机1...|    0|       0|       1|           1|          38|         118|                    |                    |                    |\n",
      "+---+--------------------+--------------------+--------------------+-----+--------+--------+------------+------------+------------+--------------------+--------------------+--------------------+\n",
      "only showing top 20 rows\n",
      "\n"
     ]
    }
   ],
   "source": [
    "ret.show()"
   ]
  }
 ],
 "metadata": {
  "kernelspec": {
   "display_name": "Python 3",
   "language": "python",
   "name": "python3"
  },
  "language_info": {
   "codemirror_mode": {
    "name": "ipython",
    "version": 3
   },
   "file_extension": ".py",
   "mimetype": "text/x-python",
   "name": "python",
   "nbconvert_exporter": "python",
   "pygments_lexer": "ipython3",
   "version": "3.7.6"
  }
 },
 "nbformat": 4,
 "nbformat_minor": 2
}
