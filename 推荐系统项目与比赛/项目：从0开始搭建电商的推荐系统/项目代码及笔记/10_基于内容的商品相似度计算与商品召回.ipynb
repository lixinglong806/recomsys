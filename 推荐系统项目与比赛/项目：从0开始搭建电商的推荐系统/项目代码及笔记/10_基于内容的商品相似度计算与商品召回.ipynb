{
 "cells": [
  {
   "cell_type": "markdown",
   "metadata": {},
   "source": [
    "## 基于内容的商品相似度计算与商品召回\n",
    "网站初期，没有大量的用户数据，因此初期的离线推荐将以基于物品画像的召回推荐为主，  \n",
    "\n",
    "主要实现逻辑：  \n",
    "- 根据商品关键词 对应的权重值，结合该关键词 对应的词向量，进行加权求平均，计算出该商品的向量值 \n",
    "\n",
    " 1件sku 有n个关键词，1个关键词(带有1个权重)有 1个embedding词向量表示  \n",
    " **该sku的商品表示 = (第i词的词向量表示*第i词的权重)加和**\n",
    " \n",
    " \n",
    "- 利用相似度得出 每件商品 与之相似的 topN件商品"
   ]
  },
  {
   "cell_type": "code",
   "execution_count": 2,
   "metadata": {},
   "outputs": [],
   "source": [
    "import os\n",
    "# 配置pyspark和spark driver运行时 使用的python解释器\n",
    "JAVA_HOME = '/root/bigdata/jdk'\n",
    "PYSPARK_PYTHON = '/miniconda2/envs/py365/bin/python'\n",
    "# 当存在多个版本时，不指定很可能会导致出错\n",
    "os.environ['PYSPARK_PYTHON'] = PYSPARK_PYTHON\n",
    "os.environ['PYSPARK_DRIVER_PYTHON'] = PYSPARK_PYTHON\n",
    "os.environ['JAVA_HOME'] = JAVA_HOME\n",
    "# 配置spark信息\n",
    "from pyspark import SparkConf\n",
    "from pyspark.sql import SparkSession\n",
    "\n",
    "SPARK_APP_NAME = \"itemFigureRecall\"\n",
    "SPARK_URL = \"spark://192.168.58.100:7077\"\n",
    "\n",
    "conf = SparkConf()    # 创建spark config对象\n",
    "config = (\n",
    "\t(\"spark.app.name\", SPARK_APP_NAME),    # 设置启动的spark的app名称，没有提供，将随机产生一个名称\n",
    "\t(\"spark.executor.memory\", \"2g\"),    # 设置该app启动时占用的内存用量，默认1g，指一台虚拟机\n",
    "\t(\"spark.master\", SPARK_URL),    # spark master的地址\n",
    "    (\"spark.executor.cores\", \"2\"),    # 设置spark executor使用的CPU核心数，指一台虚拟机\n",
    "    (\"hive.metastore.uris\", \"thrift://localhost:9083\"),    # 配置hive元数据的访问，否则spark无法获取hive中已存储的数据\n",
    "    \n",
    "    # 以下三项配置，可以控制执行器数量\n",
    "#     (\"spark.dynamicAllocation.enabled\", True),\n",
    "#     (\"spark.dynamicAllocation.initialExecutors\", 1),    # 1个执行器\n",
    "#     (\"spark.shuffle.service.enabled\", True)\n",
    "# \t('spark.sql.pivotMaxValues', '99999'),  # 当需要pivot DF，且值很多时，需要修改，默认是10000\n",
    ")\n",
    "# 查看更详细配置及说明：https://spark.apache.org/docs/latest/configuration.html\n",
    "\n",
    "conf.setAll(config)\n",
    "\n",
    "# 利用config对象，创建spark session\n",
    "spark = SparkSession.builder.config(conf=conf).enableHiveSupport().getOrCreate()"
   ]
  },
  {
   "cell_type": "code",
   "execution_count": 2,
   "metadata": {},
   "outputs": [],
   "source": [
    "sku_tag_weights = spark.sql('select * from sku_tag_merge_weights')\n",
    "# tag就是tfidf那章 每个sku_id对应的summary 切完词之后的关键词\n",
    "sku_tag_weights.show()"
   ]
  },
  {
   "cell_type": "code",
   "execution_count": 4,
   "metadata": {},
   "outputs": [],
   "source": [
    "# sku_tag_weights.groupBy('tag').count().count()\n",
    "# 38328"
   ]
  },
  {
   "cell_type": "code",
   "execution_count": 6,
   "metadata": {
    "scrolled": false
   },
   "outputs": [
    {
     "name": "stdout",
     "output_type": "stream",
     "text": [
      "+------+--------+-------+-------------------+-------------------+-------------------+\n",
      "|sku_id|industry|    tag|           textrank|              tfidf|            weights|\n",
      "+------+--------+-------+-------------------+-------------------+-------------------+\n",
      "|     1|    电子产品|     颜色| 0.2530432277207418|0.01276759418263924| 0.1329054109516905|\n",
      "|     1|    电子产品|     产品| 0.4408521260642171|0.09632014671815864| 0.2685861363911879|\n",
      "|     1|    电子产品|     版本| 0.4975153001572373|0.06629382447805561|0.28190456231764643|\n",
      "|     1|    电子产品|     特惠|0.36817954724375584|0.22333878637923998|0.29575916681149794|\n",
      "|     1|    电子产品|     内存|  0.446169908963079|0.14835294069708402| 0.2972614248300815|\n",
      "|     1|    电子产品|     官方|0.47547103618754005|0.13582584454306587|  0.305648440365303|\n",
      "|     1|    电子产品|     尺寸| 0.5566745152156337|0.19895352844206426|  0.377814021828849|\n",
      "|     1|    电子产品|     屏幕| 0.5578306702654822| 0.2235040348005383| 0.3906673525330102|\n",
      "|     1|    电子产品|     电脑| 0.6908128340350108| 0.0975781721443329| 0.3941955030896719|\n",
      "|     1|    电子产品|     即发| 0.5205724449688625| 0.2792169451200764| 0.3998946950444694|\n",
      "|     1|    电子产品|     才华|0.41078350930249075| 0.5267698970521265|0.46877670317730863|\n",
      "|     1|    电子产品|     银色| 0.6435786348103103|0.31994359335574984| 0.4817611140830301|\n",
      "|     1|    电子产品|     黑五|0.46917715195597554| 0.5267698970521265|  0.497973524504051|\n",
      "|     1|    电子产品|   core| 0.4930019268112531| 0.5267698970521265| 0.5098859119316899|\n",
      "|     1|    电子产品|    笔记本| 0.8552990950150414| 0.2962833493350267| 0.5757912221750341|\n",
      "|     1|    电子产品|     英寸|                1.0|0.19796136718089044| 0.5989806835904452|\n",
      "|     1|    电子产品|    Pro| 0.8179559858686922|0.40670814294663504| 0.6123320644076636|\n",
      "|     1|    电子产品|  Apple| 0.9654271256288627|0.49085358694295506| 0.7281403562859089|\n",
      "|     1|    电子产品|MacBook| 0.9649696261559032| 0.6213930153243914| 0.7931813207401472|\n",
      "+------+--------+-------+-------------------+-------------------+-------------------+\n",
      "\n"
     ]
    }
   ],
   "source": [
    "# 试着查看下 1号sku所有的关键词+权重\n",
    "spark.sql('select * from sku_tag_merge_weights where sku_id = 1 order by weights').show()"
   ]
  },
  {
   "cell_type": "code",
   "execution_count": 3,
   "metadata": {},
   "outputs": [],
   "source": [
    "from pyspark.ml.feature import Word2VecModel\n",
    "word2vec_model = Word2VecModel.load('/meiduo_mall/models/电子产品.word2vec_model')\n",
    "# w2v训练后 保留的关键词\n",
    "vectors = word2vec_model.getVectors()"
   ]
  },
  {
   "cell_type": "code",
   "execution_count": 16,
   "metadata": {},
   "outputs": [
    {
     "name": "stdout",
     "output_type": "stream",
     "text": [
      "+----------+--------------------+\n",
      "|      word|              vector|\n",
      "+----------+--------------------+\n",
      "|        钟爱|[0.02725963108241...|\n",
      "|        伙伴|[0.01822851598262...|\n",
      "|    uhd566|[-0.0026338319294...|\n",
      "|       体重秤|[0.41525700688362...|\n",
      "|        咪头|[0.18375480175018...|\n",
      "|        人物|[0.13888520002365...|\n",
      "|mini25star|[0.10265478491783...|\n",
      "|    iP7280|[-0.3177461028099...|\n",
      "|        红龙|[0.08126184344291...|\n",
      "|    ALW17C|[0.02772485837340...|\n",
      "|       S18|[-0.3153381943702...|\n",
      "|        淡粉|[-0.0277402922511...|\n",
      "|      A550|[0.10420309007167...|\n",
      "|        体脂|[0.39589273929595...|\n",
      "|       R80|[0.01038890704512...|\n",
      "|        环球|[-0.1373830288648...|\n",
      "|        傲石|[0.11340291798114...|\n",
      "|        热水|[-0.0937786400318...|\n",
      "|    iP4980|[-0.1033011823892...|\n",
      "|        变光|[0.00825320743024...|\n",
      "+----------+--------------------+\n",
      "only showing top 20 rows\n",
      "\n"
     ]
    }
   ],
   "source": [
    "vectors.show()"
   ]
  },
  {
   "cell_type": "code",
   "execution_count": null,
   "metadata": {},
   "outputs": [],
   "source": [
    "# 每个关键词的embedding向量 列 拼接到'sku_id-权重表sku_tag_merge_weights'上"
   ]
  },
  {
   "cell_type": "code",
   "execution_count": 14,
   "metadata": {},
   "outputs": [
    {
     "name": "stdout",
     "output_type": "stream",
     "text": [
      "w2v训练前电子产品所有的关键词总数(不重复)是： 38328\n",
      "w2v训练后得到的关键词(此时关键词已被用embedding表示)总数： 18121\n"
     ]
    }
   ],
   "source": [
    "print('w2v训练前电子产品所有的关键词总数(不重复)是：',sku_tag_weights.groupBy('tag').count().count())\n",
    "print('w2v训练后得到的关键词(此时关键词已被用embedding表示)总数：',vectors.count())\n",
    "# 可见：部分词在wrod2vec模型中不存在，因此必须使用inner join，舍弃掉这次，他们数量较少，就忽略不计\n",
    "# 因此inner join"
   ]
  },
  {
   "cell_type": "code",
   "execution_count": 4,
   "metadata": {},
   "outputs": [],
   "source": [
    "_ = sku_tag_weights.join(vectors,[sku_tag_weights.tag==vectors.word],'inner')\n",
    "_.show(1)#带有embedding词向量"
   ]
  },
  {
   "cell_type": "code",
   "execution_count": 18,
   "metadata": {},
   "outputs": [
    {
     "name": "stdout",
     "output_type": "stream",
     "text": [
      "1139798\n"
     ]
    },
    {
     "data": {
      "text/plain": [
       "1171863"
      ]
     },
     "execution_count": 18,
     "metadata": {},
     "output_type": "execute_result"
    }
   ],
   "source": [
    "print(_.count())\n",
    "sku_tag_weights.count()"
   ]
  },
  {
   "cell_type": "code",
   "execution_count": 8,
   "metadata": {},
   "outputs": [
    {
     "name": "stdout",
     "output_type": "stream",
     "text": [
      "+------+-------+--------------------+\n",
      "|sku_id|    tag|              vector|\n",
      "+------+-------+--------------------+\n",
      "|    85|     数码|[0.01333410454927...|\n",
      "|   172|   USB2|[-0.0582328234302...|\n",
      "|   182|     型号|[-0.5986965058535...|\n",
      "|   190|    雷克沙|[-0.0290172319018...|\n",
      "|   271|   数码配件|[-0.0378638870371...|\n",
      "|   282|    香槟色|[-0.0372031283570...|\n",
      "|   305|     星空|[0.08105157660438...|\n",
      "|   312|   SONY|[-0.0988841883341...|\n",
      "|   326|     川宇|[-0.1222147164901...|\n",
      "|   334| TOPSSD|[-0.0103135671827...|\n",
      "|   334|     天硕|[-0.0202074556195...|\n",
      "|   351|   数码配件|[-0.0820574445237...|\n",
      "|   370|     功能|[0.03261207532459...|\n",
      "|   403|   数码配件|[-0.0648847702723...|\n",
      "|   410|MicroSD|[-0.0169194095194...|\n",
      "|   414|     颜色|[4.06892799643887...|\n",
      "|   441|    手机卡|[-0.0184025048013...|\n",
      "|   441|     数码|[0.00417148979608...|\n",
      "|   450|   数码配件|[-0.0678617514344...|\n",
      "|   456|     数码|[0.00961656805449...|\n",
      "+------+-------+--------------------+\n",
      "only showing top 20 rows\n",
      "\n"
     ]
    }
   ],
   "source": [
    "#使用每个词的综合权重乘以每个词的词向量\n",
    "sku_tag_vector = _.rdd.map(lambda r:(r.sku_id, r.tag, r.weights*r.vector)).toDF([\"sku_id\", \"tag\",\"vector\"])\n",
    "sku_tag_vector.show()"
   ]
  },
  {
   "cell_type": "markdown",
   "metadata": {},
   "source": [
    "```\n",
    "注意向量与列表的相加是不同的\n",
    "DenseVector([1,1])+DenseVector([2,2])=DenseVector([3,3])\n",
    "但是[1,1]+[2,2]=[1,1,2,2]\n",
    "```"
   ]
  },
  {
   "cell_type": "code",
   "execution_count": null,
   "metadata": {},
   "outputs": [],
   "source": [
    "# 每个sku的 embedding词向量表示"
   ]
  },
  {
   "cell_type": "code",
   "execution_count": 9,
   "metadata": {},
   "outputs": [
    {
     "name": "stdout",
     "output_type": "stream",
     "text": [
      "+------+--------------------+\n",
      "|sku_id|              vector|\n",
      "+------+--------------------+\n",
      "|    26|[0.01235398195028...|\n",
      "|    29|[0.21760844687031...|\n",
      "|   474|[-0.0423007059418...|\n",
      "|   964|[0.08240807672413...|\n",
      "|  1677|[0.02065021965251...|\n",
      "|  1697|[0.39568690077127...|\n",
      "|  1806|[0.05530353810490...|\n",
      "|  1950|[0.13603717113579...|\n",
      "|  2040|[-0.0108802742841...|\n",
      "|  2214|[-0.0480597909252...|\n",
      "|  2250|[0.03186294420201...|\n",
      "|  2453|[-0.0384253501587...|\n",
      "|  2509|[-0.0221520914506...|\n",
      "|  2529|[-0.0486537793846...|\n",
      "|  2927|[-0.0213679434397...|\n",
      "|  3091|[-0.0477536702739...|\n",
      "|  3506|[-0.1093108035922...|\n",
      "|  3764|[0.01326956604482...|\n",
      "|  4590|[0.16880469210238...|\n",
      "|  4823|[0.13785943123954...|\n",
      "+------+--------------------+\n",
      "only showing top 20 rows\n",
      "\n"
     ]
    }
   ],
   "source": [
    "sku_tag_vector.registerTempTable(\"tempTable\")\n",
    "\n",
    "def map(row):\n",
    "    x = 0\n",
    "    for v in row.vectors:\n",
    "        x += v\n",
    "    #  将平均向量作为sku的向量\n",
    "    return row.sku_id, x/len(row.vectors)\n",
    "\n",
    "sku_vector = spark.sql(\"select sku_id, collect_set(vector) vectors from tempTable group by sku_id\").rdd.map(map).toDF([\"sku_id\", \"vector\"])\n",
    "sku_vector.show()"
   ]
  },
  {
   "cell_type": "code",
   "execution_count": null,
   "metadata": {},
   "outputs": [],
   "source": []
  },
  {
   "cell_type": "code",
   "execution_count": null,
   "metadata": {},
   "outputs": [],
   "source": [
    "# 计算皮尔逊相似度"
   ]
  },
  {
   "cell_type": "code",
   "execution_count": 33,
   "metadata": {},
   "outputs": [
    {
     "data": {
      "text/plain": [
       "0.9739711347735766"
      ]
     },
     "execution_count": 33,
     "metadata": {},
     "output_type": "execute_result"
    }
   ],
   "source": [
    "from pyspark.mllib.stat import Statistics\n",
    "v1 = sku_vector.where('sku_id=1').select('vector').first().vector # DenseVector\n",
    "v2 = sku_vector.where('sku_id=2').select('vector').first().vector\n",
    "sc=spark.sparkContext\n",
    "x = sc.parallelize(v1) # rdd\n",
    "y = sc.parallelize(v2)\n",
    "Statistics.corr(x,y,method='pearson')"
   ]
  },
  {
   "cell_type": "code",
   "execution_count": 35,
   "metadata": {},
   "outputs": [],
   "source": [
    "# 查看DenseVector\n",
    "# sku_vector.where('sku_id=1').select('vector').first().vector\n",
    "# DenseVector([...])"
   ]
  },
  {
   "cell_type": "code",
   "execution_count": 52,
   "metadata": {},
   "outputs": [],
   "source": [
    "# 延申学习：spark.createDataFrame的建立方式之一；内外连接\n",
    "# test1=spark.createDataFrame([\n",
    "#     (1,'ni'),\n",
    "#     (2,'hao'),\n",
    "#     (3,'ma')\n",
    "# ],['id','content'])\n",
    "# test1.show()\n",
    "# test2=spark.createDataFrame([\n",
    "#     (1,'ni'),\n",
    "#     (2,'hao'),\n",
    "#     (3,'ma')\n",
    "# ],['id2','content2'])\n",
    "# test2.show()\n",
    "# test1.join(test2,[test1.id!=test2.id2],'outer').show()\n",
    "# test1.join(test2,[test1.id!=test2.id2],'inner').show()\n",
    "# +---+-------+\n",
    "# | id|content|\n",
    "# +---+-------+\n",
    "# |  1|     ni|\n",
    "# |  2|    hao|\n",
    "# |  3|     ma|\n",
    "# +---+-------+\n",
    "\n",
    "# +---+--------+\n",
    "# |id2|content2|\n",
    "# +---+--------+\n",
    "# |  1|      ni|\n",
    "# |  2|     hao|\n",
    "# |  3|      ma|\n",
    "# +---+--------+\n",
    "\n",
    "# +---+-------+---+--------+\n",
    "# | id|content|id2|content2|\n",
    "# +---+-------+---+--------+\n",
    "# |  1|     ni|  2|     hao|\n",
    "# |  1|     ni|  3|      ma|\n",
    "# |  2|    hao|  1|      ni|\n",
    "# |  2|    hao|  3|      ma|\n",
    "# |  3|     ma|  1|      ni|\n",
    "# |  3|     ma|  2|     hao|\n",
    "# +---+-------+---+--------+\n",
    "\n",
    "# +---+-------+---+--------+\n",
    "# | id|content|id2|content2|\n",
    "# +---+-------+---+--------+\n",
    "# |  1|     ni|  2|     hao|\n",
    "# |  1|     ni|  3|      ma|\n",
    "# |  2|    hao|  1|      ni|\n",
    "# |  2|    hao|  3|      ma|\n",
    "# |  3|     ma|  1|      ni|\n",
    "# |  3|     ma|  2|     hao|\n",
    "# +---+-------+---+--------+"
   ]
  },
  {
   "cell_type": "code",
   "execution_count": 55,
   "metadata": {
    "collapsed": true
   },
   "outputs": [
    {
     "ename": "KeyboardInterrupt",
     "evalue": "",
     "output_type": "error",
     "traceback": [
      "\u001b[0;31m---------------------------------------------------------------------------\u001b[0m",
      "\u001b[0;31mKeyboardInterrupt\u001b[0m                         Traceback (most recent call last)",
      "\u001b[0;32m<ipython-input-55-35cf8bc2a006>\u001b[0m in \u001b[0;36m<module>\u001b[0;34m\u001b[0m\n\u001b[1;32m      3\u001b[0m \u001b[0mstart\u001b[0m \u001b[0;34m=\u001b[0m \u001b[0mtime\u001b[0m\u001b[0;34m.\u001b[0m\u001b[0mtime\u001b[0m\u001b[0;34m(\u001b[0m\u001b[0;34m)\u001b[0m\u001b[0;34m\u001b[0m\u001b[0m\n\u001b[1;32m      4\u001b[0m \u001b[0;31m### 注意注意注意：这里一定不要用inner join，因为内连接由于会剔除条左右表中不存在的条目，因此它会有过滤操作，在数据量极其大的情况下非常慢，注意是非常慢\u001b[0m\u001b[0;34m\u001b[0m\u001b[0;34m\u001b[0m\u001b[0m\n\u001b[0;32m----> 5\u001b[0;31m \u001b[0mprint\u001b[0m\u001b[0;34m(\u001b[0m\u001b[0msku_vector\u001b[0m\u001b[0;34m.\u001b[0m\u001b[0mjoin\u001b[0m\u001b[0;34m(\u001b[0m\u001b[0mtemp_df\u001b[0m\u001b[0;34m,\u001b[0m \u001b[0msku_vector\u001b[0m\u001b[0;34m.\u001b[0m\u001b[0msku_id\u001b[0m\u001b[0;34m!=\u001b[0m\u001b[0mtemp_df\u001b[0m\u001b[0;34m.\u001b[0m\u001b[0msku_id2\u001b[0m\u001b[0;34m,\u001b[0m \u001b[0mhow\u001b[0m\u001b[0;34m=\u001b[0m\u001b[0;34m\"inner\"\u001b[0m\u001b[0;34m)\u001b[0m\u001b[0;34m.\u001b[0m\u001b[0mcount\u001b[0m\u001b[0;34m(\u001b[0m\u001b[0;34m)\u001b[0m\u001b[0;34m)\u001b[0m\u001b[0;34m\u001b[0m\u001b[0m\n\u001b[0m\u001b[1;32m      6\u001b[0m \u001b[0mprint\u001b[0m\u001b[0;34m(\u001b[0m\u001b[0mtime\u001b[0m\u001b[0;34m.\u001b[0m\u001b[0mtime\u001b[0m\u001b[0;34m(\u001b[0m\u001b[0;34m)\u001b[0m\u001b[0;34m-\u001b[0m\u001b[0mstart\u001b[0m\u001b[0;34m)\u001b[0m\u001b[0;34m\u001b[0m\u001b[0m\n",
      "\u001b[0;32m/miniconda2/envs/py365/lib/python3.6/site-packages/pyspark-2.2.2-py3.6.egg/pyspark/sql/dataframe.py\u001b[0m in \u001b[0;36mcount\u001b[0;34m(self)\u001b[0m\n\u001b[1;32m    425\u001b[0m         \u001b[0;36m2\u001b[0m\u001b[0;34m\u001b[0m\u001b[0m\n\u001b[1;32m    426\u001b[0m         \"\"\"\n\u001b[0;32m--> 427\u001b[0;31m         \u001b[0;32mreturn\u001b[0m \u001b[0mint\u001b[0m\u001b[0;34m(\u001b[0m\u001b[0mself\u001b[0m\u001b[0;34m.\u001b[0m\u001b[0m_jdf\u001b[0m\u001b[0;34m.\u001b[0m\u001b[0mcount\u001b[0m\u001b[0;34m(\u001b[0m\u001b[0;34m)\u001b[0m\u001b[0;34m)\u001b[0m\u001b[0;34m\u001b[0m\u001b[0m\n\u001b[0m\u001b[1;32m    428\u001b[0m \u001b[0;34m\u001b[0m\u001b[0m\n\u001b[1;32m    429\u001b[0m     \u001b[0;34m@\u001b[0m\u001b[0mignore_unicode_prefix\u001b[0m\u001b[0;34m\u001b[0m\u001b[0m\n",
      "\u001b[0;32m/miniconda2/envs/py365/lib/python3.6/site-packages/py4j-0.10.7-py3.6.egg/py4j/java_gateway.py\u001b[0m in \u001b[0;36m__call__\u001b[0;34m(self, *args)\u001b[0m\n\u001b[1;32m   1253\u001b[0m             \u001b[0mproto\u001b[0m\u001b[0;34m.\u001b[0m\u001b[0mEND_COMMAND_PART\u001b[0m\u001b[0;34m\u001b[0m\u001b[0m\n\u001b[1;32m   1254\u001b[0m \u001b[0;34m\u001b[0m\u001b[0m\n\u001b[0;32m-> 1255\u001b[0;31m         \u001b[0manswer\u001b[0m \u001b[0;34m=\u001b[0m \u001b[0mself\u001b[0m\u001b[0;34m.\u001b[0m\u001b[0mgateway_client\u001b[0m\u001b[0;34m.\u001b[0m\u001b[0msend_command\u001b[0m\u001b[0;34m(\u001b[0m\u001b[0mcommand\u001b[0m\u001b[0;34m)\u001b[0m\u001b[0;34m\u001b[0m\u001b[0m\n\u001b[0m\u001b[1;32m   1256\u001b[0m         return_value = get_return_value(\n\u001b[1;32m   1257\u001b[0m             answer, self.gateway_client, self.target_id, self.name)\n",
      "\u001b[0;32m/miniconda2/envs/py365/lib/python3.6/site-packages/py4j-0.10.7-py3.6.egg/py4j/java_gateway.py\u001b[0m in \u001b[0;36msend_command\u001b[0;34m(self, command, retry, binary)\u001b[0m\n\u001b[1;32m    983\u001b[0m         \u001b[0mconnection\u001b[0m \u001b[0;34m=\u001b[0m \u001b[0mself\u001b[0m\u001b[0;34m.\u001b[0m\u001b[0m_get_connection\u001b[0m\u001b[0;34m(\u001b[0m\u001b[0;34m)\u001b[0m\u001b[0;34m\u001b[0m\u001b[0m\n\u001b[1;32m    984\u001b[0m         \u001b[0;32mtry\u001b[0m\u001b[0;34m:\u001b[0m\u001b[0;34m\u001b[0m\u001b[0m\n\u001b[0;32m--> 985\u001b[0;31m             \u001b[0mresponse\u001b[0m \u001b[0;34m=\u001b[0m \u001b[0mconnection\u001b[0m\u001b[0;34m.\u001b[0m\u001b[0msend_command\u001b[0m\u001b[0;34m(\u001b[0m\u001b[0mcommand\u001b[0m\u001b[0;34m)\u001b[0m\u001b[0;34m\u001b[0m\u001b[0m\n\u001b[0m\u001b[1;32m    986\u001b[0m             \u001b[0;32mif\u001b[0m \u001b[0mbinary\u001b[0m\u001b[0;34m:\u001b[0m\u001b[0;34m\u001b[0m\u001b[0m\n\u001b[1;32m    987\u001b[0m                 \u001b[0;32mreturn\u001b[0m \u001b[0mresponse\u001b[0m\u001b[0;34m,\u001b[0m \u001b[0mself\u001b[0m\u001b[0;34m.\u001b[0m\u001b[0m_create_connection_guard\u001b[0m\u001b[0;34m(\u001b[0m\u001b[0mconnection\u001b[0m\u001b[0;34m)\u001b[0m\u001b[0;34m\u001b[0m\u001b[0m\n",
      "\u001b[0;32m/miniconda2/envs/py365/lib/python3.6/site-packages/py4j-0.10.7-py3.6.egg/py4j/java_gateway.py\u001b[0m in \u001b[0;36msend_command\u001b[0;34m(self, command)\u001b[0m\n\u001b[1;32m   1150\u001b[0m \u001b[0;34m\u001b[0m\u001b[0m\n\u001b[1;32m   1151\u001b[0m         \u001b[0;32mtry\u001b[0m\u001b[0;34m:\u001b[0m\u001b[0;34m\u001b[0m\u001b[0m\n\u001b[0;32m-> 1152\u001b[0;31m             \u001b[0manswer\u001b[0m \u001b[0;34m=\u001b[0m \u001b[0msmart_decode\u001b[0m\u001b[0;34m(\u001b[0m\u001b[0mself\u001b[0m\u001b[0;34m.\u001b[0m\u001b[0mstream\u001b[0m\u001b[0;34m.\u001b[0m\u001b[0mreadline\u001b[0m\u001b[0;34m(\u001b[0m\u001b[0;34m)\u001b[0m\u001b[0;34m[\u001b[0m\u001b[0;34m:\u001b[0m\u001b[0;34m-\u001b[0m\u001b[0;36m1\u001b[0m\u001b[0;34m]\u001b[0m\u001b[0;34m)\u001b[0m\u001b[0;34m\u001b[0m\u001b[0m\n\u001b[0m\u001b[1;32m   1153\u001b[0m             \u001b[0mlogger\u001b[0m\u001b[0;34m.\u001b[0m\u001b[0mdebug\u001b[0m\u001b[0;34m(\u001b[0m\u001b[0;34m\"Answer received: {0}\"\u001b[0m\u001b[0;34m.\u001b[0m\u001b[0mformat\u001b[0m\u001b[0;34m(\u001b[0m\u001b[0manswer\u001b[0m\u001b[0;34m)\u001b[0m\u001b[0;34m)\u001b[0m\u001b[0;34m\u001b[0m\u001b[0m\n\u001b[1;32m   1154\u001b[0m             \u001b[0;32mif\u001b[0m \u001b[0manswer\u001b[0m\u001b[0;34m.\u001b[0m\u001b[0mstartswith\u001b[0m\u001b[0;34m(\u001b[0m\u001b[0mproto\u001b[0m\u001b[0;34m.\u001b[0m\u001b[0mRETURN_MESSAGE\u001b[0m\u001b[0;34m)\u001b[0m\u001b[0;34m:\u001b[0m\u001b[0;34m\u001b[0m\u001b[0m\n",
      "\u001b[0;32m/miniconda2/envs/py365/lib/python3.6/socket.py\u001b[0m in \u001b[0;36mreadinto\u001b[0;34m(self, b)\u001b[0m\n\u001b[1;32m    584\u001b[0m         \u001b[0;32mwhile\u001b[0m \u001b[0;32mTrue\u001b[0m\u001b[0;34m:\u001b[0m\u001b[0;34m\u001b[0m\u001b[0m\n\u001b[1;32m    585\u001b[0m             \u001b[0;32mtry\u001b[0m\u001b[0;34m:\u001b[0m\u001b[0;34m\u001b[0m\u001b[0m\n\u001b[0;32m--> 586\u001b[0;31m                 \u001b[0;32mreturn\u001b[0m \u001b[0mself\u001b[0m\u001b[0;34m.\u001b[0m\u001b[0m_sock\u001b[0m\u001b[0;34m.\u001b[0m\u001b[0mrecv_into\u001b[0m\u001b[0;34m(\u001b[0m\u001b[0mb\u001b[0m\u001b[0;34m)\u001b[0m\u001b[0;34m\u001b[0m\u001b[0m\n\u001b[0m\u001b[1;32m    587\u001b[0m             \u001b[0;32mexcept\u001b[0m \u001b[0mtimeout\u001b[0m\u001b[0;34m:\u001b[0m\u001b[0;34m\u001b[0m\u001b[0m\n\u001b[1;32m    588\u001b[0m                 \u001b[0mself\u001b[0m\u001b[0;34m.\u001b[0m\u001b[0m_timeout_occurred\u001b[0m \u001b[0;34m=\u001b[0m \u001b[0;32mTrue\u001b[0m\u001b[0;34m\u001b[0m\u001b[0m\n",
      "\u001b[0;31mKeyboardInterrupt\u001b[0m: "
     ]
    }
   ],
   "source": [
    "#==========================很慢===========================\n",
    "# temp_df = sku_vector.withColumnRenamed(\"sku_id\", \"sku_id2\").withColumnRenamed(\"vector\", \"vector2\")\n",
    "# import time\n",
    "# start = time.time()\n",
    "# ### 注意注意注意：这里一定不要用inner join，因为内连接由于会剔除条左右表中不存在的条目，\n",
    "# ### 因此它会有过滤操作，在数据量极其大的情况下非常慢，注意是非常慢\n",
    "# print(sku_vector.join(temp_df, sku_vector.sku_id!=temp_df.sku_id2, how=\"inner\").count())\n",
    "# print(time.time()-start)"
   ]
  },
  {
   "cell_type": "code",
   "execution_count": 61,
   "metadata": {
    "scrolled": false
   },
   "outputs": [
    {
     "name": "stdout",
     "output_type": "stream",
     "text": [
      "4442289150\n",
      "426.5052945613861\n"
     ]
    }
   ],
   "source": [
    "# 这里其实本身是一个自连接，不会有不存在的条目，所以直接用outer，加快速度\n",
    "temp_df = sku_vector.withColumnRenamed(\"sku_id\", \"sku_id2\").withColumnRenamed(\"vector\", \"vector2\")\n",
    "import time\n",
    "start = time.time()\n",
    "print(sku_vector.join(temp_df, sku_vector.sku_id!=temp_df.sku_id2, how=\"outer\").count())\n",
    "print(time.time()-start)\n",
    "# sku_vector.count()#有个6w6个sku，两两sku计算，共44亿次\n",
    "# 66651 * 66651 约44亿条目"
   ]
  },
  {
   "cell_type": "code",
   "execution_count": 57,
   "metadata": {},
   "outputs": [
    {
     "data": {
      "text/plain": [
       "4442289150"
      ]
     },
     "execution_count": 57,
     "metadata": {},
     "output_type": "execute_result"
    }
   ],
   "source": [
    "66651 * 66651 - 66651"
   ]
  },
  {
   "cell_type": "code",
   "execution_count": 62,
   "metadata": {},
   "outputs": [
    {
     "name": "stdout",
     "output_type": "stream",
     "text": [
      "+------+--------------------+-------+--------------------+\n",
      "|sku_id|              vector|sku_id2|             vector2|\n",
      "+------+--------------------+-------+--------------------+\n",
      "|    26|[-0.0012209568107...|     29|[0.04843440780716...|\n",
      "|    26|[-0.0012209568107...|    474|[-0.0435095790902...|\n",
      "|    26|[-0.0012209568107...|    964|[-0.0222628132554...|\n",
      "|    26|[-0.0012209568107...|   1677|[-0.0038834392417...|\n",
      "|    26|[-0.0012209568107...|   1697|[0.11111611819181...|\n",
      "|    26|[-0.0012209568107...|   1806|[0.01085346123940...|\n",
      "|    26|[-0.0012209568107...|   1950|[0.01838842107055...|\n",
      "|    26|[-0.0012209568107...|   2040|[0.09027117856091...|\n",
      "|    26|[-0.0012209568107...|   2214|[0.03547335331710...|\n",
      "|    26|[-0.0012209568107...|   2250|[0.00117475391754...|\n",
      "|    26|[-0.0012209568107...|   2453|[0.07669576251528...|\n",
      "|    26|[-0.0012209568107...|   2509|[0.00907962355502...|\n",
      "|    26|[-0.0012209568107...|   2529|[0.01184689227830...|\n",
      "|    26|[-0.0012209568107...|   2927|[-0.0012751391840...|\n",
      "|    26|[-0.0012209568107...|   3091|[-0.0032631794437...|\n",
      "|    26|[-0.0012209568107...|   3506|[-0.0658730276938...|\n",
      "|    26|[-0.0012209568107...|   3764|[0.00332550619946...|\n",
      "|    26|[-0.0012209568107...|   4590|[0.09400085737003...|\n",
      "|    26|[-0.0012209568107...|   4823|[0.07282177839408...|\n",
      "|    26|[-0.0012209568107...|   4894|[0.03862790501286...|\n",
      "|    26|[-0.0012209568107...|   5385|[0.08663902742642...|\n",
      "|    26|[-0.0012209568107...|   5409|[0.04743611950584...|\n",
      "|    26|[-0.0012209568107...|   5556|[0.11393473641345...|\n",
      "|    26|[-0.0012209568107...|   6721|[0.00367255019675...|\n",
      "|    26|[-0.0012209568107...|   7225|[0.00289663706130...|\n",
      "|    26|[-0.0012209568107...|   7279|[0.10593067227392...|\n",
      "|    26|[-0.0012209568107...|   7747|[0.06187512068275...|\n",
      "|    26|[-0.0012209568107...|   8075|[0.04016481069216...|\n",
      "|    26|[-0.0012209568107...|   8440|[-0.0480064098169...|\n",
      "|    26|[-0.0012209568107...|   8484|[-0.0189382469288...|\n",
      "|    26|[-0.0012209568107...|   9233|[0.08657187142459...|\n",
      "|    26|[-0.0012209568107...|   9458|[0.07463098542672...|\n",
      "|    26|[-0.0012209568107...|   9715|[0.05703387710546...|\n",
      "|    26|[-0.0012209568107...|   9945|[0.09476735250143...|\n",
      "|    26|[-0.0012209568107...|   9968|[0.10847469849763...|\n",
      "|    26|[-0.0012209568107...|   9978|[0.13679439232722...|\n",
      "|    26|[-0.0012209568107...|  10156|[0.09106262544094...|\n",
      "|    26|[-0.0012209568107...|  10422|[0.05578962652224...|\n",
      "|    26|[-0.0012209568107...|  10871|[0.10657901733736...|\n",
      "|    26|[-0.0012209568107...|  10959|[0.07615694142769...|\n",
      "|    26|[-0.0012209568107...|  11190|[0.07566404491594...|\n",
      "|    26|[-0.0012209568107...|  11276|[0.08019735989283...|\n",
      "|    26|[-0.0012209568107...|  11434|[0.04042729594226...|\n",
      "|    26|[-0.0012209568107...|  11567|[0.09142738883932...|\n",
      "|    26|[-0.0012209568107...|  11619|[0.04923456385097...|\n",
      "|    26|[-0.0012209568107...|  11625|[0.06370408261050...|\n",
      "|    26|[-0.0012209568107...|  11745|[0.07520797424501...|\n",
      "|    26|[-0.0012209568107...|  11938|[0.09118944459761...|\n",
      "|    26|[-0.0012209568107...|  11945|[0.05478195031579...|\n",
      "|    26|[-0.0012209568107...|  12044|[0.00744947340213...|\n",
      "|    26|[-0.0012209568107...|  12568|[0.06262153301068...|\n",
      "|    26|[-0.0012209568107...|  13098|[0.02574399673028...|\n",
      "|    26|[-0.0012209568107...|  13248|[-0.0559358523672...|\n",
      "|    26|[-0.0012209568107...|  13401|[0.05503136546508...|\n",
      "|    26|[-0.0012209568107...|  13452|[0.04159633926576...|\n",
      "|    26|[-0.0012209568107...|  13460|[0.08563251815719...|\n",
      "|    26|[-0.0012209568107...|  13518|[0.05219770392250...|\n",
      "|    26|[-0.0012209568107...|  13638|[0.06468874974160...|\n",
      "|    26|[-0.0012209568107...|  13723|[0.07078464336915...|\n",
      "|    26|[-0.0012209568107...|  14117|[0.04375063693834...|\n",
      "|    26|[-0.0012209568107...|  14719|[0.11117678538655...|\n",
      "|    26|[-0.0012209568107...|  14846|[0.11515673911890...|\n",
      "|    26|[-0.0012209568107...|  15057|[0.04816856442013...|\n",
      "|    26|[-0.0012209568107...|  15173|[0.12248485940969...|\n",
      "|    26|[-0.0012209568107...|  15194|[0.08648419512835...|\n",
      "|    26|[-0.0012209568107...|  15237|[0.05275980736368...|\n",
      "|    26|[-0.0012209568107...|  15322|[0.09225334510419...|\n",
      "|    26|[-0.0012209568107...|  15371|[0.09024380285693...|\n",
      "|    26|[-0.0012209568107...|  15375|[0.10702781607539...|\n",
      "|    26|[-0.0012209568107...|  15432|[0.06596033399357...|\n",
      "|    26|[-0.0012209568107...|  15437|[0.17148972214189...|\n",
      "|    26|[-0.0012209568107...|  15663|[0.11365157063787...|\n",
      "|    26|[-0.0012209568107...|  15846|[0.12041956985463...|\n",
      "|    26|[-0.0012209568107...|  16530|[0.10909999593942...|\n",
      "|    26|[-0.0012209568107...|  16597|[0.07971820387707...|\n",
      "|    26|[-0.0012209568107...|  16742|[0.10064747816209...|\n",
      "|    26|[-0.0012209568107...|  16896|[0.00144755487826...|\n",
      "|    26|[-0.0012209568107...|  17043|[0.05253845014968...|\n",
      "|    26|[-0.0012209568107...|  17048|[0.12867475048966...|\n",
      "|    26|[-0.0012209568107...|  17499|[0.01370019592840...|\n",
      "|    26|[-0.0012209568107...|  17703|[0.04654936932007...|\n",
      "|    26|[-0.0012209568107...|  17971|[-0.0922293132466...|\n",
      "|    26|[-0.0012209568107...|  17979|[0.10281333656693...|\n",
      "|    26|[-0.0012209568107...|  18147|[-0.0996951968774...|\n",
      "|    26|[-0.0012209568107...|  18196|[0.05006665141984...|\n",
      "|    26|[-0.0012209568107...|  18295|[-0.0311465174195...|\n",
      "|    26|[-0.0012209568107...|  18348|[-0.0412638255494...|\n",
      "|    26|[-0.0012209568107...|  18628|[0.03269970088219...|\n",
      "|    26|[-0.0012209568107...|  18730|[-0.0054274773567...|\n",
      "|    26|[-0.0012209568107...|  19141|[0.04188167231726...|\n",
      "|    26|[-0.0012209568107...|  19158|[0.04851089491297...|\n",
      "|    26|[-0.0012209568107...|  19163|[0.08298312500856...|\n",
      "|    26|[-0.0012209568107...|  19771|[0.09188497774737...|\n",
      "|    26|[-0.0012209568107...|  19907|[0.03062144978191...|\n",
      "|    26|[-0.0012209568107...|  19979|[0.10493532619024...|\n",
      "|    26|[-0.0012209568107...|  20532|[-0.0311477521570...|\n",
      "|    26|[-0.0012209568107...|  21209|[-0.0534100219787...|\n",
      "|    26|[-0.0012209568107...|  21223|[-0.0731855269926...|\n",
      "|    26|[-0.0012209568107...|  21342|[0.02922785702901...|\n",
      "|    26|[-0.0012209568107...|  21899|[-0.0476698983074...|\n",
      "+------+--------------------+-------+--------------------+\n",
      "only showing top 100 rows\n",
      "\n"
     ]
    }
   ],
   "source": [
    "sku_vector.join(temp_df, sku_vector.sku_id!=temp_df.sku_id2, how=\"outer\").show(100)"
   ]
  },
  {
   "cell_type": "code",
   "execution_count": null,
   "metadata": {},
   "outputs": [],
   "source": [
    "import numpy as np\n",
    "# np.linalg = linear algebra\n",
    "temp_df = sku_vector.withColumnRenamed('sku_id','sku_id2').withColumnRenamed('vector','vector2')\n",
    "sku_vector_join = sku_vector.join(temp_df,[sku_vector.sku_id!=temp_df.sku_id2],'outer')\n",
    "\n",
    "def mapPartitions(partition):\n",
    "    import numpy as np\n",
    "    for row in partition:        \n",
    "        sim = np.dot(row.vector,row.vector2)/(np.linalg.norm(vector1)*(np.linalg.norm(vector2)))\n",
    "        yield row.sku_id,row.sku_id2,float(sim)\n",
    "        \n",
    "similarity = sku_vector_join.rdd.mapPartitions(mapPartitions).toDF(['sku_id','sku_id2','sim'])\n",
    "'''\n",
    "# =======跳过，延伸学习：如何求范数-模=====\n",
    "import numpy as np\n",
    "vector1 = v1\n",
    "vector2 = v2\n",
    "np.dot(vector1,vector2)/(np.linalg.norm(vector1)*np.linalg.norm(vector2)) \n",
    "# 0.9737596995475859\n",
    "'''"
   ]
  },
  {
   "cell_type": "code",
   "execution_count": 67,
   "metadata": {},
   "outputs": [
    {
     "name": "stdout",
     "output_type": "stream",
     "text": [
      "+------+-------+--------------------+\n",
      "|sku_id|sku_id2|                 sim|\n",
      "+------+-------+--------------------+\n",
      "|    26|     29|  0.3266431231283569|\n",
      "|    26|    474| 0.08736009761829149|\n",
      "|    26|    964| 0.14403582542295462|\n",
      "|    26|   1677| 0.05289843618892875|\n",
      "|    26|   1697| 0.09706387852546618|\n",
      "|    26|   1806| 0.04812759823324625|\n",
      "|    26|   1950| 0.06598719786681272|\n",
      "|    26|   2040| 0.23167814841316745|\n",
      "|    26|   2214|    0.16516129321389|\n",
      "|    26|   2250| 0.07333314880543064|\n",
      "|    26|   2453| 0.10024709344450417|\n",
      "|    26|   2509| 0.14559026351877366|\n",
      "|    26|   2529| 0.03967589505832165|\n",
      "|    26|   2927| 0.09751409303471345|\n",
      "|    26|   3091|0.028248762853119336|\n",
      "|    26|   3506|-0.03034581124060582|\n",
      "|    26|   3764| 0.15092135024451372|\n",
      "|    26|   4590| 0.25749362940782733|\n",
      "|    26|   4823| 0.21968089633654198|\n",
      "|    26|   4894|  0.3175731390319865|\n",
      "+------+-------+--------------------+\n",
      "only showing top 20 rows\n",
      "\n"
     ]
    }
   ],
   "source": [
    "similarity.show()"
   ]
  },
  {
   "cell_type": "code",
   "execution_count": 70,
   "metadata": {
    "collapsed": true
   },
   "outputs": [
    {
     "ename": "KeyboardInterrupt",
     "evalue": "",
     "output_type": "error",
     "traceback": [
      "\u001b[0;31m---------------------------------------------------------------------------\u001b[0m",
      "\u001b[0;31mKeyboardInterrupt\u001b[0m                         Traceback (most recent call last)",
      "\u001b[0;32m<ipython-input-70-5f6f36835b7d>\u001b[0m in \u001b[0;36m<module>\u001b[0;34m\u001b[0m\n\u001b[1;32m      1\u001b[0m \u001b[0;31m# 由于条目数实在太多，如果这里进行如查询、分组等操作需要大量的计算，对硬件要求很高，所以以下代码没能跑成功\u001b[0m\u001b[0;34m\u001b[0m\u001b[0;34m\u001b[0m\u001b[0m\n\u001b[0;32m----> 2\u001b[0;31m \u001b[0msimilarity\u001b[0m\u001b[0;34m.\u001b[0m\u001b[0mwhere\u001b[0m\u001b[0;34m(\u001b[0m\u001b[0;34m\"sku_id=1\"\u001b[0m\u001b[0;34m)\u001b[0m\u001b[0;34m.\u001b[0m\u001b[0mshow\u001b[0m\u001b[0;34m(\u001b[0m\u001b[0;34m)\u001b[0m\u001b[0;34m\u001b[0m\u001b[0m\n\u001b[0m",
      "\u001b[0;32m/miniconda2/envs/py365/lib/python3.6/site-packages/pyspark-2.2.2-py3.6.egg/pyspark/sql/dataframe.py\u001b[0m in \u001b[0;36mshow\u001b[0;34m(self, n, truncate)\u001b[0m\n\u001b[1;32m    334\u001b[0m         \"\"\"\n\u001b[1;32m    335\u001b[0m         \u001b[0;32mif\u001b[0m \u001b[0misinstance\u001b[0m\u001b[0;34m(\u001b[0m\u001b[0mtruncate\u001b[0m\u001b[0;34m,\u001b[0m \u001b[0mbool\u001b[0m\u001b[0;34m)\u001b[0m \u001b[0;32mand\u001b[0m \u001b[0mtruncate\u001b[0m\u001b[0;34m:\u001b[0m\u001b[0;34m\u001b[0m\u001b[0m\n\u001b[0;32m--> 336\u001b[0;31m             \u001b[0mprint\u001b[0m\u001b[0;34m(\u001b[0m\u001b[0mself\u001b[0m\u001b[0;34m.\u001b[0m\u001b[0m_jdf\u001b[0m\u001b[0;34m.\u001b[0m\u001b[0mshowString\u001b[0m\u001b[0;34m(\u001b[0m\u001b[0mn\u001b[0m\u001b[0;34m,\u001b[0m \u001b[0;36m20\u001b[0m\u001b[0;34m)\u001b[0m\u001b[0;34m)\u001b[0m\u001b[0;34m\u001b[0m\u001b[0m\n\u001b[0m\u001b[1;32m    337\u001b[0m         \u001b[0;32melse\u001b[0m\u001b[0;34m:\u001b[0m\u001b[0;34m\u001b[0m\u001b[0m\n\u001b[1;32m    338\u001b[0m             \u001b[0mprint\u001b[0m\u001b[0;34m(\u001b[0m\u001b[0mself\u001b[0m\u001b[0;34m.\u001b[0m\u001b[0m_jdf\u001b[0m\u001b[0;34m.\u001b[0m\u001b[0mshowString\u001b[0m\u001b[0;34m(\u001b[0m\u001b[0mn\u001b[0m\u001b[0;34m,\u001b[0m \u001b[0mint\u001b[0m\u001b[0;34m(\u001b[0m\u001b[0mtruncate\u001b[0m\u001b[0;34m)\u001b[0m\u001b[0;34m)\u001b[0m\u001b[0;34m)\u001b[0m\u001b[0;34m\u001b[0m\u001b[0m\n",
      "\u001b[0;32m/miniconda2/envs/py365/lib/python3.6/site-packages/py4j-0.10.7-py3.6.egg/py4j/java_gateway.py\u001b[0m in \u001b[0;36m__call__\u001b[0;34m(self, *args)\u001b[0m\n\u001b[1;32m   1253\u001b[0m             \u001b[0mproto\u001b[0m\u001b[0;34m.\u001b[0m\u001b[0mEND_COMMAND_PART\u001b[0m\u001b[0;34m\u001b[0m\u001b[0m\n\u001b[1;32m   1254\u001b[0m \u001b[0;34m\u001b[0m\u001b[0m\n\u001b[0;32m-> 1255\u001b[0;31m         \u001b[0manswer\u001b[0m \u001b[0;34m=\u001b[0m \u001b[0mself\u001b[0m\u001b[0;34m.\u001b[0m\u001b[0mgateway_client\u001b[0m\u001b[0;34m.\u001b[0m\u001b[0msend_command\u001b[0m\u001b[0;34m(\u001b[0m\u001b[0mcommand\u001b[0m\u001b[0;34m)\u001b[0m\u001b[0;34m\u001b[0m\u001b[0m\n\u001b[0m\u001b[1;32m   1256\u001b[0m         return_value = get_return_value(\n\u001b[1;32m   1257\u001b[0m             answer, self.gateway_client, self.target_id, self.name)\n",
      "\u001b[0;32m/miniconda2/envs/py365/lib/python3.6/site-packages/py4j-0.10.7-py3.6.egg/py4j/java_gateway.py\u001b[0m in \u001b[0;36msend_command\u001b[0;34m(self, command, retry, binary)\u001b[0m\n\u001b[1;32m    983\u001b[0m         \u001b[0mconnection\u001b[0m \u001b[0;34m=\u001b[0m \u001b[0mself\u001b[0m\u001b[0;34m.\u001b[0m\u001b[0m_get_connection\u001b[0m\u001b[0;34m(\u001b[0m\u001b[0;34m)\u001b[0m\u001b[0;34m\u001b[0m\u001b[0m\n\u001b[1;32m    984\u001b[0m         \u001b[0;32mtry\u001b[0m\u001b[0;34m:\u001b[0m\u001b[0;34m\u001b[0m\u001b[0m\n\u001b[0;32m--> 985\u001b[0;31m             \u001b[0mresponse\u001b[0m \u001b[0;34m=\u001b[0m \u001b[0mconnection\u001b[0m\u001b[0;34m.\u001b[0m\u001b[0msend_command\u001b[0m\u001b[0;34m(\u001b[0m\u001b[0mcommand\u001b[0m\u001b[0;34m)\u001b[0m\u001b[0;34m\u001b[0m\u001b[0m\n\u001b[0m\u001b[1;32m    986\u001b[0m             \u001b[0;32mif\u001b[0m \u001b[0mbinary\u001b[0m\u001b[0;34m:\u001b[0m\u001b[0;34m\u001b[0m\u001b[0m\n\u001b[1;32m    987\u001b[0m                 \u001b[0;32mreturn\u001b[0m \u001b[0mresponse\u001b[0m\u001b[0;34m,\u001b[0m \u001b[0mself\u001b[0m\u001b[0;34m.\u001b[0m\u001b[0m_create_connection_guard\u001b[0m\u001b[0;34m(\u001b[0m\u001b[0mconnection\u001b[0m\u001b[0;34m)\u001b[0m\u001b[0;34m\u001b[0m\u001b[0m\n",
      "\u001b[0;32m/miniconda2/envs/py365/lib/python3.6/site-packages/py4j-0.10.7-py3.6.egg/py4j/java_gateway.py\u001b[0m in \u001b[0;36msend_command\u001b[0;34m(self, command)\u001b[0m\n\u001b[1;32m   1150\u001b[0m \u001b[0;34m\u001b[0m\u001b[0m\n\u001b[1;32m   1151\u001b[0m         \u001b[0;32mtry\u001b[0m\u001b[0;34m:\u001b[0m\u001b[0;34m\u001b[0m\u001b[0m\n\u001b[0;32m-> 1152\u001b[0;31m             \u001b[0manswer\u001b[0m \u001b[0;34m=\u001b[0m \u001b[0msmart_decode\u001b[0m\u001b[0;34m(\u001b[0m\u001b[0mself\u001b[0m\u001b[0;34m.\u001b[0m\u001b[0mstream\u001b[0m\u001b[0;34m.\u001b[0m\u001b[0mreadline\u001b[0m\u001b[0;34m(\u001b[0m\u001b[0;34m)\u001b[0m\u001b[0;34m[\u001b[0m\u001b[0;34m:\u001b[0m\u001b[0;34m-\u001b[0m\u001b[0;36m1\u001b[0m\u001b[0;34m]\u001b[0m\u001b[0;34m)\u001b[0m\u001b[0;34m\u001b[0m\u001b[0m\n\u001b[0m\u001b[1;32m   1153\u001b[0m             \u001b[0mlogger\u001b[0m\u001b[0;34m.\u001b[0m\u001b[0mdebug\u001b[0m\u001b[0;34m(\u001b[0m\u001b[0;34m\"Answer received: {0}\"\u001b[0m\u001b[0;34m.\u001b[0m\u001b[0mformat\u001b[0m\u001b[0;34m(\u001b[0m\u001b[0manswer\u001b[0m\u001b[0;34m)\u001b[0m\u001b[0;34m)\u001b[0m\u001b[0;34m\u001b[0m\u001b[0m\n\u001b[1;32m   1154\u001b[0m             \u001b[0;32mif\u001b[0m \u001b[0manswer\u001b[0m\u001b[0;34m.\u001b[0m\u001b[0mstartswith\u001b[0m\u001b[0;34m(\u001b[0m\u001b[0mproto\u001b[0m\u001b[0;34m.\u001b[0m\u001b[0mRETURN_MESSAGE\u001b[0m\u001b[0;34m)\u001b[0m\u001b[0;34m:\u001b[0m\u001b[0;34m\u001b[0m\u001b[0m\n",
      "\u001b[0;32m/miniconda2/envs/py365/lib/python3.6/socket.py\u001b[0m in \u001b[0;36mreadinto\u001b[0;34m(self, b)\u001b[0m\n\u001b[1;32m    584\u001b[0m         \u001b[0;32mwhile\u001b[0m \u001b[0;32mTrue\u001b[0m\u001b[0;34m:\u001b[0m\u001b[0;34m\u001b[0m\u001b[0m\n\u001b[1;32m    585\u001b[0m             \u001b[0;32mtry\u001b[0m\u001b[0;34m:\u001b[0m\u001b[0;34m\u001b[0m\u001b[0m\n\u001b[0;32m--> 586\u001b[0;31m                 \u001b[0;32mreturn\u001b[0m \u001b[0mself\u001b[0m\u001b[0;34m.\u001b[0m\u001b[0m_sock\u001b[0m\u001b[0;34m.\u001b[0m\u001b[0mrecv_into\u001b[0m\u001b[0;34m(\u001b[0m\u001b[0mb\u001b[0m\u001b[0;34m)\u001b[0m\u001b[0;34m\u001b[0m\u001b[0m\n\u001b[0m\u001b[1;32m    587\u001b[0m             \u001b[0;32mexcept\u001b[0m \u001b[0mtimeout\u001b[0m\u001b[0;34m:\u001b[0m\u001b[0;34m\u001b[0m\u001b[0m\n\u001b[1;32m    588\u001b[0m                 \u001b[0mself\u001b[0m\u001b[0;34m.\u001b[0m\u001b[0m_timeout_occurred\u001b[0m \u001b[0;34m=\u001b[0m \u001b[0;32mTrue\u001b[0m\u001b[0;34m\u001b[0m\u001b[0m\n",
      "\u001b[0;31mKeyboardInterrupt\u001b[0m: "
     ]
    }
   ],
   "source": [
    "# 由于条目数实在太多，如果这里进行如查询、分组等操作需要大量的计算，对硬件要求很高，所以以下代码没能跑成功\n",
    "similarity.where(\"sku_id=1\").show()"
   ]
  },
  {
   "cell_type": "code",
   "execution_count": 78,
   "metadata": {},
   "outputs": [
    {
     "data": {
      "text/plain": [
       "DataFrame[sku_id: bigint, vector: vector, sku_id2: bigint, vector2: vector]"
      ]
     },
     "execution_count": 78,
     "metadata": {},
     "output_type": "execute_result"
    }
   ],
   "source": [
    "sku_vector_join"
   ]
  },
  {
   "cell_type": "code",
   "execution_count": 9,
   "metadata": {
    "collapsed": true
   },
   "outputs": [
    {
     "ename": "KeyboardInterrupt",
     "evalue": "",
     "output_type": "error",
     "traceback": [
      "\u001b[0;31m---------------------------------------------------------------------------\u001b[0m",
      "\u001b[0;31mKeyboardInterrupt\u001b[0m                         Traceback (most recent call last)",
      "\u001b[0;32m<ipython-input-9-bfbfc54fc61d>\u001b[0m in \u001b[0;36m<module>\u001b[0;34m\u001b[0m\n\u001b[1;32m     49\u001b[0m         \u001b[0;31m# 这里为了节约内存开销，手动进行内存回收，避免内存泄漏等问题\u001b[0m\u001b[0;34m\u001b[0m\u001b[0;34m\u001b[0m\u001b[0m\n\u001b[1;32m     50\u001b[0m \u001b[0;34m\u001b[0m\u001b[0m\n\u001b[0;32m---> 51\u001b[0;31m \u001b[0msku_vector_join\u001b[0m\u001b[0;34m.\u001b[0m\u001b[0mforeachPartition\u001b[0m\u001b[0;34m(\u001b[0m\u001b[0mforeachPartition\u001b[0m\u001b[0;34m)\u001b[0m\u001b[0;34m\u001b[0m\u001b[0m\n\u001b[0m\u001b[1;32m     52\u001b[0m \u001b[0;34m\u001b[0m\u001b[0m\n\u001b[1;32m     53\u001b[0m \u001b[0;31m# 但注意这里，由于计算量比较大， 非常耗时，预计4核8g需要一天时间才能跑完\u001b[0m\u001b[0;34m\u001b[0m\u001b[0;34m\u001b[0m\u001b[0m\n",
      "\u001b[0;32m/miniconda2/envs/py365/lib/python3.6/site-packages/pyspark-2.2.2-py3.6.egg/pyspark/sql/dataframe.py\u001b[0m in \u001b[0;36mforeachPartition\u001b[0;34m(self, f)\u001b[0m\n\u001b[1;32m    499\u001b[0m         \u001b[0;34m>>\u001b[0m\u001b[0;34m>\u001b[0m \u001b[0mdf\u001b[0m\u001b[0;34m.\u001b[0m\u001b[0mforeachPartition\u001b[0m\u001b[0;34m(\u001b[0m\u001b[0mf\u001b[0m\u001b[0;34m)\u001b[0m\u001b[0;34m\u001b[0m\u001b[0m\n\u001b[1;32m    500\u001b[0m         \"\"\"\n\u001b[0;32m--> 501\u001b[0;31m         \u001b[0mself\u001b[0m\u001b[0;34m.\u001b[0m\u001b[0mrdd\u001b[0m\u001b[0;34m.\u001b[0m\u001b[0mforeachPartition\u001b[0m\u001b[0;34m(\u001b[0m\u001b[0mf\u001b[0m\u001b[0;34m)\u001b[0m\u001b[0;34m\u001b[0m\u001b[0m\n\u001b[0m\u001b[1;32m    502\u001b[0m \u001b[0;34m\u001b[0m\u001b[0m\n\u001b[1;32m    503\u001b[0m     \u001b[0;34m@\u001b[0m\u001b[0msince\u001b[0m\u001b[0;34m(\u001b[0m\u001b[0;36m1.3\u001b[0m\u001b[0;34m)\u001b[0m\u001b[0;34m\u001b[0m\u001b[0m\n",
      "\u001b[0;32m/miniconda2/envs/py365/lib/python3.6/site-packages/pyspark-2.2.2-py3.6.egg/pyspark/sql/dataframe.py\u001b[0m in \u001b[0;36mrdd\u001b[0;34m(self)\u001b[0m\n\u001b[1;32m     83\u001b[0m         \"\"\"\n\u001b[1;32m     84\u001b[0m         \u001b[0;32mif\u001b[0m \u001b[0mself\u001b[0m\u001b[0;34m.\u001b[0m\u001b[0m_lazy_rdd\u001b[0m \u001b[0;32mis\u001b[0m \u001b[0;32mNone\u001b[0m\u001b[0;34m:\u001b[0m\u001b[0;34m\u001b[0m\u001b[0m\n\u001b[0;32m---> 85\u001b[0;31m             \u001b[0mjrdd\u001b[0m \u001b[0;34m=\u001b[0m \u001b[0mself\u001b[0m\u001b[0;34m.\u001b[0m\u001b[0m_jdf\u001b[0m\u001b[0;34m.\u001b[0m\u001b[0mjavaToPython\u001b[0m\u001b[0;34m(\u001b[0m\u001b[0;34m)\u001b[0m\u001b[0;34m\u001b[0m\u001b[0m\n\u001b[0m\u001b[1;32m     86\u001b[0m             \u001b[0mself\u001b[0m\u001b[0;34m.\u001b[0m\u001b[0m_lazy_rdd\u001b[0m \u001b[0;34m=\u001b[0m \u001b[0mRDD\u001b[0m\u001b[0;34m(\u001b[0m\u001b[0mjrdd\u001b[0m\u001b[0;34m,\u001b[0m \u001b[0mself\u001b[0m\u001b[0;34m.\u001b[0m\u001b[0msql_ctx\u001b[0m\u001b[0;34m.\u001b[0m\u001b[0m_sc\u001b[0m\u001b[0;34m,\u001b[0m \u001b[0mBatchedSerializer\u001b[0m\u001b[0;34m(\u001b[0m\u001b[0mPickleSerializer\u001b[0m\u001b[0;34m(\u001b[0m\u001b[0;34m)\u001b[0m\u001b[0;34m)\u001b[0m\u001b[0;34m)\u001b[0m\u001b[0;34m\u001b[0m\u001b[0m\n\u001b[1;32m     87\u001b[0m         \u001b[0;32mreturn\u001b[0m \u001b[0mself\u001b[0m\u001b[0;34m.\u001b[0m\u001b[0m_lazy_rdd\u001b[0m\u001b[0;34m\u001b[0m\u001b[0m\n",
      "\u001b[0;32m/miniconda2/envs/py365/lib/python3.6/site-packages/py4j-0.10.7-py3.6.egg/py4j/java_gateway.py\u001b[0m in \u001b[0;36m__call__\u001b[0;34m(self, *args)\u001b[0m\n\u001b[1;32m   1253\u001b[0m             \u001b[0mproto\u001b[0m\u001b[0;34m.\u001b[0m\u001b[0mEND_COMMAND_PART\u001b[0m\u001b[0;34m\u001b[0m\u001b[0m\n\u001b[1;32m   1254\u001b[0m \u001b[0;34m\u001b[0m\u001b[0m\n\u001b[0;32m-> 1255\u001b[0;31m         \u001b[0manswer\u001b[0m \u001b[0;34m=\u001b[0m \u001b[0mself\u001b[0m\u001b[0;34m.\u001b[0m\u001b[0mgateway_client\u001b[0m\u001b[0;34m.\u001b[0m\u001b[0msend_command\u001b[0m\u001b[0;34m(\u001b[0m\u001b[0mcommand\u001b[0m\u001b[0;34m)\u001b[0m\u001b[0;34m\u001b[0m\u001b[0m\n\u001b[0m\u001b[1;32m   1256\u001b[0m         return_value = get_return_value(\n\u001b[1;32m   1257\u001b[0m             answer, self.gateway_client, self.target_id, self.name)\n",
      "\u001b[0;32m/miniconda2/envs/py365/lib/python3.6/site-packages/py4j-0.10.7-py3.6.egg/py4j/java_gateway.py\u001b[0m in \u001b[0;36msend_command\u001b[0;34m(self, command, retry, binary)\u001b[0m\n\u001b[1;32m    983\u001b[0m         \u001b[0mconnection\u001b[0m \u001b[0;34m=\u001b[0m \u001b[0mself\u001b[0m\u001b[0;34m.\u001b[0m\u001b[0m_get_connection\u001b[0m\u001b[0;34m(\u001b[0m\u001b[0;34m)\u001b[0m\u001b[0;34m\u001b[0m\u001b[0m\n\u001b[1;32m    984\u001b[0m         \u001b[0;32mtry\u001b[0m\u001b[0;34m:\u001b[0m\u001b[0;34m\u001b[0m\u001b[0m\n\u001b[0;32m--> 985\u001b[0;31m             \u001b[0mresponse\u001b[0m \u001b[0;34m=\u001b[0m \u001b[0mconnection\u001b[0m\u001b[0;34m.\u001b[0m\u001b[0msend_command\u001b[0m\u001b[0;34m(\u001b[0m\u001b[0mcommand\u001b[0m\u001b[0;34m)\u001b[0m\u001b[0;34m\u001b[0m\u001b[0m\n\u001b[0m\u001b[1;32m    986\u001b[0m             \u001b[0;32mif\u001b[0m \u001b[0mbinary\u001b[0m\u001b[0;34m:\u001b[0m\u001b[0;34m\u001b[0m\u001b[0m\n\u001b[1;32m    987\u001b[0m                 \u001b[0;32mreturn\u001b[0m \u001b[0mresponse\u001b[0m\u001b[0;34m,\u001b[0m \u001b[0mself\u001b[0m\u001b[0;34m.\u001b[0m\u001b[0m_create_connection_guard\u001b[0m\u001b[0;34m(\u001b[0m\u001b[0mconnection\u001b[0m\u001b[0;34m)\u001b[0m\u001b[0;34m\u001b[0m\u001b[0m\n",
      "\u001b[0;32m/miniconda2/envs/py365/lib/python3.6/site-packages/py4j-0.10.7-py3.6.egg/py4j/java_gateway.py\u001b[0m in \u001b[0;36msend_command\u001b[0;34m(self, command)\u001b[0m\n\u001b[1;32m   1150\u001b[0m \u001b[0;34m\u001b[0m\u001b[0m\n\u001b[1;32m   1151\u001b[0m         \u001b[0;32mtry\u001b[0m\u001b[0;34m:\u001b[0m\u001b[0;34m\u001b[0m\u001b[0m\n\u001b[0;32m-> 1152\u001b[0;31m             \u001b[0manswer\u001b[0m \u001b[0;34m=\u001b[0m \u001b[0msmart_decode\u001b[0m\u001b[0;34m(\u001b[0m\u001b[0mself\u001b[0m\u001b[0;34m.\u001b[0m\u001b[0mstream\u001b[0m\u001b[0;34m.\u001b[0m\u001b[0mreadline\u001b[0m\u001b[0;34m(\u001b[0m\u001b[0;34m)\u001b[0m\u001b[0;34m[\u001b[0m\u001b[0;34m:\u001b[0m\u001b[0;34m-\u001b[0m\u001b[0;36m1\u001b[0m\u001b[0;34m]\u001b[0m\u001b[0;34m)\u001b[0m\u001b[0;34m\u001b[0m\u001b[0m\n\u001b[0m\u001b[1;32m   1153\u001b[0m             \u001b[0mlogger\u001b[0m\u001b[0;34m.\u001b[0m\u001b[0mdebug\u001b[0m\u001b[0;34m(\u001b[0m\u001b[0;34m\"Answer received: {0}\"\u001b[0m\u001b[0;34m.\u001b[0m\u001b[0mformat\u001b[0m\u001b[0;34m(\u001b[0m\u001b[0manswer\u001b[0m\u001b[0;34m)\u001b[0m\u001b[0;34m)\u001b[0m\u001b[0;34m\u001b[0m\u001b[0m\n\u001b[1;32m   1154\u001b[0m             \u001b[0;32mif\u001b[0m \u001b[0manswer\u001b[0m\u001b[0;34m.\u001b[0m\u001b[0mstartswith\u001b[0m\u001b[0;34m(\u001b[0m\u001b[0mproto\u001b[0m\u001b[0;34m.\u001b[0m\u001b[0mRETURN_MESSAGE\u001b[0m\u001b[0;34m)\u001b[0m\u001b[0;34m:\u001b[0m\u001b[0;34m\u001b[0m\u001b[0m\n",
      "\u001b[0;32m/miniconda2/envs/py365/lib/python3.6/socket.py\u001b[0m in \u001b[0;36mreadinto\u001b[0;34m(self, b)\u001b[0m\n\u001b[1;32m    584\u001b[0m         \u001b[0;32mwhile\u001b[0m \u001b[0;32mTrue\u001b[0m\u001b[0;34m:\u001b[0m\u001b[0;34m\u001b[0m\u001b[0m\n\u001b[1;32m    585\u001b[0m             \u001b[0;32mtry\u001b[0m\u001b[0;34m:\u001b[0m\u001b[0;34m\u001b[0m\u001b[0m\n\u001b[0;32m--> 586\u001b[0;31m                 \u001b[0;32mreturn\u001b[0m \u001b[0mself\u001b[0m\u001b[0;34m.\u001b[0m\u001b[0m_sock\u001b[0m\u001b[0;34m.\u001b[0m\u001b[0mrecv_into\u001b[0m\u001b[0;34m(\u001b[0m\u001b[0mb\u001b[0m\u001b[0;34m)\u001b[0m\u001b[0;34m\u001b[0m\u001b[0m\n\u001b[0m\u001b[1;32m    587\u001b[0m             \u001b[0;32mexcept\u001b[0m \u001b[0mtimeout\u001b[0m\u001b[0;34m:\u001b[0m\u001b[0;34m\u001b[0m\u001b[0m\n\u001b[1;32m    588\u001b[0m                 \u001b[0mself\u001b[0m\u001b[0;34m.\u001b[0m\u001b[0m_timeout_occurred\u001b[0m \u001b[0;34m=\u001b[0m \u001b[0;32mTrue\u001b[0m\u001b[0;34m\u001b[0m\u001b[0m\n",
      "\u001b[0;31mKeyboardInterrupt\u001b[0m: "
     ]
    }
   ],
   "source": [
    "# 这里考虑使用foreachPartition方法，遍历每一行数据，进行运算\n",
    "# 将结果直接存储进入redis，并且每一个商品只保留与它相似的TOP100个商品的sku_id和对应的相似度，\n",
    "# 那么这里的结果其实就是一个基于商品相似度的一个召回结果集\n",
    "\n",
    "#与sku_id相似的元素存够100个了，就取出相似度最小的score,member，与当前计算出来的相似度比较\n",
    "# 当前大，就先删除取出来的，再将当前加进去；否则，直接添加\n",
    "import numpy as np\n",
    "import gc\n",
    "import redis\n",
    "\n",
    "\n",
    "temp_df = sku_vector.withColumnRenamed(\"sku_id\", \"sku_id2\").withColumnRenamed(\"vector\", \"vector2\")\n",
    "sku_vector_join = sku_vector.join(temp_df, sku_vector.sku_id!=temp_df.sku_id2, how=\"outer\")\n",
    "\n",
    "def foreachPartition(partition):\n",
    "    import redis\n",
    "\n",
    "    client = redis.StrictRedis(host=\"192.168.58.100\", port=6379, db=0)#默认\"host='localhost'\", 'port=6379', 'db=0'\n",
    "    \n",
    "    for row in partition:\n",
    "        vector1 = row.vector\n",
    "        vector2 = row.vector2\n",
    "        \n",
    "        # 余弦相似度计算公式\n",
    "        sim = np.dot(vector1,vector2)/(np.linalg.norm(vector1)*(np.linalg.norm(vector2)))\n",
    "        \n",
    "        # 有序集合(sorted set)：按照分数排序，默认升序\n",
    "        if client.zcard(row.sku_id) < 100:# 返回有序集合sku_id中元素的个数\n",
    "            # redis.zadd('my-key', 'name1', 1.1, 'name2', 2.2, name3=3.3, name4=4.4)\n",
    "            # 交互式中 的提示是：key, score, member,...\n",
    "            client.zadd(row.sku_id, float(sim), row.sku_id2)# 给sku_id中对应的集合添加元素\n",
    "        else:#与sku_id相似的元素存够100个了，就取出相似度最小的score,member，与当前计算出来的相似度比较\n",
    "            # 取出当前redis中与sku_id相似度最小的sku_id2，即add中的member\n",
    "            key = client.zrange(row.sku_id, 0, 0)# 返回指定score区间（全闭区间[start,end]）的member\n",
    "            # 返回某个member的score\n",
    "            min_sim = client.zscore(row.sku_id, key[0]) if len(key) == 1 else None#len==0时，即没有值可以返回，就min_sim=None\n",
    "        \n",
    "            if min_sim is None:\n",
    "                client.zadd(row.sku_id, float(sim), row.sku_id2)\n",
    "            else:\n",
    "                if sim > min_sim:\n",
    "                    client.zrem(row.sku_id, key[0])#Remove member ``values`` from sorted set ``name``\n",
    "                    client.zadd(row.sku_id, float(sim), row.sku_id2)\n",
    "        # \n",
    "            del key\n",
    "            del min_sim\n",
    "        del vector1\n",
    "        del vector2\n",
    "        del sim\n",
    "        del row\n",
    "        gc.collect()\n",
    "        # 这里为了节约内存开销，手动进行内存回收，避免内存泄漏等问题\n",
    "\n",
    "sku_vector_join.foreachPartition(foreachPartition)\n",
    "\n",
    "# 但注意这里，由于计算量比较大， 非常耗时\n",
    "# 光是计算6w条电子产品的相似就要这这么久时间，那么如果全部大类都要计算完，或者说数量量加倍了，该如何处理：\n",
    "# 对于商品之间的相似度计算，其实往往只需要一开始对所有的商品进行两两计算，比如6w条，那么计算量就是6w*6w\n",
    "# 但是其实后面如果有新增商品，只需要对新增商品与其他商品的相似度进行计算就可以，那么新增商品后的计算量是1*6w\n",
    "# 也就是 只需要在一开始把所有的都算一遍，之后更新的时候，采取的是增量更新\n",
    "# 或者根据业务发展情况，每隔几个月做一次全量更新，期间就只做增量更新\n",
    "    \n",
    "\n",
    "# 一下报错，是因为手动关闭程序导致的，因为这里没有等全部算出结果，只算了一部分，就关闭了"
   ]
  },
  {
   "cell_type": "markdown",
   "metadata": {},
   "source": [
    "#### 延伸学习：spark中也有多种相似度计算的API\n",
    "如pyspark.ml.stat.Correlation、pyspark.mllib.stat.Statistics 但这些的相似度计算都只能完成所有列两两之间的相似度计算，如果是计算所有行两两之间的相似度，就需要自行去实现"
   ]
  },
  {
   "cell_type": "code",
   "execution_count": 3,
   "metadata": {
    "scrolled": false
   },
   "outputs": [
    {
     "name": "stdout",
     "output_type": "stream",
     "text": [
      "+------------------+\n",
      "|          features|\n",
      "+------------------+\n",
      "|[1.0,0.0,0.0,-2.0]|\n",
      "| [4.0,5.0,0.0,3.0]|\n",
      "| [6.0,7.0,0.0,8.0]|\n",
      "| [9.0,0.0,0.0,1.0]|\n",
      "|[1.0,0.0,0.0,-2.0]|\n",
      "+------------------+\n",
      "\n",
      "+-----------------------------------------------------------------------------------------------------------------------------------------------------------------------------------------------------------------------------------------------------------------------+\n",
      "|pearson(features)                                                                                                                                                                                                                                                      |\n",
      "+-----------------------------------------------------------------------------------------------------------------------------------------------------------------------------------------------------------------------------------------------------------------------+\n",
      "|1.0                 0.2522120576380154  NaN  0.5517643975445568  \n",
      "0.2522120576380154  1.0                 NaN  0.9262057975392757  \n",
      "NaN                 NaN                 1.0  NaN                 \n",
      "0.5517643975445568  0.9262057975392757  NaN  1.0                 |\n",
      "+-----------------------------------------------------------------------------------------------------------------------------------------------------------------------------------------------------------------------------------------------------------------------+\n",
      "\n",
      "+-----------------------------------------------------------------------------------------------------------------------------------------------------------------------------------------------------------------------------------------------------------------------+\n",
      "|spearman(features)                                                                                                                                                                                                                                                     |\n",
      "+-----------------------------------------------------------------------------------------------------------------------------------------------------------------------------------------------------------------------------------------------------------------------+\n",
      "|1.0                 0.3441236008058426  NaN  0.6842105263157896  \n",
      "0.3441236008058426  1.0                 NaN  0.917662935482247   \n",
      "NaN                 NaN                 1.0  NaN                 \n",
      "0.6842105263157896  0.917662935482247   NaN  1.0                 |\n",
      "+-----------------------------------------------------------------------------------------------------------------------------------------------------------------------------------------------------------------------------------------------------------------------+\n",
      "\n"
     ]
    }
   ],
   "source": [
    "# 使用了稠密向量稀疏向量\n",
    "from pyspark.ml.linalg import Vectors#lin+alg 线性代数\n",
    "from pyspark.ml.stat import Correlation\n",
    "dataset = [\n",
    "    [Vectors.dense([1,0,0,-2])],\n",
    "    [Vectors.dense([4,5,0,3])],\n",
    "    [Vectors.dense([6,7,0,8])],\n",
    "    [Vectors.dense([9,0,0,1])],\n",
    "    [Vectors.dense([1,0,0,-2])]\n",
    "]\n",
    "dataset = spark.createDataFrame(dataset,['features'])\n",
    "dataset.show()\n",
    "pearsonCorr = Correlation.corr(dataset,'features','pearson').show(truncate=False)\n",
    "\n",
    "spearmanCorr = Correlation.corr(dataset,'features',method='spearman').show(truncate=False)"
   ]
  },
  {
   "cell_type": "code",
   "execution_count": 20,
   "metadata": {
    "scrolled": false
   },
   "outputs": [
    {
     "data": {
      "text/plain": [
       "DenseVector([0.5, 0.0, 0.0, -1.0])"
      ]
     },
     "execution_count": 20,
     "metadata": {},
     "output_type": "execute_result"
    }
   ],
   "source": [
    "Vectors.dense([1, 0, 0, -2])/2"
   ]
  },
  {
   "cell_type": "code",
   "execution_count": 21,
   "metadata": {},
   "outputs": [
    {
     "name": "stdout",
     "output_type": "stream",
     "text": [
      "Correlation is: 0.8500286768773001\n",
      "[[1.         0.98473193 0.99316078]\n",
      " [0.98473193 1.         0.99832152]\n",
      " [0.99316078 0.99832152 1.        ]]\n"
     ]
    }
   ],
   "source": [
    "from __future__ import print_function\n",
    "\n",
    "import numpy as np\n",
    "\n",
    "from pyspark import SparkContext\n",
    "# $example on$\n",
    "from pyspark.mllib.stat import Statistics\n",
    "# $example off$\n",
    "\n",
    "if __name__ == \"__main__\":\n",
    "    sc = spark.sparkContext\n",
    "\n",
    "    # $example on$\n",
    "    seriesX = sc.parallelize([1.0, 2.0, 3.0, 3.0, 5.0])  # a series\n",
    "    # seriesY must have the same number of partitions and cardinality as seriesX\n",
    "    seriesY = sc.parallelize([11.0, 22.0, 33.0, 33.0, 555.0])\n",
    "\n",
    "    # Compute the correlation using Pearson's method. Enter \"spearman\" for Spearman's method.\n",
    "    # If a method is not specified, Pearson's method will be used by default.\n",
    "    print(\"Correlation is: \" + str(Statistics.corr(seriesX, seriesY, method=\"pearson\")))\n",
    "\n",
    "    data = sc.parallelize(\n",
    "        [np.array([1.0, 10.0, 100.0]), np.array([2.0, 20.0, 200.0]), np.array([5.0, 33.0, 366.0]), np.array([5.0, 33.0, 366.0])]\n",
    "    )  # an RDD of Vectors\n",
    "\n",
    "    # calculate the correlation matrix using Pearson's method. Use \"spearman\" for Spearman's method.\n",
    "    # If a method is not specified, Pearson's method will be used by default.\n",
    "    print(Statistics.corr(data, method=\"pearson\"))\n",
    "    # $example off$"
   ]
  },
  {
   "cell_type": "code",
   "execution_count": 22,
   "metadata": {},
   "outputs": [
    {
     "data": {
      "text/plain": [
       "array([[ 1.        , -0.16524238,         nan,  0.24090545],\n",
       "       [-0.16524238,  1.        ,         nan,  0.89613897],\n",
       "       [        nan,         nan,  1.        ,         nan],\n",
       "       [ 0.24090545,  0.89613897,         nan,  1.        ]])"
      ]
     },
     "execution_count": 22,
     "metadata": {},
     "output_type": "execute_result"
    }
   ],
   "source": [
    "from pyspark.mllib.stat import Statistics\n",
    "from pyspark.mllib.linalg import Vectors\n",
    "rdd = sc.parallelize([Vectors.dense([1, 0, 0, -2]), Vectors.dense([4, 5, 0, 3]),Vectors.dense([6, 7, 0,  8]), Vectors.dense([9, 0, 0, 1]), Vectors.dense([9, 0, 0, 1])])\n",
    "pearsonCorr = Statistics.corr(rdd)\n",
    "pearsonCorr"
   ]
  }
 ],
 "metadata": {
  "kernelspec": {
   "display_name": "Python 3",
   "language": "python",
   "name": "python3"
  },
  "language_info": {
   "codemirror_mode": {
    "name": "ipython",
    "version": 3
   },
   "file_extension": ".py",
   "mimetype": "text/x-python",
   "name": "python",
   "nbconvert_exporter": "python",
   "pygments_lexer": "ipython3",
   "version": "3.7.6"
  }
 },
 "nbformat": 4,
 "nbformat_minor": 2
}
